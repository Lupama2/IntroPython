{
 "cells": [
  {
   "attachments": {},
   "cell_type": "markdown",
   "metadata": {},
   "source": [
    "# Clase 05"
   ]
  },
  {
   "cell_type": "code",
   "execution_count": 4,
   "metadata": {},
   "outputs": [
    {
     "name": "stdout",
     "output_type": "stream",
     "text": [
      "Hago un testeo de un método de variables string\n"
     ]
    }
   ],
   "source": [
    "linea = \"           Hago un testeo de un método de variables string           \"\n",
    "print(linea.strip())"
   ]
  },
  {
   "attachments": {},
   "cell_type": "markdown",
   "metadata": {},
   "source": [
    "*Si decoro pierdo la funcionalidad de help() para acceder a la documentación de las funciones. Ya cuando anido funciones pierdo acceso a la documentación de la función anidada. Hay una forma de definir las funciones de modo de poder acceder a los comentarios de la función interior pero aún no lo vimos.\n",
    "*Qué significa \"../\" en open? Cómo sabe \"dónde está parado\" en lso archivos?\n",
    "El .. significa \"el directorio que está arriba mío\". Por ejemplo, si estoy ejecutando el IntroPython/clases/archivo 05_05_inout.ipynb y quiero ejecutar el archivo IntroPython/data/names.txt, entonces accedo con \"../data/names.txt\". Aquí \"..\" significa \"andá al directorio de arriba del que estoy, es decir, salí del directorio clases\". Luego, \"data/names.txt\" me guía al archivo que quiero leer.\n",
    "*No puedo ejecutar el ejemplo 05-1. En el ejemplo se usa el comando\n",
    "!head archivo\n",
    "Este comando es propio de Linux, no de Windows. Su función es imprimir las primeras 10 líneas del código. En windows se puede escribir\n",
    "!type \"../data/names.txt\" # Muestro el contenido del archivo\n",
    "con las línas / en lugar de \\. En este caso, se imprime todo el contenido del archivo\n"
   ]
  },
  {
   "attachments": {},
   "cell_type": "markdown",
   "metadata": {},
   "source": [
    "-----\n",
    "\n",
    "## Ejercicios 05 (a)\n",
    "\n",
    "1. Realice un programa que:\n",
    "  * Lea el archivo **names.txt**\n",
    "  * Guarde en un nuevo archivo (llamado \"pares.txt\") palabra por medio del archivo original (la primera, tercera, ...) una por línea, pero en el orden inverso al leído\n",
    "  * Agregue al final de dicho archivo, las palabras pares pero separadas por un punto y coma (;)\n",
    "  * En un archivo llamado \"longitudes.txt\" guarde las palabras ordenadas por su longitud, y para cada longitud ordenadas alfabéticamente.\n",
    "  * En un archivo llamado \"letras.txt\" guarde sólo aquellas palabras que contienen las letras `w,x,y,z`, con el formato:\n",
    "    - w: Walter, ....\n",
    "    - x: Xilofón, ...\n",
    "    - y: ....\n",
    "    - z: ....\n",
    "  * Cree un diccionario, donde cada *key* es la primera letra y cada valor es una lista, cuyo elemento es una tuple (palabra, longitud). Por ejemplo:\n",
    "  ```python\n",
    "  d['a'] = [('Aaa',3),('Anna', 4), ...]\n",
    "  ```\n",
    "\n",
    "\n",
    "2. Realice un programa para:\n",
    "    * Leer los datos del archivo **aluminio.dat** y poner los datos del elemento en un diccionario de la forma:\n",
    "```python\n",
    "    d = {'S': 'Al', 'Z':13, 'A':27, 'M': '26.98153863(12)', 'P': 1.0000, 'MS':'26.9815386(8)'}\n",
    "    ```\n",
    "    * Modifique el programa anterior para que las masas sean números (`float`) y descarte el valor de la incerteza (el número entre paréntesis)\n",
    "    * Agregue el código necesario para obtener una impresión de la forma:\n",
    "```\n",
    "    Elemento: Al\n",
    "    Número Atómico: 13\n",
    "    Número de Masa: 27\n",
    "    Masa: 26.98154\n",
    "```\n",
    "\n",
    "      Note que la masa sólo debe contener 5 números decimales\n",
    "\n",
    "-----"
   ]
  },
  {
   "attachments": {},
   "cell_type": "markdown",
   "metadata": {},
   "source": [
    "Hay excepciones generales (errores generales que se levantan)"
   ]
  },
  {
   "cell_type": "code",
   "execution_count": 10,
   "metadata": {},
   "outputs": [
    {
     "ename": "Exception",
     "evalue": "x = 1, no debería ser positivo",
     "output_type": "error",
     "traceback": [
      "\u001b[1;31m---------------------------------------------------------------------------\u001b[0m",
      "\u001b[1;31mException\u001b[0m                                 Traceback (most recent call last)",
      "\u001b[1;32mc:\\Users\\lupam\\OneDrive\\Escritorio\\GitHub\\IntroPython\\Ejercicios de clases\\clase_05.ipynb Celda 6\u001b[0m in \u001b[0;36m<cell line: 2>\u001b[1;34m()\u001b[0m\n\u001b[0;32m      <a href='vscode-notebook-cell:/c%3A/Users/lupam/OneDrive/Escritorio/GitHub/IntroPython/Ejercicios%20de%20clases/clase_05.ipynb#W2sZmlsZQ%3D%3D?line=0'>1</a>\u001b[0m x \u001b[39m=\u001b[39m \u001b[39m1\u001b[39m\n\u001b[0;32m      <a href='vscode-notebook-cell:/c%3A/Users/lupam/OneDrive/Escritorio/GitHub/IntroPython/Ejercicios%20de%20clases/clase_05.ipynb#W2sZmlsZQ%3D%3D?line=1'>2</a>\u001b[0m \u001b[39mif\u001b[39;00m x \u001b[39m>\u001b[39m \u001b[39m0\u001b[39m:\n\u001b[1;32m----> <a href='vscode-notebook-cell:/c%3A/Users/lupam/OneDrive/Escritorio/GitHub/IntroPython/Ejercicios%20de%20clases/clase_05.ipynb#W2sZmlsZQ%3D%3D?line=2'>3</a>\u001b[0m   \u001b[39mraise\u001b[39;00m \u001b[39mException\u001b[39;00m(\u001b[39mf\u001b[39m\u001b[39m\"\u001b[39m\u001b[39mx = \u001b[39m\u001b[39m{\u001b[39;00mx\u001b[39m}\u001b[39;00m\u001b[39m, no debería ser positivo\u001b[39m\u001b[39m\"\u001b[39m)\n\u001b[0;32m      <a href='vscode-notebook-cell:/c%3A/Users/lupam/OneDrive/Escritorio/GitHub/IntroPython/Ejercicios%20de%20clases/clase_05.ipynb#W2sZmlsZQ%3D%3D?line=3'>4</a>\u001b[0m \u001b[39mif\u001b[39;00m x\u001b[39m<\u001b[39m\u001b[39m0\u001b[39m:\n\u001b[0;32m      <a href='vscode-notebook-cell:/c%3A/Users/lupam/OneDrive/Escritorio/GitHub/IntroPython/Ejercicios%20de%20clases/clase_05.ipynb#W2sZmlsZQ%3D%3D?line=4'>5</a>\u001b[0m   \u001b[39mraise\u001b[39;00m \u001b[39mException\u001b[39;00m(\u001b[39mf\u001b[39m\u001b[39m\"\u001b[39m\u001b[39mx = \u001b[39m\u001b[39m{\u001b[39;00mx\u001b[39m}\u001b[39;00m\u001b[39m, sí debería ser positivo\u001b[39m\u001b[39m\"\u001b[39m)\n",
      "\u001b[1;31mException\u001b[0m: x = 1, no debería ser positivo"
     ]
    }
   ],
   "source": [
    "x = 1\n",
    "if x > 0:\n",
    "  raise Exception(f\"x = {x}, no debería ser positivo\")\n",
    "if x<0:\n",
    "  raise Exception(f\"x = {x}, sí debería ser positivo\")"
   ]
  },
  {
   "attachments": {},
   "cell_type": "markdown",
   "metadata": {},
   "source": [
    "pero tmb se puede pedir que se levante un error particular"
   ]
  },
  {
   "cell_type": "code",
   "execution_count": 11,
   "metadata": {},
   "outputs": [
    {
     "ename": "ValueError",
     "evalue": "x = 1, no debería ser positivo",
     "output_type": "error",
     "traceback": [
      "\u001b[1;31m---------------------------------------------------------------------------\u001b[0m",
      "\u001b[1;31mValueError\u001b[0m                                Traceback (most recent call last)",
      "\u001b[1;32mc:\\Users\\lupam\\OneDrive\\Escritorio\\GitHub\\IntroPython\\Ejercicios de clases\\clase_05.ipynb Celda 8\u001b[0m in \u001b[0;36m<cell line: 2>\u001b[1;34m()\u001b[0m\n\u001b[0;32m      <a href='vscode-notebook-cell:/c%3A/Users/lupam/OneDrive/Escritorio/GitHub/IntroPython/Ejercicios%20de%20clases/clase_05.ipynb#X10sZmlsZQ%3D%3D?line=0'>1</a>\u001b[0m x \u001b[39m=\u001b[39m \u001b[39m1\u001b[39m\n\u001b[0;32m      <a href='vscode-notebook-cell:/c%3A/Users/lupam/OneDrive/Escritorio/GitHub/IntroPython/Ejercicios%20de%20clases/clase_05.ipynb#X10sZmlsZQ%3D%3D?line=1'>2</a>\u001b[0m \u001b[39mif\u001b[39;00m x \u001b[39m>\u001b[39m \u001b[39m0\u001b[39m:\n\u001b[1;32m----> <a href='vscode-notebook-cell:/c%3A/Users/lupam/OneDrive/Escritorio/GitHub/IntroPython/Ejercicios%20de%20clases/clase_05.ipynb#X10sZmlsZQ%3D%3D?line=2'>3</a>\u001b[0m   \u001b[39mraise\u001b[39;00m \u001b[39mValueError\u001b[39;00m(\u001b[39mf\u001b[39m\u001b[39m\"\u001b[39m\u001b[39mx = \u001b[39m\u001b[39m{\u001b[39;00mx\u001b[39m}\u001b[39;00m\u001b[39m, no debería ser positivo\u001b[39m\u001b[39m\"\u001b[39m)\n",
      "\u001b[1;31mValueError\u001b[0m: x = 1, no debería ser positivo"
     ]
    }
   ],
   "source": [
    "x = 1\n",
    "if x > 0:\n",
    "  raise ValueError(f\"x = {x}, no debería ser positivo\")"
   ]
  },
  {
   "cell_type": "code",
   "execution_count": null,
   "metadata": {},
   "outputs": [],
   "source": [
    "No hay mecanismos para warnings\n",
    "\n",
    "Se pueden usar warnings, pero necesito una librería"
   ]
  },
  {
   "cell_type": "code",
   "execution_count": null,
   "metadata": {},
   "outputs": [],
   "source": [
    "import warnings\n",
    "x = 1\n",
    "if x > 0:\n",
    "  warnings.warn(f\"x = {x}, no debería ser positivo\")\n",
    "x = 2\n",
    "print(x)"
   ]
  }
 ],
 "metadata": {
  "kernelspec": {
   "display_name": "Maestria",
   "language": "python",
   "name": "python3"
  },
  "language_info": {
   "codemirror_mode": {
    "name": "ipython",
    "version": 3
   },
   "file_extension": ".py",
   "mimetype": "text/x-python",
   "name": "python",
   "nbconvert_exporter": "python",
   "pygments_lexer": "ipython3",
   "version": "3.9.12"
  },
  "orig_nbformat": 4,
  "vscode": {
   "interpreter": {
    "hash": "cb1dcd6e0b4bfbec9d527d1ab7c6c7d4b743ae11c2e9f2e62e6759bb0aaa74ae"
   }
  }
 },
 "nbformat": 4,
 "nbformat_minor": 2
}
