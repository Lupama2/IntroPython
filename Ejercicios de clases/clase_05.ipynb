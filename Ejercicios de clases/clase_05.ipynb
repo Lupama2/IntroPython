{
 "cells": [
  {
   "attachments": {},
   "cell_type": "markdown",
   "metadata": {},
   "source": [
    "# Clase 05"
   ]
  },
  {
   "cell_type": "code",
   "execution_count": 4,
   "metadata": {},
   "outputs": [
    {
     "name": "stdout",
     "output_type": "stream",
     "text": [
      "Hago un testeo de un método de variables string\n"
     ]
    }
   ],
   "source": [
    "linea = \"           Hago un testeo de un método de variables string           \"\n",
    "print(linea.strip())"
   ]
  },
  {
   "attachments": {},
   "cell_type": "markdown",
   "metadata": {},
   "source": [
    "Si decoro pierdo la funcionalidad de help() para acceder a la documentación de las funciones. Ya cuando anido funciones pierdo acceso a la documentación de la función anidada. Hay una forma de definir las funciones de modo de poder acceder a los comentarios de la función interior pero aún no lo vimos."
   ]
  },
  {
   "attachments": {},
   "cell_type": "markdown",
   "metadata": {},
   "source": [
    "Qué significa \"../\" en open? Cómo sabe \"dónde está parado\" en lso archivos?\n",
    "El .. significa \"el directorio que está arriba mío\". Por ejemplo, si estoy ejecutando el IntroPython/clases/archivo 05_05_inout.ipynb y quiero ejecutar el archivo IntroPython/data/names.txt, entonces accedo con \"../data/names.txt\". Aquí \"..\" significa \"andá al directorio de arriba del que estoy, es decir, salí del directorio clases\". Luego, \"data/names.txt\" me guía al archivo que quiero leer."
   ]
  },
  {
   "attachments": {},
   "cell_type": "markdown",
   "metadata": {},
   "source": [
    "No puedo ejecutar el ejemplo 05-1. En el ejemplo se usa el comando"
   ]
  },
  {
   "cell_type": "code",
   "execution_count": null,
   "metadata": {},
   "outputs": [],
   "source": [
    "!head archivo"
   ]
  },
  {
   "attachments": {},
   "cell_type": "markdown",
   "metadata": {},
   "source": [
    "Este comando es propio de Linux, no de Windows. Su función es imprimir las primeras 10 líneas del código. En windows se puede escribir"
   ]
  },
  {
   "cell_type": "code",
   "execution_count": null,
   "metadata": {},
   "outputs": [],
   "source": [
    "!type \"../data/names.txt\" # Muestro el contenido del archivo"
   ]
  },
  {
   "attachments": {},
   "cell_type": "markdown",
   "metadata": {},
   "source": [
    "con las línas / en lugar de \\. En este caso, se imprime todo el contenido del archivo\n"
   ]
  },
  {
   "attachments": {},
   "cell_type": "markdown",
   "metadata": {},
   "source": [
    "-----\n",
    "\n",
    "## Ejercicios 05 (a)\n",
    "\n",
    "1. Realice un programa que:\n",
    "  * Lea el archivo **names.txt**\n",
    "  * Guarde en un nuevo archivo (llamado \"pares.txt\") palabra por medio del archivo original (la primera, tercera, ...) una por línea, pero en el orden inverso al leído **DUDA: NO SÉ CÓMO HACERLO SIN METER FORS**\n",
    "  * Agregue al final de dicho archivo, las palabras pares pero separadas por un punto y coma (;)\n",
    "  * En un archivo llamado \"longitudes.txt\" guarde las palabras ordenadas por su longitud, y para cada longitud ordenadas alfabéticamente. **LO HICE BIEN?**\n",
    "  * En un archivo llamado \"letras.txt\" guarde sólo aquellas palabras que contienen las letras `w,x,y,z`, con el formato:\n",
    "    - w: Walter, ....\n",
    "    - x: Xilofón, ...\n",
    "    - y: ....\n",
    "    - z: ....\n",
    "  * Cree un diccionario, donde cada *key* es la primera letra y cada valor es una lista, cuyo elemento es una tuple (palabra, longitud). Por ejemplo:\n",
    "  ```python\n",
    "  d['a'] = [('Aaa',3),('Anna', 4), ...]\n",
    "  ```\n",
    "\n",
    "\n",
    "2. Realice un programa para:\n",
    "    * Leer los datos del archivo **aluminio.dat** y poner los datos del elemento en un diccionario de la forma:\n",
    "```python\n",
    "    d = {'S': 'Al', 'Z':13, 'A':27, 'M': '26.98153863(12)', 'P': 1.0000, 'MS':'26.9815386(8)'}\n",
    "    ```\n",
    "    * Modifique el programa anterior para que las masas sean números (`float`) y descarte el valor de la incerteza (el número entre paréntesis)\n",
    "    * Agregue el código necesario para obtener una impresión de la forma:\n",
    "```\n",
    "    Elemento: Al\n",
    "    Número Atómico: 13\n",
    "    Número de Masa: 27\n",
    "    Masa: 26.98154\n",
    "```\n",
    "\n",
    "      Note que la masa sólo debe contener 5 números decimales\n",
    "\n",
    "-----"
   ]
  },
  {
   "attachments": {},
   "cell_type": "markdown",
   "metadata": {},
   "source": [
    "### Parte 1"
   ]
  },
  {
   "cell_type": "code",
   "execution_count": 13,
   "metadata": {},
   "outputs": [],
   "source": [
    "file = open('data/names.txt') #Abro el archivo"
   ]
  },
  {
   "cell_type": "code",
   "execution_count": 14,
   "metadata": {},
   "outputs": [],
   "source": [
    "s = file.read() #Lo leo"
   ]
  },
  {
   "cell_type": "code",
   "execution_count": 65,
   "metadata": {},
   "outputs": [],
   "source": [
    "#Fuardo en un archivo palabra por medio (...)\n",
    "fname = 'data/pares.txt'\n",
    "with open(fname,'w') as fo:\n",
    "    fo.write('\\n'.join(s.split()[(len(s.split())//2)*2-1:0:-2]))\n",
    "#LO ANTERIOR NO VALE SI EL FILE TIENE ORIGINALMENTE UN NRO IMPAR DE ELEMENTOS. SE PUEDE HACER SIN USAR UN FOR O IF???"
   ]
  },
  {
   "cell_type": "code",
   "execution_count": 67,
   "metadata": {},
   "outputs": [],
   "source": [
    "#Agrego al final del archivo las palabras pares (...). Estoy considerando las líneas como 0, 1, 2, ..., es decir, la \"primera línea\" realmente es la segunda.\n",
    "fname = 'data/pares.txt'\n",
    "with open(fname,'a') as fo: #Modo 'a' de 'append' para no sobreescribir el archivp\n",
    "    fo.write(\"\\n\")\n",
    "    fo.write(';'.join(s.split()[0::2]))\n",
    "\n",
    "\n"
   ]
  },
  {
   "cell_type": "code",
   "execution_count": 78,
   "metadata": {},
   "outputs": [],
   "source": [
    "#Defino la función que utilizaré para comparar\n",
    "def name_comparison(x,y):\n",
    "    if(len(x) == len(y)):\n",
    "        cmp(x,y)\n",
    "    else:\n",
    "        cmp(len(x),len(y))\n",
    "    return\n",
    "\n",
    "#Leo el archivo names\n",
    "fname = \"data/names.txt\"\n",
    "\n",
    "with open(fname,'r') as fo:\n",
    "    s = fo.read()\n",
    "    s = s.split()\n",
    "    s.sort() #Ordeno alfabéticamente\n",
    "    s.sort(key = len) #Orden longitud\n",
    "    #ESTÁ BIEN LA FORMA DE ORDENARLOS?\n",
    "\n",
    "#Creo longitudes.txt\n",
    "fname = \"data/longitudes.txt\"\n",
    "with open(fname,'w') as fo:\n",
    "    fo.write(\"\\n\".join(s))"
   ]
  },
  {
   "cell_type": "code",
   "execution_count": 92,
   "metadata": {},
   "outputs": [],
   "source": [
    "\n",
    "#Leo el archivo names\n",
    "fname = \"data/names.txt\"\n",
    "with open(fname,'r') as fo:\n",
    "    s = fo.read()\n",
    "    s = s.split()\n",
    "\n",
    "    letras = [\"W\", \"X\", \"Y\", \"Z\"] #Asumo que los nombres arrancan siempre con mayúscula\n",
    "    d = {} #Creo un diccionario\n",
    "    for letra in letras:\n",
    "        d[letra] = []\n",
    "\n",
    "    for nombre in s:\n",
    "        if nombre[0] in letras:\n",
    "            d[nombre[0]].append(nombre)\n",
    "\n",
    "\n",
    "#Guardo en otro archivo\n",
    "fname = \"data/letras.txt\"\n",
    "with open(fname,'w') as fo:\n",
    "    for letra in list(d.keys()):\n",
    "        fo.write(letra + \": \" + \", \".join(d[letra]) + \"\\n\")\n"
   ]
  },
  {
   "cell_type": "code",
   "execution_count": 104,
   "metadata": {},
   "outputs": [
    {
     "name": "stdout",
     "output_type": "stream",
     "text": [
      "dict_keys(['a', 'b', 'c', 'd', 'e', 'f', 'g', 'h', 'i', 'j', 'k', 'l', 'm', 'n', 'o', 'p', 'q', 'r', 's', 't', 'u', 'v', 'w', 'x', 'y', 'z'])\n",
      "[('Aaa', 3), ('Aaron', 5), ('Aba', 3), ('Ababa', 5), ('Ada', 3), ('Ada', 3), ('Adam', 4), ('Adlai', 5), ('Adrian', 6), ('Adrienne', 8), ('Agatha', 6), ('Agnetha', 7), ('Ahmed', 5), ('Ahmet', 5), ('Aimee', 5), ('Al', 2), ('Ala', 3), ('Alain', 5), ('Alan', 4), ('Alasdair', 8), ('Alastair', 8), ('Albert', 6), ('Alberto', 7), ('Alejandro', 9), ('Alex', 4), ('Alexa', 5), ('Alexander', 9), ('Alexia', 6), ('Alexis', 6), ('Alf', 3), ('Alfred', 6), ('Alice', 5), ('Alison', 6), ('Allan', 5), ('Allen', 5), ('Alvin', 5), ('Ama', 3), ('Amanda', 6), ('Amarth', 6), ('Amedeo', 6), ('Ami', 3), ('Amigo', 5), ('Amir', 4), ('Amos', 4), ('Amy', 3), ('Ana', 3), ('Anais', 5), ('Anastasia', 9), ('Anatole', 7), ('Anatoly', 7), ('Anderson', 8), ('Andre', 5), ('Andrea', 6), ('Andreas', 7), ('Andrew', 6), ('Andries', 7), ('Andy', 4), ('Angela', 6), ('Angelica', 8), ('Angus', 5), ('Anita', 5), ('Ann', 3), ('Anna', 4), ('Anna', 4), ('Annard', 6), ('Anne', 4), ('Annie', 5), ('Anthea', 6), ('Anthony', 7), ('Anton', 5), ('Antonella', 9), ('Antonio', 7), ('Antony', 6), ('Anya', 4), ('April', 5), ('Archibald', 9), ('Archie', 6), ('Ariel', 5), ('Arlene', 6), ('Arne', 4), ('Arnold', 6), ('Art', 3), ('Arthur', 6), ('Athel', 5), ('Auberon', 7), ('Aubrey', 6), ('Audrey', 6), ('Augustus', 8), ('Avery', 5), ('Axel', 4)]\n"
     ]
    }
   ],
   "source": [
    "#Leo el archivo names\n",
    "fname = \"data/names.txt\"\n",
    "with open(fname,'r') as fo:\n",
    "    s = fo.read()\n",
    "    s = s.split()\n",
    "\n",
    "    letras = [] #Asumo que los nombres arrancan siempre con mayúscula\n",
    "    d = {} #Creo un diccionario\n",
    "    # for letra in letras:\n",
    "    #     d[letra] = []\n",
    "\n",
    "    for nombre in s:\n",
    "        if nombre[0].lower() in letras:\n",
    "            d[nombre[0].lower()].append((nombre,len(nombre)))\n",
    "        else:\n",
    "            letras.append(nombre[0].lower())\n",
    "            d[nombre[0].lower()] = []\n",
    "            d[nombre[0].lower()].append((nombre,len(nombre)))\n",
    "\n",
    "print(d.keys())\n",
    "print(d[\"a\"])"
   ]
  },
  {
   "attachments": {},
   "cell_type": "markdown",
   "metadata": {},
   "source": [
    "### Parte 2"
   ]
  },
  {
   "cell_type": "code",
   "execution_count": 128,
   "metadata": {},
   "outputs": [
    {
     "name": "stdout",
     "output_type": "stream",
     "text": [
      "Atomic Number = 13\n",
      "Atomic Symbol = Al\n",
      "Mass Number = 27\n",
      "Relative Atomic Mass = 26.98153863(12)\n",
      "Isotopic Composition = 1.0000\n",
      "Standard Atomic Weight = 26.9815386(8)\n",
      "\n"
     ]
    }
   ],
   "source": [
    "#Leo los datos del file\n",
    "fname = \"data/aluminio.dat\"\n",
    "with open(fname,'r') as fo:\n",
    "    s = fo.read()\n",
    "    print(s)\n",
    "    s = s.split(\"\\n\")\n",
    "    s = s[:-1] #El último elemento es un espacio en blanco, se lo saco.\n",
    "\n",
    "    d = {} #Creo el diccionario\n",
    "    keys = [\"S\",\"Z\",\"A\",\"M\",\"P\",\"MS\",\"\"]\n",
    "    for i in range(len(s)):\n",
    "        keyval = s[i].split(\"=\")\n",
    "        d[keys[i]] = keyval[1]\n"
   ]
  },
  {
   "cell_type": "code",
   "execution_count": 129,
   "metadata": {},
   "outputs": [
    {
     "name": "stdout",
     "output_type": "stream",
     "text": [
      "{'S': ' 13', 'Z': ' Al', 'A': ' 27', 'M': 26.98153863, 'P': ' 1.0000', 'MS': 26.9815386}\n"
     ]
    }
   ],
   "source": [
    "#Modifico los nros\n",
    "for item in d:\n",
    "    if \"(\" in d[item]:\n",
    "        d[item] = float(d[item][:d[item].index(\"(\")])\n",
    "print(d)"
   ]
  },
  {
   "cell_type": "code",
   "execution_count": 137,
   "metadata": {},
   "outputs": [
    {
     "name": "stdout",
     "output_type": "stream",
     "text": [
      "Elemento :  13\n",
      "Número Atómico :  Al\n",
      "Número de Masa :  27\n",
      "Masa : 26.98154\n"
     ]
    }
   ],
   "source": [
    "nombres = [\"Elemento\", \"Número Atómico\", \"Número de Masa\", \"Masa\"]\n",
    "for i in range(4):\n",
    "    value = d[list(d.keys())[i]]\n",
    "    \n",
    "    if type(value) != float:\n",
    "        print(nombres[i], \":\", value)\n",
    "    else:\n",
    "        print(nombres[i], f\": {value:.5f}\")"
   ]
  },
  {
   "cell_type": "code",
   "execution_count": null,
   "metadata": {},
   "outputs": [],
   "source": []
  },
  {
   "attachments": {},
   "cell_type": "markdown",
   "metadata": {},
   "source": [
    "Hay excepciones generales (errores generales que se levantan)"
   ]
  },
  {
   "cell_type": "code",
   "execution_count": 10,
   "metadata": {},
   "outputs": [
    {
     "ename": "Exception",
     "evalue": "x = 1, no debería ser positivo",
     "output_type": "error",
     "traceback": [
      "\u001b[1;31m---------------------------------------------------------------------------\u001b[0m",
      "\u001b[1;31mException\u001b[0m                                 Traceback (most recent call last)",
      "\u001b[1;32mc:\\Users\\lupam\\OneDrive\\Escritorio\\GitHub\\IntroPython\\Ejercicios de clases\\clase_05.ipynb Celda 6\u001b[0m in \u001b[0;36m<cell line: 2>\u001b[1;34m()\u001b[0m\n\u001b[0;32m      <a href='vscode-notebook-cell:/c%3A/Users/lupam/OneDrive/Escritorio/GitHub/IntroPython/Ejercicios%20de%20clases/clase_05.ipynb#W2sZmlsZQ%3D%3D?line=0'>1</a>\u001b[0m x \u001b[39m=\u001b[39m \u001b[39m1\u001b[39m\n\u001b[0;32m      <a href='vscode-notebook-cell:/c%3A/Users/lupam/OneDrive/Escritorio/GitHub/IntroPython/Ejercicios%20de%20clases/clase_05.ipynb#W2sZmlsZQ%3D%3D?line=1'>2</a>\u001b[0m \u001b[39mif\u001b[39;00m x \u001b[39m>\u001b[39m \u001b[39m0\u001b[39m:\n\u001b[1;32m----> <a href='vscode-notebook-cell:/c%3A/Users/lupam/OneDrive/Escritorio/GitHub/IntroPython/Ejercicios%20de%20clases/clase_05.ipynb#W2sZmlsZQ%3D%3D?line=2'>3</a>\u001b[0m   \u001b[39mraise\u001b[39;00m \u001b[39mException\u001b[39;00m(\u001b[39mf\u001b[39m\u001b[39m\"\u001b[39m\u001b[39mx = \u001b[39m\u001b[39m{\u001b[39;00mx\u001b[39m}\u001b[39;00m\u001b[39m, no debería ser positivo\u001b[39m\u001b[39m\"\u001b[39m)\n\u001b[0;32m      <a href='vscode-notebook-cell:/c%3A/Users/lupam/OneDrive/Escritorio/GitHub/IntroPython/Ejercicios%20de%20clases/clase_05.ipynb#W2sZmlsZQ%3D%3D?line=3'>4</a>\u001b[0m \u001b[39mif\u001b[39;00m x\u001b[39m<\u001b[39m\u001b[39m0\u001b[39m:\n\u001b[0;32m      <a href='vscode-notebook-cell:/c%3A/Users/lupam/OneDrive/Escritorio/GitHub/IntroPython/Ejercicios%20de%20clases/clase_05.ipynb#W2sZmlsZQ%3D%3D?line=4'>5</a>\u001b[0m   \u001b[39mraise\u001b[39;00m \u001b[39mException\u001b[39;00m(\u001b[39mf\u001b[39m\u001b[39m\"\u001b[39m\u001b[39mx = \u001b[39m\u001b[39m{\u001b[39;00mx\u001b[39m}\u001b[39;00m\u001b[39m, sí debería ser positivo\u001b[39m\u001b[39m\"\u001b[39m)\n",
      "\u001b[1;31mException\u001b[0m: x = 1, no debería ser positivo"
     ]
    }
   ],
   "source": [
    "x = 1\n",
    "if x > 0:\n",
    "  raise Exception(f\"x = {x}, no debería ser positivo\")\n",
    "if x<0:\n",
    "  raise Exception(f\"x = {x}, sí debería ser positivo\")"
   ]
  },
  {
   "attachments": {},
   "cell_type": "markdown",
   "metadata": {},
   "source": [
    "pero tmb se puede pedir que se levante un error particular"
   ]
  },
  {
   "cell_type": "code",
   "execution_count": 11,
   "metadata": {},
   "outputs": [
    {
     "ename": "ValueError",
     "evalue": "x = 1, no debería ser positivo",
     "output_type": "error",
     "traceback": [
      "\u001b[1;31m---------------------------------------------------------------------------\u001b[0m",
      "\u001b[1;31mValueError\u001b[0m                                Traceback (most recent call last)",
      "\u001b[1;32mc:\\Users\\lupam\\OneDrive\\Escritorio\\GitHub\\IntroPython\\Ejercicios de clases\\clase_05.ipynb Celda 8\u001b[0m in \u001b[0;36m<cell line: 2>\u001b[1;34m()\u001b[0m\n\u001b[0;32m      <a href='vscode-notebook-cell:/c%3A/Users/lupam/OneDrive/Escritorio/GitHub/IntroPython/Ejercicios%20de%20clases/clase_05.ipynb#X10sZmlsZQ%3D%3D?line=0'>1</a>\u001b[0m x \u001b[39m=\u001b[39m \u001b[39m1\u001b[39m\n\u001b[0;32m      <a href='vscode-notebook-cell:/c%3A/Users/lupam/OneDrive/Escritorio/GitHub/IntroPython/Ejercicios%20de%20clases/clase_05.ipynb#X10sZmlsZQ%3D%3D?line=1'>2</a>\u001b[0m \u001b[39mif\u001b[39;00m x \u001b[39m>\u001b[39m \u001b[39m0\u001b[39m:\n\u001b[1;32m----> <a href='vscode-notebook-cell:/c%3A/Users/lupam/OneDrive/Escritorio/GitHub/IntroPython/Ejercicios%20de%20clases/clase_05.ipynb#X10sZmlsZQ%3D%3D?line=2'>3</a>\u001b[0m   \u001b[39mraise\u001b[39;00m \u001b[39mValueError\u001b[39;00m(\u001b[39mf\u001b[39m\u001b[39m\"\u001b[39m\u001b[39mx = \u001b[39m\u001b[39m{\u001b[39;00mx\u001b[39m}\u001b[39;00m\u001b[39m, no debería ser positivo\u001b[39m\u001b[39m\"\u001b[39m)\n",
      "\u001b[1;31mValueError\u001b[0m: x = 1, no debería ser positivo"
     ]
    }
   ],
   "source": [
    "x = 1\n",
    "if x > 0:\n",
    "  raise ValueError(f\"x = {x}, no debería ser positivo\")"
   ]
  },
  {
   "cell_type": "code",
   "execution_count": null,
   "metadata": {},
   "outputs": [],
   "source": [
    "No hay mecanismos para warnings\n",
    "\n",
    "Se pueden usar warnings, pero necesito una librería"
   ]
  },
  {
   "cell_type": "code",
   "execution_count": null,
   "metadata": {},
   "outputs": [],
   "source": [
    "import warnings\n",
    "x = 1\n",
    "if x > 0:\n",
    "  warnings.warn(f\"x = {x}, no debería ser positivo\")\n",
    "x = 2\n",
    "print(x)"
   ]
  }
 ],
 "metadata": {
  "kernelspec": {
   "display_name": "Maestria",
   "language": "python",
   "name": "python3"
  },
  "language_info": {
   "codemirror_mode": {
    "name": "ipython",
    "version": 3
   },
   "file_extension": ".py",
   "mimetype": "text/x-python",
   "name": "python",
   "nbconvert_exporter": "python",
   "pygments_lexer": "ipython3",
   "version": "3.9.12"
  },
  "orig_nbformat": 4,
  "vscode": {
   "interpreter": {
    "hash": "cb1dcd6e0b4bfbec9d527d1ab7c6c7d4b743ae11c2e9f2e62e6759bb0aaa74ae"
   }
  }
 },
 "nbformat": 4,
 "nbformat_minor": 2
}
