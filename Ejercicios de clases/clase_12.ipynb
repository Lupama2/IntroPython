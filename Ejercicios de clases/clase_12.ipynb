{
 "cells": [
  {
   "attachments": {},
   "cell_type": "markdown",
   "metadata": {},
   "source": [
    "# Clase 11"
   ]
  },
  {
   "attachments": {},
   "cell_type": "markdown",
   "metadata": {},
   "source": [
    "### Ejercicio: Tasa de natalidad en Argentina\n",
    "\n",
    "En el archivo (*../data/tasa-natalidad.csv*) se encuentra una tabla con la tasa de natalidad en la Argentina, entre los años 2000 y 2018. El archivo es de tipo `.csv`, *comma separated values*, es decir que los datos están separados por comas. \n",
    "El objetivo de este ejercicio es realizar un gráfico represente estos datos. Para ello\n",
    "\n",
    "- Abra el archivo con un editor de texto y familiarícese con su estructura, para entender qué datos hay que leer.\n",
    "- Abra el archivo con Python y organice la información con `numpy`.\n",
    "- Haga un gráfico claro y bello representando los datos del punto anterior.\n",
    "- Usando `numpy`, obtenga las dos provincias de mayor tasa de natalidad, y las dos provincias de menor tasa de natalidad en promedio entre los años 2000-2018.\n",
    "- Haga un gráfico claro y bello representando los datos del punto anterior, comparándolos con  la tasa de natalidad promedio del país. \n",
    "\n",
    "\n",
    "\n"
   ]
  },
  {
   "attachments": {},
   "cell_type": "markdown",
   "metadata": {},
   "source": [
    "Creo que el problema de esta biblioteca es que el notebook termina pesando mucho (necesario para mantener la interactividad). Así que para compartir el notebook hay que borrar todas las salidas."
   ]
  },
  {
   "cell_type": "code",
   "execution_count": null,
   "metadata": {},
   "outputs": [],
   "source": []
  },
  {
   "cell_type": "code",
   "execution_count": null,
   "metadata": {},
   "outputs": [],
   "source": []
  }
 ],
 "metadata": {
  "language_info": {
   "name": "python"
  },
  "orig_nbformat": 4
 },
 "nbformat": 4,
 "nbformat_minor": 2
}
