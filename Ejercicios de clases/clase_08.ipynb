{
 "cells": [
  {
   "attachments": {},
   "cell_type": "markdown",
   "metadata": {},
   "source": [
    "# Clase 08 "
   ]
  },
  {
   "cell_type": "code",
   "execution_count": 1,
   "metadata": {},
   "outputs": [],
   "source": [
    "import numpy as np"
   ]
  },
  {
   "cell_type": "code",
   "execution_count": 2,
   "metadata": {},
   "outputs": [
    {
     "ename": "NameError",
     "evalue": "name 'lst' is not defined",
     "output_type": "error",
     "traceback": [
      "\u001b[1;31m---------------------------------------------------------------------------\u001b[0m",
      "\u001b[1;31mNameError\u001b[0m                                 Traceback (most recent call last)",
      "\u001b[1;32mc:\\Users\\lupam\\OneDrive\\Escritorio\\GitHub\\IntroPython\\Ejercicios de clases\\clase_08.ipynb Celda 3\u001b[0m in \u001b[0;36m<cell line: 1>\u001b[1;34m()\u001b[0m\n\u001b[1;32m----> <a href='vscode-notebook-cell:/c%3A/Users/lupam/OneDrive/Escritorio/GitHub/IntroPython/Ejercicios%20de%20clases/clase_08.ipynb#W0sZmlsZQ%3D%3D?line=0'>1</a>\u001b[0m a \u001b[39m=\u001b[39m np\u001b[39m.\u001b[39marray(lst)\n",
      "\u001b[1;31mNameError\u001b[0m: name 'lst' is not defined"
     ]
    }
   ],
   "source": [
    "a = np.array(lst)"
   ]
  },
  {
   "attachments": {},
   "cell_type": "markdown",
   "metadata": {},
   "source": [
    "lst no está definido anteriormente"
   ]
  },
  {
   "attachments": {},
   "cell_type": "markdown",
   "metadata": {},
   "source": [
    "-----\n",
    "\n",
    "## Ejercicios 08 (a)\n",
    "\n",
    "1. Genere arrays en 2d, cada uno de tamaño 10x10 con:\n",
    "   1. Un array con valores 1 en la \"diagonal principal\" y 0 en el resto (Matriz identidad).\n",
    "   \n",
    "   2. Un array con valores 0 en la \"diagonal principal\" y 1 en el resto.\n",
    "   \n",
    "   3. Un array con valores 1 en los bordes y 0 en el interior.\n",
    "   \n",
    "   4. Un array con números enteros consecutivos (empezando en 1) en los bordes y 0 en el interior.\n",
    "\n",
    "2. Diga qué resultado produce el siguiente código, y explíquelo\n",
    "  ```python\n",
    "  # Ejemplo propuesto por Jake VanderPlas\n",
    "  print(sum(range(5),-1))\n",
    "  from numpy import *\n",
    "  print(sum(range(5),-1))\n",
    "  ```\n",
    "\n",
    "-----"
   ]
  },
  {
   "attachments": {},
   "cell_type": "markdown",
   "metadata": {},
   "source": [
    "### Ejercicio 1"
   ]
  },
  {
   "cell_type": "code",
   "execution_count": 4,
   "metadata": {},
   "outputs": [
    {
     "name": "stdout",
     "output_type": "stream",
     "text": [
      "[[1. 0. 0. 0. 0. 0. 0. 0. 0. 0.]\n",
      " [0. 1. 0. 0. 0. 0. 0. 0. 0. 0.]\n",
      " [0. 0. 1. 0. 0. 0. 0. 0. 0. 0.]\n",
      " [0. 0. 0. 1. 0. 0. 0. 0. 0. 0.]\n",
      " [0. 0. 0. 0. 1. 0. 0. 0. 0. 0.]\n",
      " [0. 0. 0. 0. 0. 1. 0. 0. 0. 0.]\n",
      " [0. 0. 0. 0. 0. 0. 1. 0. 0. 0.]\n",
      " [0. 0. 0. 0. 0. 0. 0. 1. 0. 0.]\n",
      " [0. 0. 0. 0. 0. 0. 0. 0. 1. 0.]\n",
      " [0. 0. 0. 0. 0. 0. 0. 0. 0. 1.]]\n"
     ]
    }
   ],
   "source": [
    "one = np.eye(10)\n",
    "print(one)"
   ]
  },
  {
   "cell_type": "code",
   "execution_count": 7,
   "metadata": {},
   "outputs": [
    {
     "name": "stdout",
     "output_type": "stream",
     "text": [
      "[[0. 1. 1. 1. 1. 1. 1. 1. 1. 1.]\n",
      " [1. 0. 1. 1. 1. 1. 1. 1. 1. 1.]\n",
      " [1. 1. 0. 1. 1. 1. 1. 1. 1. 1.]\n",
      " [1. 1. 1. 0. 1. 1. 1. 1. 1. 1.]\n",
      " [1. 1. 1. 1. 0. 1. 1. 1. 1. 1.]\n",
      " [1. 1. 1. 1. 1. 0. 1. 1. 1. 1.]\n",
      " [1. 1. 1. 1. 1. 1. 0. 1. 1. 1.]\n",
      " [1. 1. 1. 1. 1. 1. 1. 0. 1. 1.]\n",
      " [1. 1. 1. 1. 1. 1. 1. 1. 0. 1.]\n",
      " [1. 1. 1. 1. 1. 1. 1. 1. 1. 0.]]\n"
     ]
    }
   ],
   "source": [
    "two = np.ones([10,10]) - one\n",
    "print(two)"
   ]
  },
  {
   "cell_type": "code",
   "execution_count": 9,
   "metadata": {},
   "outputs": [
    {
     "name": "stdout",
     "output_type": "stream",
     "text": [
      "[[0. 0. 0. 0. 0. 0. 0. 0. 0. 0.]\n",
      " [0. 1. 1. 1. 1. 1. 1. 1. 1. 0.]\n",
      " [0. 1. 1. 1. 1. 1. 1. 1. 1. 0.]\n",
      " [0. 1. 1. 1. 1. 1. 1. 1. 1. 0.]\n",
      " [0. 1. 1. 1. 1. 1. 1. 1. 1. 0.]\n",
      " [0. 1. 1. 1. 1. 1. 1. 1. 1. 0.]\n",
      " [0. 1. 1. 1. 1. 1. 1. 1. 1. 0.]\n",
      " [0. 1. 1. 1. 1. 1. 1. 1. 1. 0.]\n",
      " [0. 1. 1. 1. 1. 1. 1. 1. 1. 0.]\n",
      " [0. 0. 0. 0. 0. 0. 0. 0. 0. 0.]]\n"
     ]
    }
   ],
   "source": [
    "three = np.ones([10,10])\n",
    "three[:,0] = 0\n",
    "three[:,-1] = 0\n",
    "three[0,:] = 0\n",
    "three[-1,:] = 0\n",
    "print(three)"
   ]
  },
  {
   "cell_type": "code",
   "execution_count": 43,
   "metadata": {},
   "outputs": [
    {
     "name": "stdout",
     "output_type": "stream",
     "text": [
      "[[ 1. 38. 37. 36. 35. 34. 33. 32. 31. 30.]\n",
      " [ 2.  0.  0.  0.  0.  0.  0.  0.  0. 28.]\n",
      " [ 3.  0.  0.  0.  0.  0.  0.  0.  0. 27.]\n",
      " [ 4.  0.  0.  0.  0.  0.  0.  0.  0. 26.]\n",
      " [ 5.  0.  0.  0.  0.  0.  0.  0.  0. 25.]\n",
      " [ 6.  0.  0.  0.  0.  0.  0.  0.  0. 24.]\n",
      " [ 7.  0.  0.  0.  0.  0.  0.  0.  0. 23.]\n",
      " [ 8.  0.  0.  0.  0.  0.  0.  0.  0. 22.]\n",
      " [ 9.  0.  0.  0.  0.  0.  0.  0.  0. 21.]\n",
      " [10. 11. 12. 13. 14. 15. 16. 17. 18. 20.]]\n"
     ]
    }
   ],
   "source": [
    "four = np.zeros([10,10])\n",
    "four[:,0] = np.arange(1,11)\n",
    "four[-1,:]  = np.arange(10,20)\n",
    "four[9::-1,-1] = np.arange(20,30)\n",
    "four[0,9:0:-1] = np.arange(30,39)\n",
    "\n",
    "print(four)"
   ]
  },
  {
   "attachments": {},
   "cell_type": "markdown",
   "metadata": {},
   "source": [
    "### Ejercicio 2"
   ]
  },
  {
   "cell_type": "code",
   "execution_count": 45,
   "metadata": {},
   "outputs": [
    {
     "name": "stdout",
     "output_type": "stream",
     "text": [
      "10\n",
      "10\n"
     ]
    }
   ],
   "source": [
    "# Ejemplo propuesto por Jake VanderPlas\n",
    "print(sum(range(5),-1))\n",
    "from numpy import *\n",
    "print(sum(range(5),-1))"
   ]
  },
  {
   "attachments": {},
   "cell_type": "markdown",
   "metadata": {},
   "source": [
    "En la primer línea estamos llamando a la función sum() de Python\n",
    "En la segunda, estamos importando todos los elementos de numpy de modo que no sea necesario usar la notación numpy.sum(), por ejemplo\n",
    "En la tercera, estamos llamando a la función numpy.sum() que opera de forma distinta a la correspondiente en Python. Esta es tal que cuando se dice que arranque de -1, realmente arranca de -1, no del elemento -1\n",
    "\n",
    "Cuando importamos funciones de esa manera hay que tener cuidado porque podemos estar pisando funciones ya existentes y provocando comportamientos no esperados"
   ]
  },
  {
   "attachments": {},
   "cell_type": "markdown",
   "metadata": {},
   "source": [
    "-----\n",
    "\n",
    "## Ejercicios 08 (b)\n",
    "\n",
    "3. Escriba una función `suma_potencias(p, n)` (utilizando arrays y **Numpy**) que calcule la operación $$s_{2} = \\sum_{k=0}^{n}k^{p}$$. \n",
    "\n",
    "4.   Usando las funciones de numpy `sign` y `maximum` definir las siguientes funciones, que acepten como argumento un array y devuelvan un array con el mismo *shape*:\n",
    "  - función de Heaviside, que vale 1 para valores positivos de su argumento y 0 para valores negativos.\n",
    "  **Cómo comparo ndarrays?**\n",
    "  - La función escalón, que vale 0 para valores del argumento fuera del intervalo $(-1,1)$ y 1 para argumentos en el intervalo.\n",
    "  - La función rampa, que vale 0 para valores negativos de $x$ y $x$ para valores positivos.\n",
    "\n",
    "-----"
   ]
  },
  {
   "attachments": {},
   "cell_type": "markdown",
   "metadata": {},
   "source": [
    "### Ejercicio 3"
   ]
  },
  {
   "cell_type": "code",
   "execution_count": 3,
   "metadata": {},
   "outputs": [
    {
     "name": "stdout",
     "output_type": "stream",
     "text": [
      "[1 2 3 4 5 6 7 8 9]\n"
     ]
    }
   ],
   "source": [
    "import numpy as np\n",
    "test = np.arange(1,10,1)\n",
    "print(test)"
   ]
  },
  {
   "cell_type": "code",
   "execution_count": 5,
   "metadata": {},
   "outputs": [
    {
     "data": {
      "text/plain": [
       "14"
      ]
     },
     "execution_count": 5,
     "metadata": {},
     "output_type": "execute_result"
    }
   ],
   "source": [
    "def suma_potencias(p,n):\n",
    "    k_array = np.arange(0,n+1,1)\n",
    "    k_array_to_p = k_array**p\n",
    "    suma = np.sum(k_array_to_p)\n",
    "\n",
    "    return suma\n",
    "\n",
    "suma_potencias(2,3)"
   ]
  },
  {
   "attachments": {},
   "cell_type": "markdown",
   "metadata": {},
   "source": [
    "### Ejercicio 4\n",
    "\n",
    "The sign function returns -1 if x < 0, 0 if x==0, 1 if x > 0. nan is returned for nan inputs.\n",
    "\n",
    "maximum: Compare two arrays and returns a new array containing the element-wise maxima"
   ]
  },
  {
   "cell_type": "code",
   "execution_count": 6,
   "metadata": {},
   "outputs": [
    {
     "data": {
      "text/plain": [
       "array([2, 2, 3])"
      ]
     },
     "execution_count": 6,
     "metadata": {},
     "output_type": "execute_result"
    }
   ],
   "source": [
    "x1 = [1,2,3]\n",
    "x2 = [2,2,1]\n",
    "np.maximum(x1,x2)"
   ]
  },
  {
   "cell_type": "code",
   "execution_count": 24,
   "metadata": {},
   "outputs": [
    {
     "data": {
      "text/plain": [
       "array([0. , 0. , 0. , 0.5, 1. , 1. , 1. ])"
      ]
     },
     "execution_count": 24,
     "metadata": {},
     "output_type": "execute_result"
    }
   ],
   "source": [
    "def Heaviside(x):\n",
    "    #Si hago la siguiente comparación no puedo tomar ndarrays\n",
    "    # if x == 0:\n",
    "    #     return float('NaN')\n",
    "    # else:    \n",
    "    return (np.sign(x)/2) + 0.5\n",
    "\n",
    "test = np.array([-2,-1, -0.5, 0, 0.5, 1.,2])\n",
    "Heaviside(test)"
   ]
  },
  {
   "cell_type": "code",
   "execution_count": 25,
   "metadata": {},
   "outputs": [
    {
     "data": {
      "text/plain": [
       "array([0. , 0.5, 1. , 1. , 1. , 0.5, 0. ])"
      ]
     },
     "execution_count": 25,
     "metadata": {},
     "output_type": "execute_result"
    }
   ],
   "source": [
    "def escalon(x):\n",
    "    return  Heaviside(x+1) - Heaviside(x-1)\n",
    "\n",
    "escalon(test)"
   ]
  },
  {
   "cell_type": "code",
   "execution_count": 26,
   "metadata": {},
   "outputs": [
    {
     "data": {
      "text/plain": [
       "array([0. , 0. , 0. , 0. , 0.5, 1. , 2. ])"
      ]
     },
     "execution_count": 26,
     "metadata": {},
     "output_type": "execute_result"
    }
   ],
   "source": [
    "def rampa(x):\n",
    "    zeros = np.zeros(len(x))\n",
    "    return np.maximum(zeros, x)\n",
    "\n",
    "rampa(test)"
   ]
  },
  {
   "attachments": {},
   "cell_type": "markdown",
   "metadata": {},
   "source": [
    "\n",
    "5. **Caída libre** Cree una función que calcule la posición y velocidad de una partícula en caída libre para condiciones iniciales dadas ($h_{0}$, $v_{0}$), y un valor de gravedad dados. Se utilizará la convención de que alturas y velocidades positivas corresponden a vectores apuntando hacia arriba (una velocidad positiva significa que la partícula se aleja de la tierra). \n",
    "\n",
    "La función debe realizar el cálculo de la velocidad y altura para un conjunto de tiempos equiespaciados. \n",
    "Los valores de velocidad inicial, altura inicial, valor de gravedad, y número de puntos deben ser argumentos de la función con valores por defecto adecuadamente provistos. La tabla de valores debe darse hasta que la partícula toca el piso (valor $h=0$).\n",
    "\n",
    "Guarde los resultados en tres columnas (t, v(t), h(t)) en un archivo de nombre \"caida_vel_alt.dat\"\n",
    "donde \"vel\" corresponde al valor de la velocidad inicial y \"alt\" al de la altura inicial.\n"
   ]
  },
  {
   "attachments": {},
   "cell_type": "markdown",
   "metadata": {},
   "source": [
    "### Ejercicio 5"
   ]
  },
  {
   "cell_type": "code",
   "execution_count": 41,
   "metadata": {},
   "outputs": [],
   "source": [
    "#a = -g\n",
    "#v = -g*t + v0\n",
    "#z = -g/2*t**2 + v0*t + h0\n",
    "\n",
    "def dinamica(h0=0,v0=0,g=10, N=1):\n",
    "    #Desde t = 0 hasta t tal que h = 0\n",
    "    \n",
    "    #t array\n",
    "    t0 = 0\n",
    "    tmax = (-v0 - np.sqrt(v0**2 - 4*(-g/2)*h0))/(-g)\n",
    "    t_array = np.linspace(t0,tmax, N)\n",
    "\n",
    "    #h_array\n",
    "    h_array = -g/2*t_array**2 + v0*t_array + h0\n",
    "\n",
    "    #v_array\n",
    "    v_array = -g*t_array + v0\n",
    "\n",
    "    #Guardo los resultados\n",
    "    archivo = f\"caida_{v0}_{h0}.dat\"\n",
    "\n",
    "    np.savetxt(archivo, np.array([t_array, v_array, h_array]).transpose())\n",
    "\n",
    "dinamica(1,1,N = 10)\n"
   ]
  },
  {
   "attachments": {},
   "cell_type": "markdown",
   "metadata": {},
   "source": [
    "\n",
    "\n",
    "6. **PARA ENTREGAR** Queremos realizar numéricamente la integral\n",
    "  $$\n",
    "  \\int_{a}^{b}f(x)dx\n",
    "  $$\n",
    "  utilizando el método de los trapecios. Para eso partimos el intervalo $[a,b]$ en $N$ subintervalos y aproximamos la curva en cada subintervalo por una recta\n",
    "\n",
    "![](figuras/trapez_rule_wiki.png)\n",
    "\n",
    "  La línea azul representa la función $f(x)$ y la línea roja la interpolación por una recta (figura de https://en.wikipedia.org/wiki/Trapezoidal_rule)\n",
    "\n",
    "  Si llamamos $x_{i}$ ($i=0,\\ldots,n,$ con $x_{0}=a$ y $x_{n}=b$) los puntos equiespaciados, entonces queda\n",
    "  $$\n",
    "     \\int_{a}^{b}f(x)dx\\approx\\frac{h}{2}\\sum_{i=1}^{n}\\left(f(x_{i})+f(x_{i-1})\\right).\n",
    "  $$\n",
    "\n",
    "  * Escriba una función  `trapz(x, y)` que reciba dos arrays unidimensionales `x` e `y` y aplique la fórmula de los trapecios.\n",
    "\n",
    "  * Escriba una función `trapzf(f, a, b, npts=100)` que recibe una función `f`, los límites `a`, `b` y el número de puntos a utilizar `npts`, y devuelve el valor de la integral por trapecios.\n",
    "\n",
    "  * Calcule la integral logarítmica de Euler:\n",
    "  $$\\mathrm{Li}(t) = \\int_2^t \\frac{1}{\\ln x} dx$$\n",
    "  usando la función ´trapzf´ para valores de `npts=10, 20, 30, 40, 50, 60`\n",
    "\n",
    "**NOTA:** Envíe el programa llamado **08_Suapellido.py** en un adjunto por correo electrónico, con asunto: **08_Suapellido**.\n",
    "\n",
    "-----"
   ]
  },
  {
   "cell_type": "code",
   "execution_count": 58,
   "metadata": {},
   "outputs": [],
   "source": [
    "def trapz(x,y):\n",
    "    '''\n",
    "    Aplica la fórmula de los trapecios a los arrays unidimensionales x e y\n",
    "    (https://en.wikipedia.org/wiki/Trapezoidal_rule)\n",
    "    \n",
    "    Parameters\n",
    "    ----------\n",
    "    x: ndarray\n",
    "    y: ndarray\n",
    "\n",
    "    Returns\n",
    "    -------\n",
    "    float: resultado de aplicar la fórmula de los trapecios\n",
    "\n",
    "    '''\n",
    "    h = x[1] - x[0] #Asumiendo que están equiespaciados\n",
    "\n",
    "    #Creo los términos que voy a sumar\n",
    "    f_xi = y[1:] #ndarray de términos f(x_i)\n",
    "    f_xii = y[0:-1] #ndarray de términos f(x_{i-1})\n",
    "    \n",
    "    return h/2*np.sum(f_xi + f_xii)\n"
   ]
  },
  {
   "cell_type": "code",
   "execution_count": 59,
   "metadata": {},
   "outputs": [],
   "source": [
    "def trapzf(f,a,b,npts = 100):\n",
    "    '''\n",
    "    Calcula el valor de la integral por trapecios\n",
    "\n",
    "    Parameters\n",
    "    ----------\n",
    "    f: función\n",
    "    a, b: límites inferior y superior\n",
    "    npts: número de puntos a utilizar\n",
    "    \n",
    "    '''\n",
    "    #Creo el array x\n",
    "    x_array = np.linspace(a,b,npts)\n",
    "\n",
    "    #Creo el array y. Asumo por defecto que f no es capaz de tomar ndarrays como entrada\n",
    "    y_array = np.zeros(npts)\n",
    "    for i in range(npts):\n",
    "        y_array[i] = f(x_array[i])\n",
    "\n",
    "    return trapz(x_array,y_array)"
   ]
  },
  {
   "cell_type": "code",
   "execution_count": 84,
   "metadata": {},
   "outputs": [
    {
     "name": "stdout",
     "output_type": "stream",
     "text": [
      "Test: para t = 10\n",
      "npts\tvalor\n",
      "10\t5.183687078923064\n",
      "20\t5.135288033966899\n",
      "30\t5.126868979384902\n",
      "40\t5.124004191477378\n",
      "50\t5.122699629466988\n",
      "60\t5.121998485280046\n"
     ]
    }
   ],
   "source": [
    "def f_Euler(x):\n",
    "    '''\n",
    "    Integrando de la integral logarítmica de Euler\n",
    "    '''\n",
    "    return 1/np.log(x)\n",
    "\n",
    "def Li(t,npts):\n",
    "    '''\n",
    "    Calcula la integral logarítmica de Euler mediante el método de trapecios\n",
    "\n",
    "    Parameters\n",
    "    ----------\n",
    "    t: límite superior de la integral\n",
    "    npts: número de puntos a utilizar en el método de trapecios\n",
    "\n",
    "    '''\n",
    "\n",
    "    return trapzf(f_Euler, 2, t, npts)\n",
    "\n",
    "\n",
    "#Calculo la integral (test)\n",
    "\n",
    "# t = 10\n",
    "# print(f\"Test: para t = {t}\")\n",
    "# print(\"npts\", \"valor\", sep = \"\\t\")\n",
    "# npts_array = np.arange(10,61,10)\n",
    "# integral = np.zeros(len(npts_array))\n",
    "# for i in range(len(npts_array)):\n",
    "#     print(npts_array[i], Li(t, npts_array[i]), sep = \"\\t\")\n"
   ]
  },
  {
   "cell_type": "code",
   "execution_count": 78,
   "metadata": {},
   "outputs": [],
   "source": [
    "x_array = np.linspace(1,2,10)\n",
    "h_Pablo = x_array[1]-x_array[0]\n",
    "h_Gasti = (x_array[-1] - x_array[0])/np.shape(x_array)[0]"
   ]
  },
  {
   "cell_type": "code",
   "execution_count": null,
   "metadata": {},
   "outputs": [],
   "source": []
  }
 ],
 "metadata": {
  "kernelspec": {
   "display_name": "Maestria",
   "language": "python",
   "name": "python3"
  },
  "language_info": {
   "codemirror_mode": {
    "name": "ipython",
    "version": 3
   },
   "file_extension": ".py",
   "mimetype": "text/x-python",
   "name": "python",
   "nbconvert_exporter": "python",
   "pygments_lexer": "ipython3",
   "version": "3.9.16"
  },
  "orig_nbformat": 4,
  "vscode": {
   "interpreter": {
    "hash": "cb1dcd6e0b4bfbec9d527d1ab7c6c7d4b743ae11c2e9f2e62e6759bb0aaa74ae"
   }
  }
 },
 "nbformat": 4,
 "nbformat_minor": 2
}
