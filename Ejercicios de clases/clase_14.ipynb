{
 "cells": [
  {
   "attachments": {},
   "cell_type": "markdown",
   "metadata": {},
   "source": [
    "# Clase 14"
   ]
  },
  {
   "attachments": {},
   "cell_type": "markdown",
   "metadata": {},
   "source": [
    "-----\n",
    "\n",
    "## Ejercicios 14 (a)\n",
    "\n",
    "1. Utilizando **Matplotlib**:\n",
    "   - Hacer un gráfico donde dibuje una parábola $y = x^{2}$ en el rango $[-5,5]$.\n",
    "   - En el mismo gráfico, agregar un círculo en $x=-5$.\n",
    "   - El círculo debe moverse siguiendo la curva, como se muestra en la figura\n",
    "\n",
    "   ![](figuras/pelota.gif)\n",
    "   \n",
    "\n",
    "2. **PARA ENTREGAR. Caída libre 2:** Realizar animaciones del ejercicio de caída libre de la clase 8, de forma tal que:\n",
    "   - La animación tenga  un cartel indicando el tiempo, y la velocidad y altura correspondiente a ese tiempo.\n",
    "   - Agregar una \"cola fantasma\" a la partícula, que muestre posiciones anteriores.\n",
    "\n",
    "   Envíe el programa llamado **14_Suapellido.py** en un adjunto por correo electrónico, con asunto: **14_Suapellido**\n",
    "\n",
    "-----\n"
   ]
  },
  {
   "attachments": {},
   "cell_type": "markdown",
   "metadata": {},
   "source": [
    "### Ejercicio 1"
   ]
  },
  {
   "attachments": {},
   "cell_type": "markdown",
   "metadata": {},
   "source": [
    "### Ejercicio 2"
   ]
  },
  {
   "cell_type": "code",
   "execution_count": 2,
   "metadata": {},
   "outputs": [
    {
     "data": {
      "text/plain": [
       "<contextlib.ExitStack at 0x1be26c258d0>"
      ]
     },
     "execution_count": 2,
     "metadata": {},
     "output_type": "execute_result"
    }
   ],
   "source": [
    "\n"
   ]
  },
  {
   "cell_type": "code",
   "execution_count": 3,
   "metadata": {},
   "outputs": [],
   "source": [
    "#Caída Libre clase 08\n",
    "\n",
    "#a = -g\n",
    "#v = -g*t + v0\n",
    "#z = -g/2*t**2 + v0*t + h0\n",
    "\n",
    "def dinamica(h0=0,v0=0,g=10, N=1):\n",
    "    #Desde t = 0 hasta t tal que h = 0\n",
    "    \n",
    "    #t array\n",
    "    t0 = 0\n",
    "    tmax = (-v0 - np.sqrt(v0**2 - 4*(-g/2)*h0))/(-g)\n",
    "    t_array = np.linspace(t0,tmax, N)\n",
    "\n",
    "    #h_array\n",
    "    h_array = -g/2*t_array**2 + v0*t_array + h0\n",
    "\n",
    "    #v_array\n",
    "    v_array = -g*t_array + v0\n",
    "\n",
    "    #Guardo los resultados\n",
    "    archivo = f\"caida_{v0}_{h0}.dat\"\n",
    "\n",
    "    np.savetxt(archivo, np.array([t_array, v_array, h_array]).transpose())\n",
    "\n"
   ]
  },
  {
   "cell_type": "code",
   "execution_count": 59,
   "metadata": {},
   "outputs": [
    {
     "name": "stderr",
     "output_type": "stream",
     "text": [
      "C:\\Users\\lupam\\AppData\\Local\\Temp\\ipykernel_5128\\421744759.py:31: MatplotlibDeprecationWarning: Setting data with a non sequence type is deprecated since 3.7 and will be remove two minor releases later\n",
      "  point.set_data(data[:, num])\n",
      "C:\\Users\\lupam\\AppData\\Local\\Temp\\ipykernel_5128\\421744759.py:33: MatplotlibDeprecationWarning: Setting data with a non sequence type is deprecated since 3.7 and will be remove two minor releases later\n",
      "  point_ghost1.set_data(data[:, num])\n",
      "C:\\Users\\lupam\\AppData\\Local\\Temp\\ipykernel_5128\\421744759.py:34: MatplotlibDeprecationWarning: Setting data with a non sequence type is deprecated since 3.7 and will be remove two minor releases later\n",
      "  point_ghost2.set_data(data[:, num])\n",
      "C:\\Users\\lupam\\AppData\\Local\\Temp\\ipykernel_5128\\421744759.py:36: MatplotlibDeprecationWarning: Setting data with a non sequence type is deprecated since 3.7 and will be remove two minor releases later\n",
      "  point_ghost1.set_data(data[:, num-1])\n",
      "C:\\Users\\lupam\\AppData\\Local\\Temp\\ipykernel_5128\\421744759.py:37: MatplotlibDeprecationWarning: Setting data with a non sequence type is deprecated since 3.7 and will be remove two minor releases later\n",
      "  point_ghost2.set_data(data[:, num-1])\n",
      "C:\\Users\\lupam\\AppData\\Local\\Temp\\ipykernel_5128\\421744759.py:39: MatplotlibDeprecationWarning: Setting data with a non sequence type is deprecated since 3.7 and will be remove two minor releases later\n",
      "  point_ghost1.set_data(data[:, num-1])\n",
      "C:\\Users\\lupam\\AppData\\Local\\Temp\\ipykernel_5128\\421744759.py:40: MatplotlibDeprecationWarning: Setting data with a non sequence type is deprecated since 3.7 and will be remove two minor releases later\n",
      "  point_ghost2.set_data(data[:, num-2])\n"
     ]
    }
   ],
   "source": [
    "#Animación\n",
    "\n",
    "#Creo datos\n",
    "h0 = 1\n",
    "v0 = 5\n",
    "g = 10\n",
    "N_puntos = 100\n",
    "\n",
    "dinamica(h0,v0, g, N_puntos)\n",
    "\n",
    "#Calculo la altura máxima, de modo de fijar el límite superior del gráfico\n",
    "#hmax está dado por la condición v = 0, equivalente a t = v0/g, de modo que\n",
    "tmax = v0/g\n",
    "hmax = -g/2*tmax**2 + v0*tmax + h0\n",
    "\n",
    "#Cargo datos\n",
    "datos = np.loadtxt(f\"caida_{v0}_{h0}.dat\")\n",
    "t_array, v_array, h_array = datos[:,0], datos[:,1], datos[:,2]\n",
    "x_array = np.zeros(len(h_array))\n",
    "data = np.vstack([x_array, h_array])\n",
    "\n",
    "\n",
    "def update_point(num, data, elementos):\n",
    "  #Separo los elementos\n",
    "  point = elementos[0]\n",
    "  point_ghost1 = elementos[1]\n",
    "  point_ghost2 = elementos[2]\n",
    "  texto = elementos[3]\n",
    "\n",
    "  #Actualizo cada elemento\n",
    "  point.set_data(data[:, num])\n",
    "  if num == 0:\n",
    "    point_ghost1.set_data(data[:, num])\n",
    "    point_ghost2.set_data(data[:, num])\n",
    "  if num == 1:\n",
    "    point_ghost1.set_data(data[:, num-1])\n",
    "    point_ghost2.set_data(data[:, num-1])\n",
    "  if num>1:\n",
    "    point_ghost1.set_data(data[:, num-1])\n",
    "    point_ghost2.set_data(data[:, num-2])\n",
    "  texto.set_text(f\"t = {round(t_array[num],2)} \\nv = {round(v_array[num],2)} \\nh = {round(h_array[num],2)}\")\n",
    "\n",
    "  return elementos\n",
    "\n",
    "\n",
    "\n",
    "# Creo la figura e inicializo\n",
    "fig1, ax = plt.subplots(figsize=(12,8))\n",
    "\n",
    "#Creo los elementos\n",
    "P, = plt.plot([], [], 'o', color = \"tab:red\") # equivalente a la siguiente\n",
    "P_ghost1, = plt.plot([], [], 'o', color = \"tab:red\", alpha = 0.5)\n",
    "P_ghost2, = plt.plot([], [], 'o', color = \"tab:red\", alpha = 0.25)\n",
    "font = {'family': 'serif',\n",
    "        'color':  'tab:blue',\n",
    "        'weight': 'normal',\n",
    "        'size': 16,\n",
    "        }\n",
    "texto = plt.text(x = -0.35,y = hmax/2, s = \"\\t\\tt\\tt\\t\", fontdict = font)\n",
    "\n",
    "elementos = [P, P_ghost1, P_ghost2, texto]\n",
    "\n",
    "#Fijo límites\n",
    "ax.set_xlim(-.5, .5)\n",
    "ax.set_ylim(0, 5/4*hmax)\n",
    "ax.set_xlabel('x')\n",
    "ax.set_ylabel('h')\n",
    "ax.set_title('Animación de una caída libre')\n",
    "\n",
    "line_ani = animation.FuncAnimation(fig1, update_point, N_puntos, fargs=(data, elementos), interval=300, blit=True)\n",
    "\n",
    "plt.show()"
   ]
  },
  {
   "attachments": {},
   "cell_type": "markdown",
   "metadata": {},
   "source": [
    "-----\n",
    "\n",
    "## Ejercicios 14 (b)\n",
    "\n",
    "3. Modificar el ejemplo anterior para presentar en una figura tres gráficos, agregando a la izquierda un panel donde se muestre un corte horizontal. El corte debe estar en la mitad del gráfico ($y_{0}=136$). En la figura debe mostrar la posición del corte (similarmente a como se hizo con el corte en $x$) con una línea de otro color.\n",
    "\n",
    "-----"
   ]
  },
  {
   "attachments": {},
   "cell_type": "markdown",
   "metadata": {},
   "source": [
    "-----\n",
    "\n",
    "## Ejercicios 14 (c)\n",
    "\n",
    "4. Modificar el ejemplo anterior (**analizar_figura_2.py**) para presentar tres gráficos, agregando a la izquierda un panel donde se muestre el corte horizontal de la misma manera que en el ejercicio anterior. Al seleccionar con el *mouse* debe mostrar los dos cortes (horizontal y vertical).\n",
    "\n",
    "-----"
   ]
  },
  {
   "cell_type": "markdown",
   "metadata": {},
   "source": []
  }
 ],
 "metadata": {
  "kernelspec": {
   "display_name": "IntroPython",
   "language": "python",
   "name": "python3"
  },
  "language_info": {
   "codemirror_mode": {
    "name": "ipython",
    "version": 3
   },
   "file_extension": ".py",
   "mimetype": "text/x-python",
   "name": "python",
   "nbconvert_exporter": "python",
   "pygments_lexer": "ipython3",
   "version": "3.10.9"
  },
  "orig_nbformat": 4
 },
 "nbformat": 4,
 "nbformat_minor": 2
}
