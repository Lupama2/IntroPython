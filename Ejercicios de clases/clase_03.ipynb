{
 "cells": [
  {
   "attachments": {},
   "cell_type": "markdown",
   "metadata": {},
   "source": [
    "### Ejercicios de la clase 03\n"
   ]
  },
  {
   "attachments": {},
   "cell_type": "markdown",
   "metadata": {},
   "source": [
    "#### Test\n"
   ]
  },
  {
   "cell_type": "code",
   "execution_count": 36,
   "metadata": {},
   "outputs": [],
   "source": [
    "entrada = {'nombre':'Juan', \n",
    "      'apellido': 'García', \n",
    "      'edad': 109, \n",
    "      'dirección': '''Av Bustillo 9500,''', \n",
    "      'cod':8400,  \n",
    "      'ciudad': \"Bariloche\"}\n"
   ]
  },
  {
   "cell_type": "code",
   "execution_count": 37,
   "metadata": {},
   "outputs": [
    {
     "data": {
      "text/plain": [
       "dict_items([('nombre', 'Juan'), ('apellido', 'García'), ('edad', 109), ('dirección', 'Av Bustillo 9500,'), ('cod', 8400), ('ciudad', 'Bariloche')])"
      ]
     },
     "execution_count": 37,
     "metadata": {},
     "output_type": "execute_result"
    }
   ],
   "source": [
    "#Las funciones\n",
    "entrada.keys()\n",
    "entrada.values()\n",
    "entrada.items()\n",
    "#devuelven un iterable, no una lista. De modo que para conseguir una lista hay que aplicarle list()"
   ]
  },
  {
   "cell_type": "code",
   "execution_count": 38,
   "metadata": {},
   "outputs": [
    {
     "data": {
      "text/plain": [
       "True"
      ]
     },
     "execution_count": 38,
     "metadata": {},
     "output_type": "execute_result"
    }
   ],
   "source": [
    "#Se puede usar in para listas\n",
    "lista_test = [1,2,3,4,5,6]\n",
    "1 in lista_test"
   ]
  },
  {
   "cell_type": "code",
   "execution_count": 39,
   "metadata": {},
   "outputs": [
    {
     "name": "stdout",
     "output_type": "stream",
     "text": [
      "{1, 'b', 'a'} <class 'set'>\n"
     ]
    }
   ],
   "source": [
    "#Conjuntos\n",
    "c = {\"a\", \"b\", 1} #puede tener elementos de distinto tipo\n",
    "print(c, type(c))"
   ]
  },
  {
   "attachments": {},
   "cell_type": "markdown",
   "metadata": {},
   "source": [
    "puede haber una diferencia de cómputo bastante grande entre usar listas y conjuntos! Los conjuntos pueden llegar a ser más baratos"
   ]
  },
  {
   "cell_type": "code",
   "execution_count": 40,
   "metadata": {},
   "outputs": [
    {
     "name": "stdout",
     "output_type": "stream",
     "text": [
      "Bueno, al menos aprobó!\n"
     ]
    }
   ],
   "source": [
    "Nota = 7\n",
    "if Nota >= 8:\n",
    "    print (\"Aprobó cómodo, felicitaciones!\")\n",
    "elif 6 <= Nota < 8: #NUNCA HABÍA USADO ESTA CONDICION!!!\n",
    "    print (\"Bueno, al menos aprobó!\")\n",
    "elif 4 <= Nota < 6 :\n",
    "    print (\"Bastante bien, pero no le alcanzó\")\n",
    "else:\n",
    "    print(\"Siga participando!\")"
   ]
  },
  {
   "cell_type": "code",
   "execution_count": 41,
   "metadata": {},
   "outputs": [
    {
     "name": "stdout",
     "output_type": "stream",
     "text": [
      "i:  0\n",
      "elem:  3\n",
      "i:  1\n",
      "elem:  4\n",
      "i:  2\n",
      "elem:  5\n",
      "i:  3\n",
      "elem:  6\n"
     ]
    }
   ],
   "source": [
    "for i,elem in enumerate(range(3,7)):\n",
    "    print(\"i: \", i)\n",
    "    print(\"elem: \", elem)"
   ]
  },
  {
   "attachments": {},
   "cell_type": "markdown",
   "metadata": {},
   "source": [
    "----\n",
    "\n",
    "#### Ejercicios 03 (a)\n",
    "\n",
    "1. De  los primeros 100 números naturales imprimir aquellos que no son divisibles por alguno de 2, 3, 5 o 7.\n",
    "\n",
    "2. Usando estructuras de control, calcule la suma:\n",
    "   $$ s_{1} = \\frac{1}{2} \\left(\\sum_{k=1}^{100}k^{-1} \\right)$$\n",
    "\n",
    "    1. Incluyendo todos los valores de `k`\n",
    "    2. Incluyendo únicamente los valores pares de `k`.\n",
    "\n",
    "3. Calcule la suma\n",
    "$$s_{2} = \\sum_{k=1}^{\\infty} \\frac{(-1)^{k} (k+1)}{2 k^{3} + k^{2}}$$\n",
    "con un error relativo estimado menor a $\\epsilon=10^{-5}$. Imprima por pantalla el resultado, el valor máximo de $k$ computado y el error relativo estimado.\n",
    "\n",
    "\n",
    "4. Imprima por pantalla una tabla con valores equiespaciados de x entre 0 y 180, con valores de las funciones trigonométricas de la forma:\n",
    "\n",
    "  ```python\n",
    "  \n",
    "  \"\"\"\n",
    "    |=================================|\n",
    "    | x  | sen(x) | cos(x) | tan(-x/4)|\n",
    "    |=================================|\n",
    "    |  0 |  0.000 |  1.000 |  -0.000  |\n",
    "    | 10 |  0.174 |  0.985 |  -0.044  |\n",
    "    | 20 |  0.342 |  0.940 |  -0.087  |\n",
    "    | 30 |  0.500 |  0.866 |  -0.132  |\n",
    "    | 40 |  0.643 |  0.766 |  -0.176  |\n",
    "    | 50 |  0.766 |  0.643 |  -0.222  |\n",
    "    | 60 |  0.866 |  0.500 |  -0.268  |\n",
    "    | 70 |  0.940 |  0.342 |  -0.315  |\n",
    "    | 80 |  0.985 |  0.174 |  -0.364  |\n",
    "    | 90 |  1.000 |  0.000 |  -0.414  |\n",
    "    |100 |  0.985 | -0.174 |  -0.466  |\n",
    "    |110 |  0.940 | -0.342 |  -0.521  |\n",
    "    |120 |  0.866 | -0.500 |  -0.577  |\n",
    "    |130 |  0.766 | -0.643 |  -0.637  |\n",
    "    |140 |  0.643 | -0.766 |  -0.700  |\n",
    "    |150 |  0.500 | -0.866 |  -0.767  |\n",
    "    |160 |  0.342 | -0.940 |  -0.839  |\n",
    "    |170 |  0.174 | -0.985 |  -0.916  |\n",
    "    |=================================|\n",
    "  \"\"\"\n",
    "  ```\n",
    "\n",
    "\n",
    "----"
   ]
  },
  {
   "attachments": {},
   "cell_type": "markdown",
   "metadata": {},
   "source": [
    "##### Ejercicio 1"
   ]
  },
  {
   "cell_type": "code",
   "execution_count": 42,
   "metadata": {},
   "outputs": [
    {
     "name": "stdout",
     "output_type": "stream",
     "text": [
      "1\n",
      "11\n",
      "13\n",
      "17\n",
      "19\n",
      "23\n",
      "29\n",
      "31\n",
      "37\n",
      "41\n",
      "43\n",
      "47\n",
      "53\n",
      "59\n",
      "61\n",
      "67\n",
      "71\n",
      "73\n",
      "79\n",
      "83\n",
      "89\n",
      "97\n"
     ]
    }
   ],
   "source": [
    "for i in range(101):\n",
    "    if i%2 and i%3 and i%5 and i%7:\n",
    "        print(i)\n"
   ]
  },
  {
   "attachments": {},
   "cell_type": "markdown",
   "metadata": {},
   "source": [
    "##### Ejercicio 2"
   ]
  },
  {
   "cell_type": "code",
   "execution_count": 43,
   "metadata": {},
   "outputs": [
    {
     "name": "stdout",
     "output_type": "stream",
     "text": [
      "Sumo todos los valores de k. s1 =  2.5936887588198103\n",
      "Sumo solo los valores pares de k. s1 =  1.1248013345823558\n"
     ]
    }
   ],
   "source": [
    "suma = 0\n",
    "for i in range(1,101):\n",
    "    suma += 1/i\n",
    "s1 = 1/2*suma\n",
    "print(\"Sumo todos los valores de k. s1 = \", s1)\n",
    "\n",
    "suma = 0\n",
    "for i in range(1,101):\n",
    "    if i%2 == 0: #si es par\n",
    "        suma += 1/i\n",
    "s1 = 1/2*suma\n",
    "print(\"Sumo solo los valores pares de k. s1 = \", s1)"
   ]
  },
  {
   "attachments": {},
   "cell_type": "markdown",
   "metadata": {},
   "source": [
    "##### Ejercicio 3"
   ]
  },
  {
   "cell_type": "code",
   "execution_count": 44,
   "metadata": {},
   "outputs": [
    {
     "name": "stdout",
     "output_type": "stream",
     "text": [
      "s2 = -0.5585185548276801, k = 224, error relativo = 9.98711706286078e-06\n"
     ]
    }
   ],
   "source": [
    "#Defino el error relativo al considerar k términos como la diferencia entre la suma hasta k y hasta k+1\n",
    "\n",
    "tol = 1e-5 #tolerancia\n",
    "\n",
    "suma = 0\n",
    "k = 0\n",
    "e_rel = 1 #defino unitario para asegurarme entrar al loop\n",
    "while e_rel > tol: #si el error es mayor a la tolerancia\n",
    "    #actualizá el índice\n",
    "    k += 1\n",
    "    #sumá otro término a la suma\n",
    "    termino = (-1)**k*(k+1)/(2*k**3 + k**2)\n",
    "    suma += termino\n",
    "    #calculá el error (es el valor del término sumado)\n",
    "    e_rel = abs(termino)\n",
    "\n",
    "print(f\"s2 = {suma}, k = {k}, error relativo = {e_rel}\")"
   ]
  },
  {
   "attachments": {},
   "cell_type": "markdown",
   "metadata": {},
   "source": [
    "##### Ejercicio 4"
   ]
  },
  {
   "cell_type": "code",
   "execution_count": 45,
   "metadata": {},
   "outputs": [],
   "source": [
    "import math\n",
    "#Para pasar de degree a radianes\n",
    "#math.radians(30)\n",
    "\n",
    "#Imprimo el encabezado\n",
    "\n",
    "#Calculo los valores de cada fila y los imprimo\n",
    "for i in range(18):\n",
    "    x = i*10 #ángulo\n",
    "    "
   ]
  },
  {
   "attachments": {},
   "cell_type": "markdown",
   "metadata": {},
   "source": [
    "## Test"
   ]
  },
  {
   "cell_type": "code",
   "execution_count": 46,
   "metadata": {},
   "outputs": [
    {
     "name": "stdout",
     "output_type": "stream",
     "text": [
      "La temperatura mínima fue -3.2 y la máxima fue 13.2\n",
      "La temperatura mínima fue -2 y la máxima fue 12\n",
      "La temperatura mínima fue 0 y la máxima fue 13\n",
      "La temperatura mínima fue -1 y la máxima fue 7\n",
      "La temperatura mínima fue 4 y la máxima fue 18\n",
      "La temperatura mínima fue -5 y la máxima fue 5\n",
      "La temperatura mínima fue -2 y la máxima fue 11\n",
      "La temperatura mínima fue 0 y la máxima fue 14\n",
      "La temperatura mínima fue 4 y la máxima fue 10\n",
      "La temperatura mínima fue 0 y la máxima fue 10\n"
     ]
    }
   ],
   "source": [
    "#Para usar enumerate NO es necesario que ambas listas tengan el mismo tamaño. Se ejecuta el interior hasta que se termina la lista más corta\n",
    "\n",
    "temp_min = [-3.2, -2, 0, -1, 4, -5, -2, 0, 4, 0]\n",
    "temp_max = [13.2, 12, 13, 7, 18, 5, 11, 14, 10 , 10]\n",
    "for t1, t2 in zip(temp_min, temp_max):\n",
    "  print('La temperatura mínima fue {} y la máxima fue {}'.format(t1, t2))"
   ]
  },
  {
   "cell_type": "code",
   "execution_count": 47,
   "metadata": {},
   "outputs": [],
   "source": [
    "#Internamente es más eficiente\n",
    "tm = [(t1+t2)/2 for t1,t2 in zip(temp_min,temp_max)]\n",
    "#que usar\n",
    "tmedia = []\n",
    "for t1, t2 in zip(temp_min, temp_max):\n",
    "  tmedia.append((t1+t2)/2)\n"
   ]
  },
  {
   "attachments": {},
   "cell_type": "markdown",
   "metadata": {},
   "source": [
    "Cuando iteramos sobre el diccionario, itera sobre las keys del diccionario\n"
   ]
  },
  {
   "cell_type": "code",
   "execution_count": 48,
   "metadata": {},
   "outputs": [
    {
     "name": "stdout",
     "output_type": "stream",
     "text": [
      "La temperatura máxima del día 0 fue 13.2 y la mínima -3.2\n",
      "La temperatura máxima del día 1 fue 12 y la mínima -2\n",
      "La temperatura máxima del día 2 fue 13 y la mínima 0\n",
      "La temperatura máxima del día 3 fue 7 y la mínima -1\n",
      "La temperatura máxima del día 4 fue 18 y la mínima 4\n",
      "La temperatura máxima del día 5 fue 5 y la mínima -5\n",
      "La temperatura máxima del día 6 fue 11 y la mínima -2\n",
      "La temperatura máxima del día 7 fue 14 y la mínima 0\n",
      "La temperatura máxima del día 8 fue 10 y la mínima 4\n",
      "La temperatura máxima del día 9 fue 10 y la mínima 0\n"
     ]
    }
   ],
   "source": [
    "temps = {j:{\"Tmin\": temp_min[j], \"Tmax\":temp_max[j]} for j in range(len(temp_min))}\n",
    "for k in temps:\n",
    "  print(f'La temperatura máxima del día {k} fue {temps[k][\"Tmax\"]} y la mínima {temps[k][\"Tmin\"]}')\n",
    "  "
   ]
  },
  {
   "attachments": {},
   "cell_type": "markdown",
   "metadata": {},
   "source": [
    "La forma típica de iterar sobre diccionarios es"
   ]
  },
  {
   "cell_type": "code",
   "execution_count": 49,
   "metadata": {},
   "outputs": [
    {
     "name": "stdout",
     "output_type": "stream",
     "text": [
      "La temperatura máxima del día 0 fue -3.2 y la mínima 13.2\n",
      "La temperatura máxima del día 1 fue -2 y la mínima 12\n",
      "La temperatura máxima del día 2 fue 0 y la mínima 13\n",
      "La temperatura máxima del día 3 fue -1 y la mínima 7\n",
      "La temperatura máxima del día 4 fue 4 y la mínima 18\n",
      "La temperatura máxima del día 5 fue -5 y la mínima 5\n",
      "La temperatura máxima del día 6 fue -2 y la mínima 11\n",
      "La temperatura máxima del día 7 fue 0 y la mínima 14\n",
      "La temperatura máxima del día 8 fue 4 y la mínima 10\n",
      "La temperatura máxima del día 9 fue 0 y la mínima 10\n"
     ]
    }
   ],
   "source": [
    "list(temps.items())\n",
    "\n",
    "for k, v in temps.items():\n",
    "  print('La temperatura máxima del día {} fue {} y la mínima {}'\n",
    "        .format(k,v['Tmin'], v['Tmax']))"
   ]
  },
  {
   "attachments": {},
   "cell_type": "markdown",
   "metadata": {},
   "source": [
    "Cuando hago list(diccionario) obtengo una lista de las keys"
   ]
  },
  {
   "cell_type": "code",
   "execution_count": 50,
   "metadata": {},
   "outputs": [
    {
     "name": "stdout",
     "output_type": "stream",
     "text": [
      "Diccionario temps:  {0: {'Tmin': -3.2, 'Tmax': 13.2}, 1: {'Tmin': -2, 'Tmax': 12}, 2: {'Tmin': 0, 'Tmax': 13}, 3: {'Tmin': -1, 'Tmax': 7}, 4: {'Tmin': 4, 'Tmax': 18}, 5: {'Tmin': -5, 'Tmax': 5}, 6: {'Tmin': -2, 'Tmax': 11}, 7: {'Tmin': 0, 'Tmax': 14}, 8: {'Tmin': 4, 'Tmax': 10}, 9: {'Tmin': 0, 'Tmax': 10}}\n"
     ]
    },
    {
     "data": {
      "text/plain": [
       "[0, 1, 2, 3, 4, 5, 6, 7, 8, 9]"
      ]
     },
     "execution_count": 50,
     "metadata": {},
     "output_type": "execute_result"
    }
   ],
   "source": [
    "print(\"Diccionario temps: \", temps)\n",
    "list(temps)"
   ]
  },
  {
   "cell_type": "code",
   "execution_count": null,
   "metadata": {},
   "outputs": [],
   "source": []
  },
  {
   "attachments": {},
   "cell_type": "markdown",
   "metadata": {},
   "source": [
    "-----\n",
    "\n",
    "#### Ejercicios 03 (b)\n",
    "\n",
    "5. Un método para calcular el área de un polígono (no necesariamente regular) que se conoce como fórmula del área de Gauss o fórmula de la Lazada (*shoelace formula*) consiste en describir al polígono por sus puntos en un sistema de coordenadas. Cada punto se describe como un par $(x,y)$ y la fórmula del área está dada mediante la suma de la multiplicación de los valores en una diagonal a los que se le resta los valores en la otra diagonal, como muestra la figura\n",
    "\n",
    "![](figuras/shoelace.png) \n",
    "\n",
    "$$ 2 A = (x_{1} y_{2} + x_{2} y_{3} + x_{3} y_{4} + \\dots) - (x_{2} y_{1} + x_{3} y_{2} + x_{4} y_{3} + \\dots) $$\n",
    "\n",
    "![](figuras/ejemplo_shoelace.png) \n",
    "\n",
    "\n",
    "  - Utilizando una descripción adecuada del polígono, implementar la fórmula de Gauss para calcular su \n",
    "área y aplicarla al ejemplo de la figura.\n",
    "  - Verificar que el resultado no depende del punto de inicio.\n",
    "\n",
    "6. Las funciones de Bessel de orden $n$ cumplen las relaciones de recurrencia\n",
    "  $$\n",
    "   J_{n -1}(x)- \\frac{2n }{x}\\, J_{n }(x) + J_{n +1}(x) = 0 \\\\\n",
    "   J^{2}_{0}(x) + \\sum_{n=1}^{\\infty} 2 J^{2}_{n}(x) = 1\n",
    "  $$\n",
    "\n",
    "  Para calcular la función de Bessel de orden $N$, se empieza con un valor de $M \\gg N$, y utilizando los valores iniciales $J_{M}=1$, $J_{M+1}=0$ se utiliza la primera relación para calcular todos los valores de $n < M$. Luego, utilizando la segunda relación se normalizan todos los valores.\n",
    "\n",
    "  --------\n",
    "\n",
    "  **Nota:** Estas relaciones son válidas si $M \\gg x$ (use algún valor estimado, como por ejemplo $M=N+20$).\n",
    "\n",
    "  --------\n",
    "\n",
    "  Utilice estas relaciones para calcular $J_{N}(x)$ para $N=3,4,7$ y $x=2.5, 5.7, 10$.\n",
    "  Para referencia se dan los valores esperados\n",
    "  $$\n",
    "  J_3( 2.5) =  0.21660\\\\\n",
    "  J_4( 2.5) =  0.07378\\\\\n",
    "  J_7( 2.5) =  0.00078\\\\\n",
    "  J_3( 5.7) =  0.20228\\\\\n",
    "  J_4( 5.7) =  0.38659\\\\\n",
    "  J_7( 5.7) =  0.10270\\\\\n",
    "  J_3(10.0) =  0.05838\\\\\n",
    "  J_4(10.0) = -0.21960\\\\\n",
    "  J_7(10.0) =  0.21671\\\\\n",
    "  $$ \n",
    "\n",
    "7. Dada una lista de números, vamos a calcular valores relacionados a su estadística.\n",
    "    - Calcular los valores de la media aritmética, la media geométrica y la media armónica, dados por:\n",
    "    $$\n",
    "    A(x_1, \\ldots, x_n) = \\bar{x} = \\frac{x_1 + \\cdots + x_n}{n} \\\\\n",
    "    G(x_1, \\ldots, x_n) = \\sqrt[n]{x_1 \\cdots x_n} \\\\\n",
    "    H(x_1, \\ldots, x_n) = \\frac{n}{\\frac{1}{x_1} + \\cdots + \\frac{1}{x_n}}\n",
    "    $$\n",
    "    - Calcular la desviación estándard:\n",
    "    $$ \\sigma\\equiv\\sqrt{\\frac{1}{n}\\sum_i \\left(x_{i} - \\bar{x} \\right)^2} $$\n",
    "\n",
    "    - Calcular la mediana, que se define como el valor para el cual la mitad de los valores de la lista es menor que ella. Si el número de elementos es par, se toma el promedio entre los dos adyacentes.\n",
    "\n",
    "    Realizar los cálculos para las listas de números:\n",
    "\n",
    "    ```python\n",
    "    L1 = [6.41, 1.28, 11.54, 5.13, 8.97, 3.84, 10.26, 14.1, 12.82, 16.67, 2.56, 17.95, 7.69, 15.39]\n",
    "    L2 = [4.79, 1.59, 2.13, 4.26, 3.72, 1.06, 6.92, 3.19, 5.32, 2.66, 5.85, 6.39, 0.53]\n",
    "    ```\n",
    "\n",
    "   - La *moda* se define como el valor que ocurre más frecuentemente en una colección. Note que la moda puede no ser única. En ese caso debe obtener todos los valores.\n",
    "Calcule la moda de la siguiente lista de números enteros:\n",
    "   ```python\n",
    "   L = [8, 9, 10, 11, 10, 6, 10, 17, 8, 8, 5, 10, 14, 7, 9, 12, 8, 17, 10, 12, 9, 11, 9, 12, 11, 11, 6, 9, 12, 5, 12, 9, 10, 16, 8, 4, 5, 8, 11, 12]\n",
    "   ```\n",
    "   \n",
    "8. Dada una lista de direcciones en el plano, expresadas por los ángulos en grados a partir de un cierto eje, calcular la dirección promedio, expresada en ángulos. Pruebe su algoritmo con las listas:\n",
    "   ```python\n",
    "   t1 = [0, 180, 370, 10]\n",
    "   t2 = [30, 0, 80, 180]\n",
    "   t3 = [80, 180, 540, 280]\n",
    "   ```\n",
    "\n",
    "-----\n",
    "\n",
    "."
   ]
  },
  {
   "attachments": {},
   "cell_type": "markdown",
   "metadata": {},
   "source": [
    "#### Ejercicio 5"
   ]
  },
  {
   "cell_type": "code",
   "execution_count": null,
   "metadata": {},
   "outputs": [],
   "source": []
  },
  {
   "cell_type": "code",
   "execution_count": null,
   "metadata": {},
   "outputs": [],
   "source": []
  },
  {
   "cell_type": "code",
   "execution_count": null,
   "metadata": {},
   "outputs": [],
   "source": []
  },
  {
   "cell_type": "code",
   "execution_count": null,
   "metadata": {},
   "outputs": [],
   "source": []
  },
  {
   "cell_type": "code",
   "execution_count": null,
   "metadata": {},
   "outputs": [],
   "source": []
  },
  {
   "cell_type": "code",
   "execution_count": null,
   "metadata": {},
   "outputs": [],
   "source": []
  },
  {
   "cell_type": "code",
   "execution_count": null,
   "metadata": {},
   "outputs": [],
   "source": []
  },
  {
   "cell_type": "code",
   "execution_count": null,
   "metadata": {},
   "outputs": [],
   "source": []
  },
  {
   "cell_type": "code",
   "execution_count": null,
   "metadata": {},
   "outputs": [],
   "source": []
  },
  {
   "cell_type": "code",
   "execution_count": null,
   "metadata": {},
   "outputs": [],
   "source": []
  },
  {
   "cell_type": "code",
   "execution_count": null,
   "metadata": {},
   "outputs": [],
   "source": []
  },
  {
   "cell_type": "code",
   "execution_count": null,
   "metadata": {},
   "outputs": [],
   "source": []
  },
  {
   "cell_type": "code",
   "execution_count": null,
   "metadata": {},
   "outputs": [],
   "source": []
  },
  {
   "cell_type": "code",
   "execution_count": null,
   "metadata": {},
   "outputs": [],
   "source": []
  },
  {
   "cell_type": "code",
   "execution_count": null,
   "metadata": {},
   "outputs": [],
   "source": []
  },
  {
   "cell_type": "code",
   "execution_count": null,
   "metadata": {},
   "outputs": [],
   "source": []
  },
  {
   "cell_type": "code",
   "execution_count": null,
   "metadata": {},
   "outputs": [],
   "source": []
  },
  {
   "cell_type": "code",
   "execution_count": null,
   "metadata": {},
   "outputs": [],
   "source": []
  },
  {
   "cell_type": "code",
   "execution_count": null,
   "metadata": {},
   "outputs": [],
   "source": []
  },
  {
   "cell_type": "code",
   "execution_count": null,
   "metadata": {},
   "outputs": [],
   "source": []
  },
  {
   "cell_type": "code",
   "execution_count": null,
   "metadata": {},
   "outputs": [],
   "source": []
  },
  {
   "cell_type": "code",
   "execution_count": null,
   "metadata": {},
   "outputs": [],
   "source": []
  },
  {
   "cell_type": "code",
   "execution_count": null,
   "metadata": {},
   "outputs": [],
   "source": []
  },
  {
   "cell_type": "code",
   "execution_count": null,
   "metadata": {},
   "outputs": [],
   "source": []
  },
  {
   "cell_type": "code",
   "execution_count": null,
   "metadata": {},
   "outputs": [],
   "source": []
  },
  {
   "cell_type": "code",
   "execution_count": null,
   "metadata": {},
   "outputs": [],
   "source": []
  },
  {
   "cell_type": "code",
   "execution_count": null,
   "metadata": {},
   "outputs": [],
   "source": []
  },
  {
   "cell_type": "code",
   "execution_count": null,
   "metadata": {},
   "outputs": [],
   "source": []
  },
  {
   "cell_type": "code",
   "execution_count": null,
   "metadata": {},
   "outputs": [],
   "source": []
  },
  {
   "cell_type": "code",
   "execution_count": null,
   "metadata": {},
   "outputs": [],
   "source": []
  },
  {
   "cell_type": "code",
   "execution_count": null,
   "metadata": {},
   "outputs": [],
   "source": []
  },
  {
   "cell_type": "code",
   "execution_count": null,
   "metadata": {},
   "outputs": [],
   "source": []
  },
  {
   "cell_type": "code",
   "execution_count": null,
   "metadata": {},
   "outputs": [],
   "source": []
  },
  {
   "cell_type": "code",
   "execution_count": null,
   "metadata": {},
   "outputs": [],
   "source": []
  },
  {
   "cell_type": "code",
   "execution_count": null,
   "metadata": {},
   "outputs": [],
   "source": []
  },
  {
   "cell_type": "code",
   "execution_count": null,
   "metadata": {},
   "outputs": [],
   "source": []
  },
  {
   "cell_type": "code",
   "execution_count": null,
   "metadata": {},
   "outputs": [],
   "source": []
  },
  {
   "cell_type": "code",
   "execution_count": null,
   "metadata": {},
   "outputs": [],
   "source": []
  },
  {
   "cell_type": "code",
   "execution_count": null,
   "metadata": {},
   "outputs": [],
   "source": []
  },
  {
   "cell_type": "code",
   "execution_count": null,
   "metadata": {},
   "outputs": [],
   "source": []
  },
  {
   "cell_type": "code",
   "execution_count": null,
   "metadata": {},
   "outputs": [],
   "source": []
  },
  {
   "cell_type": "code",
   "execution_count": null,
   "metadata": {},
   "outputs": [],
   "source": []
  },
  {
   "cell_type": "code",
   "execution_count": null,
   "metadata": {},
   "outputs": [],
   "source": []
  }
 ],
 "metadata": {
  "kernelspec": {
   "display_name": "Maestria",
   "language": "python",
   "name": "python3"
  },
  "language_info": {
   "codemirror_mode": {
    "name": "ipython",
    "version": 3
   },
   "file_extension": ".py",
   "mimetype": "text/x-python",
   "name": "python",
   "nbconvert_exporter": "python",
   "pygments_lexer": "ipython3",
   "version": "3.9.12"
  },
  "orig_nbformat": 4,
  "vscode": {
   "interpreter": {
    "hash": "cb1dcd6e0b4bfbec9d527d1ab7c6c7d4b743ae11c2e9f2e62e6759bb0aaa74ae"
   }
  }
 },
 "nbformat": 4,
 "nbformat_minor": 2
}
