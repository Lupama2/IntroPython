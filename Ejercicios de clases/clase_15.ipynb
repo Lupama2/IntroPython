{
 "cells": [
  {
   "attachments": {},
   "cell_type": "markdown",
   "metadata": {},
   "source": [
    "# Clase 15\n",
    "\n",
    "La gran ventaja es que como cuando trabajamos con numpy, solo tenemos que preocuparnos por la interfaz (la entrada y la salida).\n",
    "\n",
    "Hay que emparejar las entradas y salidas de las funciones entre python y el otro lenguaje\n",
    "\n",
    "Si ya ustamos usando numpy la diferencia no es muy grande porque ya estamos usando un lenguaje compilado (numpy). Es útil saber esto cuando necesitamos hacer algo que no está en numpy por ejemplo. Además, la velocidad de procesamiento de una función en fortran y en python pero importando la función de fortran, es la misma.\n",
    "\n",
    "En Fortran\n",
    "implicit one: no hay ninguna variable que se tenga que asumir el tipo implícitamente. Esto en Fortran es importante porque si son del tipo implícito, el tipo de variable va a estar dado por la primer letra de la variable.\n",
    "result(R): el resultado de la función es R. Se define el tipo de la variable dentro de la función\n",
    "real(8): float\n",
    "dimension (3): dimensión 3 (vector)\n",
    "intent(IN): variable de entrada. No se va a modificar\n",
    "matmul: multiplica la matriz de rotación por todos los vectores.\n",
    "program: el main en C\n",
    "\n",
    "\n",
    "!f2py3 -c rotacion.f90 -m rotacion_f\n",
    "!f2py3 -c archivo fortran -m archivo python\n",
    "Tengo que sacarle el 3 para que corra en mi computadora\n",
    "!f2py2 -c rotacion.f90 -m rotacion_f\n",
    "\n",
    "Tmc me corre\n",
    "from rotacion_f import rotaciones as rotf\n",
    "pero sí\n",
    "import rotaciones as rotf\n",
    "\n",
    "Además, no me genera ninguna documentación, como sí le genera al profe. La documentación está en un archivo .so que es el tipo de file de una librería. Incluso podría usar esta librería en C (aunque creo que el paso no es directo)\n",
    "\n",
    "f2py genera documentación automáticamente\n",
    "wraper for \"rotate\": envoltorio de la función \"rotate\"\n",
    "\n",
    "Hay veces que la \"traducción\" no es lo más adecuada y para eso podemos usar el archivo intermedio .pyf\n",
    "\n",
    "overwrite-signature: reescribir un archivo\n",
    "\n",
    "Cuando en Fortran la línea arranca con C es un comentario y si arranca con Cf2py es un comentario para fortran pero no para f2py\n",
    "\n",
    "No se puede llamar directamente a C++ desde python porque python está implementado en C. Así que hay que hacer manualmente un wraper de C sobre las funciones de C++ a las que queremos acceder"
   ]
  },
  {
   "cell_type": "code",
   "execution_count": null,
   "metadata": {},
   "outputs": [],
   "source": []
  },
  {
   "attachments": {},
   "cell_type": "markdown",
   "metadata": {},
   "source": [
    "Resumen de la interacción con C++:\n",
    "1. Parte del código en c++, es este caso una clase\n",
    "{...}\n",
    "2. Agrega el extern C para que se genere código de C\n",
    "{...}\n",
    "extern C\n",
    "{...}\n",
    "3. En Python usamos ctypes para emparejar los tipos de datos de C a los tipos de datos de Python.\n",
    "4. En Python creamos una clase idéntica pero que use los métodos de C\n",
    "\n",
    "En el ejemplo de clases\n",
    "argtype indica argumentos\n",
    "restype indica el tipo de retorno"
   ]
  },
  {
   "attachments": {},
   "cell_type": "markdown",
   "metadata": {},
   "source": [
    "**Tengo problemas para correr el código de clases**\n",
    "\n",
    "El problema es que tengo una versiónn de f2py distinta a la del docente. En mi versión se genera una librería con un nombre raro (y terminación .dll) y esta se guarda dentro de una carpeta con el nombre de la librería que yo quiero. Entonces, si quiero importar la librería tengo que sacar el .dll de dentro de la carpeta\n",
    "\n",
    "En cuanto a los problemas de ejecución del ejemplo de C++, yo no podía correr\n",
    "lib = ctypes.CDLL('libtest.so')\n",
    "El problema es que en windows hay un problema de los paths relativos. La función piensa que tengo que estar en el path \"libtest.so\" pero yo estoy en \"C:.../../.../libtest.so\". Para lograr eso hay que agregar el argumento\n",
    "lib = ctypes.CDLL('libtest.so',winmode=0x8)\n",
    "que indica que las direcciones son relativas"
   ]
  },
  {
   "cell_type": "code",
   "execution_count": null,
   "metadata": {},
   "outputs": [],
   "source": []
  }
 ],
 "metadata": {
  "language_info": {
   "name": "python"
  },
  "orig_nbformat": 4
 },
 "nbformat": 4,
 "nbformat_minor": 2
}
