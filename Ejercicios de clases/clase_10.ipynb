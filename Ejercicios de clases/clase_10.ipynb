{
 "cells": [
  {
   "attachments": {},
   "cell_type": "markdown",
   "metadata": {},
   "source": [
    "# Clase 10"
   ]
  },
  {
   "cell_type": "code",
   "execution_count": 1,
   "metadata": {},
   "outputs": [],
   "source": [
    "import numpy as np"
   ]
  },
  {
   "cell_type": "code",
   "execution_count": 2,
   "metadata": {},
   "outputs": [
    {
     "name": "stdout",
     "output_type": "stream",
     "text": [
      "[ 8. 10. 12. 14.]\n",
      "[ 4.5 16.5 28.5]\n"
     ]
    }
   ],
   "source": [
    "arr= np.arange(12) \n",
    "arr2= arr.reshape((3,4))    \n",
    "\n",
    "print(np.trapz(arr2,axis=0))\n",
    "print(np.trapz(arr2,axis=1))\n"
   ]
  },
  {
   "attachments": {},
   "cell_type": "markdown",
   "metadata": {},
   "source": [
    "qué espaciamiento usa?\n",
    "If x is None, the sample points are assumed to be evenly spaced dx apart. The default is None.\n",
    "dx = 1 por default\n"
   ]
  },
  {
   "attachments": {},
   "cell_type": "markdown",
   "metadata": {},
   "source": [
    "Puedo usar enumerate en mi código para trabajar más rápido\n",
    "Probar usar la función vectorize para vectorizar la función derivada y ver si así el código corre más rápido\n",
    "\n",
    "¿vectorize puede tomar una función que reciba y entregue vectores?"
   ]
  },
  {
   "cell_type": "code",
   "execution_count": null,
   "metadata": {},
   "outputs": [],
   "source": [
    "\n",
    "def derivada(t,y):\n",
    "    # y es un array\n",
    "    return np.array([y[0] + 1, y[1] + 1])\n",
    "\n",
    "t0 = 0\n",
    "y = np.ones(2)\n",
    "derivada(t0, y)"
   ]
  },
  {
   "cell_type": "code",
   "execution_count": null,
   "metadata": {},
   "outputs": [],
   "source": [
    "\n",
    "\n",
    "derivada2 = np.vectorize(derivada, otypes = np.ndarray)\n",
    "derivada2(t0,y)"
   ]
  },
  {
   "attachments": {},
   "cell_type": "markdown",
   "metadata": {},
   "source": [
    "Según \n",
    "https://stackoverflow.com/questions/35215161/most-efficient-way-to-map-function-over-numpy-array\n",
    "la forma más rápida de trabajar es usando funciones de numpy por defecto. Usar vectorized podría ayudar, pero no tanto como trabajar directamente con np"
   ]
  }
 ],
 "metadata": {
  "kernelspec": {
   "display_name": "IntroPython",
   "language": "python",
   "name": "python3"
  },
  "language_info": {
   "codemirror_mode": {
    "name": "ipython",
    "version": 3
   },
   "file_extension": ".py",
   "mimetype": "text/x-python",
   "name": "python",
   "nbconvert_exporter": "python",
   "pygments_lexer": "ipython3",
   "version": "3.10.9"
  },
  "orig_nbformat": 4
 },
 "nbformat": 4,
 "nbformat_minor": 2
}
