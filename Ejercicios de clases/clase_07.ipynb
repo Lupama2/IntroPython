{
 "cells": [
  {
   "attachments": {},
   "cell_type": "markdown",
   "metadata": {},
   "source": [
    "# Clase 07\n",
    "\n",
    "Vimos cómo trabajar con git (control version)\n",
    "\n",
    "Existe una librería que se llama standard library, que es lo que venimos usando hasta ahora. cmath creo que tmb está incluído en standard library\n",
    "\n",
    "Tmb vimos módulos para trabajar con archivos como os, shutil (para copia y eliminación de archivos), glob (para búsqueda de archivos)\n",
    "\n",
    "Vimos tmb cómo haría uno para buscar un archivo en un disco corrupto mediante python sabiendo de antemano alguna palabra clave"
   ]
  },
  {
   "attachments": {},
   "cell_type": "markdown",
   "metadata": {},
   "source": [
    "Tmb vimos \"Expresiones Regulares\" (RegEx)\n",
    "\n",
    "Hay una página recomendada para aprender a trabajar con y diseñar expresiones regulares\n"
   ]
  },
  {
   "cell_type": "code",
   "execution_count": 2,
   "metadata": {},
   "outputs": [
    {
     "data": {
      "text/plain": [
       "['x ', ' y - z']"
      ]
     },
     "execution_count": 2,
     "metadata": {},
     "output_type": "execute_result"
    }
   ],
   "source": [
    "test = \"x + y - z\"\n",
    "test.split(\"+\").split(\"-\")"
   ]
  },
  {
   "cell_type": "code",
   "execution_count": null,
   "metadata": {},
   "outputs": [],
   "source": []
  }
 ],
 "metadata": {
  "kernelspec": {
   "display_name": "IntroPython",
   "language": "python",
   "name": "python3"
  },
  "language_info": {
   "codemirror_mode": {
    "name": "ipython",
    "version": 3
   },
   "file_extension": ".py",
   "mimetype": "text/x-python",
   "name": "python",
   "nbconvert_exporter": "python",
   "pygments_lexer": "ipython3",
   "version": "3.10.9"
  },
  "orig_nbformat": 4,
  "vscode": {
   "interpreter": {
    "hash": "6b8ef78bc8fc504654170752d5658161177d5450671fa32490eb795dae9c9f83"
   }
  }
 },
 "nbformat": 4,
 "nbformat_minor": 2
}
