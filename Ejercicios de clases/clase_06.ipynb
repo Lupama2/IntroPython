{
 "cells": [
  {
   "attachments": {},
   "cell_type": "markdown",
   "metadata": {},
   "source": [
    "# Clase 06"
   ]
  },
  {
   "cell_type": "code",
   "execution_count": 2,
   "metadata": {},
   "outputs": [],
   "source": [
    "from math import atan2, pi\n",
    "\n",
    "class Punto:\n",
    "  \"Clase para describir un punto en el espacio\"\n",
    "\n",
    "  def __init__(self, x=0, y=0, z=0):\n",
    "    \"Inicializa un punto en el espacio\"\n",
    "    self.x = x\n",
    "    self.y = y\n",
    "    self.z = z\n",
    "    return None\n",
    "\n",
    "  def angulo_azimuthal(self):\n",
    "    \"Devuelve el ángulo que forma con el eje x, en radianes\"\n",
    "    return atan2(self.y, self.x)\n",
    "\n",
    "  def angulo_d_azimuthal(self):\n",
    "    \"Devuelve el ángulo que forma con el eje x, en grados\"\n",
    "    return 180/pi*(atan2(self.y, self.x))"
   ]
  },
  {
   "cell_type": "code",
   "execution_count": 3,
   "metadata": {},
   "outputs": [
    {
     "name": "stdout",
     "output_type": "stream",
     "text": [
      "Help on class Punto in module __main__:\n",
      "\n",
      "class Punto(builtins.object)\n",
      " |  Punto(x=0, y=0, z=0)\n",
      " |  \n",
      " |  Clase para describir un punto en el espacio\n",
      " |  \n",
      " |  Methods defined here:\n",
      " |  \n",
      " |  __init__(self, x=0, y=0, z=0)\n",
      " |      Inicializa un punto en el espacio\n",
      " |  \n",
      " |  angulo_azimuthal(self)\n",
      " |      Devuelve el ángulo que forma con el eje x, en radianes\n",
      " |  \n",
      " |  angulo_d_azimuthal(self)\n",
      " |      Devuelve el ángulo que forma con el eje x, en grados\n",
      " |  \n",
      " |  ----------------------------------------------------------------------\n",
      " |  Data descriptors defined here:\n",
      " |  \n",
      " |  __dict__\n",
      " |      dictionary for instance variables (if defined)\n",
      " |  \n",
      " |  __weakref__\n",
      " |      list of weak references to the object (if defined)\n",
      "\n"
     ]
    }
   ],
   "source": [
    "#Uso el help\n",
    "help(Punto)"
   ]
  },
  {
   "cell_type": "code",
   "execution_count": 4,
   "metadata": {},
   "outputs": [
    {
     "data": {
      "text/plain": [
       "{'x': 0, 'y': 0, 'z': 0}"
      ]
     },
     "execution_count": 4,
     "metadata": {},
     "output_type": "execute_result"
    }
   ],
   "source": [
    "#Uso dict\n",
    "P1 = Punto()\n",
    "P1.__dict__"
   ]
  },
  {
   "cell_type": "code",
   "execution_count": 7,
   "metadata": {},
   "outputs": [],
   "source": [
    "#Uso weakref\n",
    "P1.__weakref__"
   ]
  },
  {
   "attachments": {},
   "cell_type": "markdown",
   "metadata": {},
   "source": [
    "**Qué es WEAK REF??** \n",
    "No sé. No me tengo que preocupar por esto"
   ]
  },
  {
   "cell_type": "code",
   "execution_count": 22,
   "metadata": {},
   "outputs": [
    {
     "ename": "NameError",
     "evalue": "name 'P3' is not defined",
     "output_type": "error",
     "traceback": [
      "\u001b[1;31m---------------------------------------------------------------------------\u001b[0m",
      "\u001b[1;31mNameError\u001b[0m                                 Traceback (most recent call last)",
      "Cell \u001b[1;32mIn[22], line 1\u001b[0m\n\u001b[1;32m----> 1\u001b[0m P2 \u001b[39m=\u001b[39m Punto\u001b[39m.\u001b[39m\u001b[39m__init__\u001b[39m(P3, \u001b[39m1\u001b[39m,\u001b[39m2\u001b[39m,\u001b[39m3\u001b[39m)\n",
      "\u001b[1;31mNameError\u001b[0m: name 'P3' is not defined"
     ]
    }
   ],
   "source": [
    "P2 = Punto.__init__(P3, 1,2,3)\n",
    "#ESTA NO ES LA FORMA DE LLAMAR __init__. NO SE ESTÁ CREANDO P3! Y COMO __init__ no retorna nada, P2 tmc se está definiendo. Este código \"funciona\" si en lugar de llamara a P3, llamo a un objeto de la clase ya iniciado anteriormente, como P1 por ej que se definió 2 celdas atrás"
   ]
  },
  {
   "cell_type": "code",
   "execution_count": 21,
   "metadata": {},
   "outputs": [
    {
     "name": "stdout",
     "output_type": "stream",
     "text": [
      "1\n"
     ]
    }
   ],
   "source": [
    "print(P1.x)"
   ]
  },
  {
   "cell_type": "code",
   "execution_count": 14,
   "metadata": {},
   "outputs": [
    {
     "ename": "AttributeError",
     "evalue": "'NoneType' object has no attribute '__dict__'",
     "output_type": "error",
     "traceback": [
      "\u001b[1;31m---------------------------------------------------------------------------\u001b[0m",
      "\u001b[1;31mAttributeError\u001b[0m                            Traceback (most recent call last)",
      "Cell \u001b[1;32mIn[14], line 1\u001b[0m\n\u001b[1;32m----> 1\u001b[0m \u001b[39mprint\u001b[39m(P2\u001b[39m.\u001b[39;49m\u001b[39m__dict__\u001b[39;49m, P1\u001b[39m.\u001b[39m\u001b[39m__dict__\u001b[39m)\n",
      "\u001b[1;31mAttributeError\u001b[0m: 'NoneType' object has no attribute '__dict__'"
     ]
    }
   ],
   "source": [
    "print(P2.__dict__, P1.__dict__)"
   ]
  },
  {
   "cell_type": "code",
   "execution_count": 15,
   "metadata": {},
   "outputs": [
    {
     "data": {
      "text/plain": [
       "NoneType"
      ]
     },
     "execution_count": 15,
     "metadata": {},
     "output_type": "execute_result"
    }
   ],
   "source": [
    "type(P2)"
   ]
  },
  {
   "attachments": {},
   "cell_type": "markdown",
   "metadata": {},
   "source": [
    "**¿Qué pasó acá?**"
   ]
  },
  {
   "cell_type": "code",
   "execution_count": 17,
   "metadata": {},
   "outputs": [],
   "source": [
    "class Vector(Punto):\n",
    "  \"Representa un vector en el espacio\"\n",
    "\n",
    "  def __add__(self, v2):\n",
    "    \"Calcula un vector que contiene la suma de dos vectores\"\n",
    "    print(\"Aún no implementada la suma de dos vectores\") \n",
    "    # código calculando v = suma de self + v2\n",
    "    # ...\n",
    "\n",
    "  def producto(self, v2):\n",
    "    \"Calcula el producto interno entre dos vectores\"\n",
    "    print(\"Aún no implementado el producto interno de dos vectores\") \n",
    "    # código calculando el producto interno pr = v1 . v2\n",
    "\n",
    "  def abs(self):\n",
    "    \"Devuelve la distancia del punto al origen\"\n",
    "    print(\"Aún no implementado la norma del vector\") \n",
    "    # código calculando el producto interno pr = v1 . v2\n"
   ]
  },
  {
   "attachments": {},
   "cell_type": "markdown",
   "metadata": {},
   "source": [
    "**¿Acá se está definiendo automáticamente el init con una variable del tipo Punto?** \n",
    "Está heredando el __init__ de Punto. Para poner una clase heredada basta con poner la clase entre paréntesis en la definición de la nueva clase"
   ]
  },
  {
   "attachments": {},
   "cell_type": "markdown",
   "metadata": {},
   "source": [
    "-----\n",
    "\n",
    "## Ejercicios 06 (a)\n",
    "\n",
    "1. Implemente los métodos `__add__`, `producto` y `abs`\n",
    "\n",
    "   - `__add__()` debe retornar un objeto del tipo `Vector` y contener en cada componente la suma de las componentes de los dos vectores que toma como argumento.\n",
    "\n",
    "   - `producto` toma como argumentos dos vectores y retorna un número real con el valor del producto interno\n",
    "\n",
    "   - `abs` toma como argumentos el propio objeto y retorna el número real correspondiente\n",
    "\n",
    "   Su uso será el siguiente:\n",
    "\n",
    "   ```python\n",
    "   v1 = Vector(1,2,3)\n",
    "   v2 = Vector(3,2,1)\n",
    "   v = v1 + v2\n",
    "   pr = v1.producto(v2)\n",
    "   a = v1.abs()\n",
    "   ```\n",
    "\n",
    "-----\n"
   ]
  },
  {
   "cell_type": "code",
   "execution_count": 20,
   "metadata": {},
   "outputs": [],
   "source": [
    "\n",
    "class Punto:\n",
    "    \"Clase para describir un punto en el espacio\"\n",
    "\n",
    "    def __init__(self, x=0, y=0, z=0):\n",
    "        \"Inicializa un punto en el espacio\"\n",
    "        self.x = x\n",
    "        self.y = y\n",
    "        self.z = z\n",
    "        return None\n",
    "\n",
    "    def angulo_azimuthal(self):\n",
    "        \"Devuelve el ángulo que forma con el eje x, en radianes\"\n",
    "        return atan2(self.y, self.x)\n",
    "\n",
    "    def angulo_d_azimuthal(self):\n",
    "        \"Devuelve el ángulo que forma con el eje x, en grados\"\n",
    "        return 180/pi*(atan2(self.y, self.x))\n",
    "\n",
    "\n",
    "class Vector(Punto):\n",
    "    \"Representa un vector en el espacio\"\n",
    "\n",
    "    def __add__(self, v2):\n",
    "        \"Calcula un vector que contiene la suma de dos vectores\"\n",
    "        # código calculando v = suma de self + v2\n",
    "        # ...\n",
    "        return Vector(self.x + v2.x, self.y + v2.y, self.z + v2.z)\n",
    "\n",
    "    def producto(self, v2):\n",
    "        \"Calcula el producto interno entre dos vectores\"\n",
    "        # código calculando el producto interno pr = v1 . v2\n",
    "        return self.x*v2.x + self.y*v2.y + self.z*v2.z\n",
    "\n",
    "    def abs(self):\n",
    "        \"Devuelve la distancia del punto al origen\"\n",
    "        # código calculando el producto interno pr = v1 . v2\n",
    "        return (self.x**2 + self.y**2 + self.z**2)**(1/2)\n",
    "\n",
    "    def __str__(self):\n",
    "        return f\"({self.x}, {self.y}, {self.x})\"\n",
    "\n",
    "\n",
    "\n",
    "\n",
    "\n",
    "\n",
    "\n",
    "\n",
    "\n"
   ]
  },
  {
   "cell_type": "code",
   "execution_count": 22,
   "metadata": {},
   "outputs": [
    {
     "name": "stdout",
     "output_type": "stream",
     "text": [
      "v1 + v2 =  (4, 4, 4)\n",
      "v1*v2 =  10\n",
      "|v1| =  3.7416573867739413\n"
     ]
    }
   ],
   "source": [
    "#Test:\n",
    "v1 = Vector(1,2,3)\n",
    "v2 = Vector(3,2,1)\n",
    "v = v1 + v2\n",
    "print(\"v1 + v2 = \", v)\n",
    "\n",
    "v = v1.producto(v2)\n",
    "print(\"v1*v2 = \", v)\n",
    "\n",
    "v = v1.abs()\n",
    "print(\"|v1| = \", v)\n"
   ]
  },
  {
   "cell_type": "code",
   "execution_count": 19,
   "metadata": {},
   "outputs": [
    {
     "data": {
      "text/plain": [
       "'[1, 2, 3]'"
      ]
     },
     "execution_count": 19,
     "metadata": {},
     "output_type": "execute_result"
    }
   ],
   "source": [
    "str([1,2,3])"
   ]
  },
  {
   "attachments": {},
   "cell_type": "markdown",
   "metadata": {},
   "source": [
    "----\n",
    "\n",
    "## Ejercicios 06 (b)\n",
    "\n",
    "2. Utilizando la definición de la clase `Punto`\n",
    "\n",
    "  ```python\n",
    "  class Punto:\n",
    "    \"Clase para describir un punto en el espacio\"\n",
    "  \n",
    "    num_puntos = 0\n",
    "  \n",
    "    def __init__(self, x=0, y=0, z=0):\n",
    "      \"Inicializa un punto en el espacio\"\n",
    "      self.x = x\n",
    "      self.y = y\n",
    "      self.z = z\n",
    "      Punto.num_puntos += 1\n",
    "      return None\n",
    "  \n",
    "    def __del__(self):\n",
    "      \"Borra el punto y actualiza el contador\"\n",
    "      Punto.num_puntos -= 1\n",
    "  \n",
    "    def __str__(self):\n",
    "      return f\"Punto en el espacio con coordenadas: x = {self.x}, y = {self.y}, z = {self.z}\"\n",
    "  \n",
    "    def __repr__(self):\n",
    "      return f\"Punto(x = {self.x}, y = {self.y}, z = {self.z})\"\n",
    "  \n",
    "    def __call__(self):\n",
    "      return self.__str__()\n",
    "  \n",
    "    @classmethod\n",
    "    def total(cls):\n",
    "      \"Imprime el número total de puntos\"\n",
    "      print(f\"En total hay {cls.num_puntos} puntos definidos\")\n",
    "  ```\n",
    "  \n",
    "  Complete la implementación de la clase `Vector` con los métodos pedidos\n",
    "  \n",
    "  ```python\n",
    "  class Vector(Punto):\n",
    "    \"Representa un vector en el espacio\"\n",
    "  \n",
    "    def __add__(self, v2):\n",
    "      \"Calcula un vector que contiene la suma de dos vectores\"\n",
    "      print(\"Aún no implementada la suma de dos vectores\") \n",
    "      # código calculando v = suma de self + v2\n",
    "      # ...\n",
    "  \n",
    "    def __mul__(self, v2):\n",
    "      \"Calcula el producto interno entre dos vectores\"\n",
    "      print(\"Aún no implementado el producto interno de dos vectores\") \n",
    "      # código calculando el producto interno pr = v1 . v2\n",
    "  \n",
    "    def abs(self):\n",
    "      \"Devuelve la distancia del punto al origen\"\n",
    "      print(\"Aún no implementado la norma del vector\") \n",
    "      # código calculando la magnitud del vector\n",
    "  \n",
    "    def angulo_entre_vectores(self, v2):\n",
    "      \"Calcula el ángulo entre dos vectores\"\n",
    "      print(\"Aún no implementado el ángulo entre dos vectores\") \n",
    "      angulo = 0\n",
    "      # código calculando angulo = arccos(v1 * v2 / (|v1||v2|))\n",
    "      return angulo\n",
    "  \n",
    "    def coordenadas_cilindricas(self):\n",
    "      \"Devuelve las coordenadas cilindricas del vector como una tupla (r, theta, z)\"\n",
    "      print(\"No implementada\")\n",
    "  \n",
    "    def coordenadas_esfericas(self):\n",
    "      \"Devuelve las coordenadas esféricas del vector como una tupla (r, theta, phi)\"\n",
    "      print(\"No implementada\")\n",
    "  ```\n",
    "\n",
    "  \n",
    "\n",
    "3. **PARA ENTREGAR:** Cree una clase `Polinomio` para representar polinomios. La clase debe guardar los datos representando todos los coeficientes. El grado del polinomio será *menor o igual a 9* (un dígito).\n",
    "\n",
    "   ------\n",
    "\n",
    "     **NOTA:** Utilice el archivo **06_polinomio.py** en el directorio **data**, que renombrará de la forma usual `06_Apellido.py`. Se le pide que programe:\n",
    "\n",
    "   ------\n",
    "\n",
    "  * Un método de inicialización `__init__` que acepte una lista de coeficientes. Por ejemplo para el polinomio $4 x^3 + 3 x^2 + 2 x + 1$ usaríamos:\n",
    "  ```python\n",
    "  >>> p = Polinomio([1,2,3,4])\n",
    "  ```\n",
    "\n",
    "  * Un método `grado` que devuelva el orden del polinomio\n",
    "  ```python\n",
    "  >>> p = Polinomio([1,2,3,4])\n",
    "  >>> p.grado()\n",
    "  3\n",
    "  ```\n",
    "\n",
    "  * Un método `get_coeficientes`, que devuelva una lista con los coeficientes:\n",
    "  ```python\n",
    "  >>> p.get_coeficientes()\n",
    "  [1, 2, 3, 4]\n",
    "  ```\n",
    "\n",
    "  * Un método `set_coeficientes`, que fije los coeficientes de la lista:\n",
    "  ```python\n",
    "  >>> p1 = Polinomio()\n",
    "  >>> p1.get_coeficientes()\n",
    "  []\n",
    "  >>> p1.set_coeficientes([1, 2, 3, 4])\n",
    "  >>> p1.get_coeficientes()\n",
    "  [1, 2, 3, 4]\n",
    "  ```\n",
    "  \n",
    "  * El método `suma_pol(pol2)` que le sume otro polinomio y devuelva un polinomio (objeto del mismo tipo)\n",
    "  \n",
    "  * El método `mul(pol2)` que multiplica al polinomio por una constante y devuelve un nuevo polinomio\n",
    "  \n",
    "  * Un método, `derivada(n)`, que devuelva la derivada de orden `n` del polinomio (otro polinomio):\n",
    "  ```python\n",
    "  >>> p1 = p.derivada()\n",
    "  >>> p1.get_coeficientes()\n",
    "  [2, 6, 12]\n",
    "  >>> p2 = p.derivada(n=2)\n",
    "  >>> p2.get_coeficientes()\n",
    "  [6, 24]\n",
    "  ```\n",
    "\n",
    "  * Un método que devuelva la integral (antiderivada) del polinomio de orden `n`, con constante de integración `cte` (otro polinomio).\n",
    "  \n",
    "  ```python\n",
    "  >>> p1 = p.integrada()\n",
    "  >>> p1.get_coeficientes()\n",
    "  [0, 1, 1, 1, 1]\n",
    "  >>>\n",
    "  >>> p2 = p.integrada(cte=2)\n",
    "  >>> p2.get_coeficientes()\n",
    "  [2, 1, 1, 1, 1]\n",
    "  >>>\n",
    "  >>> p3 = p.integrada(n=3, cte=1.5)\n",
    "  >>> p3.get_coeficientes()\n",
    "  [1.5, 1.5, 0.75, 0.16666666666666666, 0.08333333333333333, 0.05]\n",
    "  ```\n",
    "\n",
    "  * Un método `from_string(expr)` (pida ayuda si se le complica) que crea un polinomio desde un string en la forma:\n",
    "  \n",
    "  ```python\n",
    "  >>> p = Polinomio()\n",
    "  >>> p.from_string('x^5 + 3x^3 - 2 x+x^2 + 3 - x')\n",
    "  >>> p.get_coeficientes()\n",
    "  [3, -3, 1, 3, 0, 1]\n",
    "  >>>\n",
    "  >>> p1 = Polinomio()\n",
    "  >>> p1.from_string('y^5 + 3y^3 - 2 y + y^2+3', var='y')\n",
    "  >>> p1.get_coeficientes()\n",
    "  [3, -2, 1, 3, 0, 1]\n",
    "  ```\n",
    "  \n",
    "  * Escriba un método llamado `__str__`, que devuelva un string (que define cómo se va a imprimir el polinomio). Un ejemplo de salida será:\n",
    "  \n",
    "  ```python\n",
    "  >>> p = Polinomio([1,2.1,3,4])\n",
    "  >>> print(p)\n",
    "  4 x^3 + 3 x^2 + 2.1 x + 1\n",
    "  ```\n",
    "\n",
    "  * Escriba un método llamado `__call__`, de manera tal que al llamar al objeto, evalúe el polinomio en un dado valor de `x`\n",
    "  \n",
    "  ```python\n",
    "  >>> p = Polinomio([1,2,3,4])\n",
    "  >>> p(x=2)\n",
    "  49\n",
    "  >>>\n",
    "  >>> p(0.5)\n",
    "  3.25\n",
    "  ```\n",
    "\n",
    "  * Escriba un método llamado `__add__(self, p)`, que evalúe la suma de polinomios usando  el método `suma_pol` definido anteriormente. Eso permitirá usar la operación de suma en la forma:\n",
    "  \n",
    "  ```python\n",
    "  >>> p1 = Polinomio([1,2,3,4])\n",
    "  >>> p2 = Polinomio([1,2,3,4])\n",
    "  >>> p1 + p2\n",
    "  ```\n",
    "\n",
    "  * Escriba los métodos llamados `__mul__(self, value)` y `__rmul__(self, value)`, que devuelvan el producto de un polinomio por un valor constante, llamando al método `mul` definido anteriormente. Eso permitirá usar la operación producto en la forma:\n",
    "  ```python\n",
    "  >>> p1 = Polinomio([1,2,3,4])\n",
    "  >>> k = 3.5\n",
    "  >>> p1 * k\n",
    "  >>> k * p1\n",
    "  ```\n",
    "    \n",
    "----\n"
   ]
  },
  {
   "attachments": {},
   "cell_type": "markdown",
   "metadata": {},
   "source": [
    "### Ejercicio 2"
   ]
  },
  {
   "cell_type": "code",
   "execution_count": null,
   "metadata": {},
   "outputs": [],
   "source": [
    "class Punto:\n",
    "    \"Clase para describir un punto en el espacio\"\n",
    "\n",
    "    num_puntos = 0\n",
    "\n",
    "    def __init__(self, x=0, y=0, z=0):\n",
    "        \"Inicializa un punto en el espacio\"\n",
    "        self.x = x\n",
    "        self.y = y\n",
    "        self.z = z\n",
    "        Punto.num_puntos += 1\n",
    "        return None\n",
    "\n",
    "    def __del__(self):\n",
    "        \"Borra el punto y actualiza el contador\"\n",
    "        Punto.num_puntos -= 1\n",
    "\n",
    "    def __str__(self):\n",
    "        return f\"Punto en el espacio con coordenadas: x = {self.x}, y = {self.y}, z = {self.z}\"\n",
    "\n",
    "    def __repr__(self):\n",
    "        return f\"Punto(x = {self.x}, y = {self.y}, z = {self.z})\"\n",
    "\n",
    "    def __call__(self):\n",
    "        return self.__str__()\n",
    "\n",
    "    @classmethod\n",
    "    def total(cls):\n",
    "        \"Imprime el número total de puntos\"\n",
    "        print(f\"En total hay {cls.num_puntos} puntos definidos\")\n",
    "\n"
   ]
  },
  {
   "cell_type": "code",
   "execution_count": null,
   "metadata": {},
   "outputs": [],
   "source": [
    "  class Vector(Punto):\n",
    "    \"Representa un vector en el espacio\"\n",
    "  \n",
    "    def __add__(self, v2):\n",
    "      \"Calcula un vector que contiene la suma de dos vectores\"\n",
    "      print(\"Aún no implementada la suma de dos vectores\") \n",
    "      # código calculando v = suma de self + v2\n",
    "      # ...\n",
    "  \n",
    "    def __mul__(self, v2):\n",
    "      \"Calcula el producto interno entre dos vectores\"\n",
    "      print(\"Aún no implementado el producto interno de dos vectores\") \n",
    "      # código calculando el producto interno pr = v1 . v2\n",
    "  \n",
    "    def abs(self):\n",
    "      \"Devuelve la distancia del punto al origen\"\n",
    "      print(\"Aún no implementado la norma del vector\") \n",
    "      # código calculando la magnitud del vector\n",
    "  \n",
    "    def angulo_entre_vectores(self, v2):\n",
    "      \"Calcula el ángulo entre dos vectores\"\n",
    "      print(\"Aún no implementado el ángulo entre dos vectores\") \n",
    "      angulo = 0\n",
    "      # código calculando angulo = arccos(v1 * v2 / (|v1||v2|))\n",
    "      return angulo\n",
    "  \n",
    "    def coordenadas_cilindricas(self):\n",
    "      \"Devuelve las coordenadas cilindricas del vector como una tupla (r, theta, z)\"\n",
    "      print(\"No implementada\")\n",
    "  \n",
    "    def coordenadas_esfericas(self):\n",
    "      \"Devuelve las coordenadas esféricas del vector como una tupla (r, theta, phi)\"\n",
    "      print(\"No implementada\")"
   ]
  }
 ],
 "metadata": {
  "kernelspec": {
   "display_name": "IntroPython",
   "language": "python",
   "name": "python3"
  },
  "language_info": {
   "codemirror_mode": {
    "name": "ipython",
    "version": 3
   },
   "file_extension": ".py",
   "mimetype": "text/x-python",
   "name": "python",
   "nbconvert_exporter": "python",
   "pygments_lexer": "ipython3",
   "version": "3.10.9"
  },
  "orig_nbformat": 4,
  "vscode": {
   "interpreter": {
    "hash": "6b8ef78bc8fc504654170752d5658161177d5450671fa32490eb795dae9c9f83"
   }
  }
 },
 "nbformat": 4,
 "nbformat_minor": 2
}
