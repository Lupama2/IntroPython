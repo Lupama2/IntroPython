{
 "cells": [
  {
   "attachments": {},
   "cell_type": "markdown",
   "metadata": {},
   "source": [
    "# Clase 06"
   ]
  },
  {
   "cell_type": "code",
   "execution_count": 2,
   "metadata": {},
   "outputs": [],
   "source": [
    "from math import atan2, pi\n",
    "\n",
    "class Punto:\n",
    "  \"Clase para describir un punto en el espacio\"\n",
    "\n",
    "  def __init__(self, x=0, y=0, z=0):\n",
    "    \"Inicializa un punto en el espacio\"\n",
    "    self.x = x\n",
    "    self.y = y\n",
    "    self.z = z\n",
    "    return None\n",
    "\n",
    "  def angulo_azimuthal(self):\n",
    "    \"Devuelve el ángulo que forma con el eje x, en radianes\"\n",
    "    return atan2(self.y, self.x)\n",
    "\n",
    "  def angulo_d_azimuthal(self):\n",
    "    \"Devuelve el ángulo que forma con el eje x, en grados\"\n",
    "    return 180/pi*(atan2(self.y, self.x))"
   ]
  },
  {
   "cell_type": "code",
   "execution_count": 3,
   "metadata": {},
   "outputs": [
    {
     "name": "stdout",
     "output_type": "stream",
     "text": [
      "Help on class Punto in module __main__:\n",
      "\n",
      "class Punto(builtins.object)\n",
      " |  Punto(x=0, y=0, z=0)\n",
      " |  \n",
      " |  Clase para describir un punto en el espacio\n",
      " |  \n",
      " |  Methods defined here:\n",
      " |  \n",
      " |  __init__(self, x=0, y=0, z=0)\n",
      " |      Inicializa un punto en el espacio\n",
      " |  \n",
      " |  angulo_azimuthal(self)\n",
      " |      Devuelve el ángulo que forma con el eje x, en radianes\n",
      " |  \n",
      " |  angulo_d_azimuthal(self)\n",
      " |      Devuelve el ángulo que forma con el eje x, en grados\n",
      " |  \n",
      " |  ----------------------------------------------------------------------\n",
      " |  Data descriptors defined here:\n",
      " |  \n",
      " |  __dict__\n",
      " |      dictionary for instance variables (if defined)\n",
      " |  \n",
      " |  __weakref__\n",
      " |      list of weak references to the object (if defined)\n",
      "\n"
     ]
    }
   ],
   "source": [
    "#Uso el help\n",
    "help(Punto)"
   ]
  },
  {
   "cell_type": "code",
   "execution_count": 4,
   "metadata": {},
   "outputs": [
    {
     "data": {
      "text/plain": [
       "{'x': 0, 'y': 0, 'z': 0}"
      ]
     },
     "execution_count": 4,
     "metadata": {},
     "output_type": "execute_result"
    }
   ],
   "source": [
    "#Uso dict\n",
    "P1 = Punto()\n",
    "P1.__dict__"
   ]
  },
  {
   "cell_type": "code",
   "execution_count": 7,
   "metadata": {},
   "outputs": [],
   "source": [
    "#Uso weakref\n",
    "P1.__weakref__"
   ]
  },
  {
   "attachments": {},
   "cell_type": "markdown",
   "metadata": {},
   "source": [
    "**Qué es WEAK REF??** \n",
    "No sé. No me tengo que preocupar por esto"
   ]
  },
  {
   "cell_type": "code",
   "execution_count": 22,
   "metadata": {},
   "outputs": [
    {
     "ename": "NameError",
     "evalue": "name 'P3' is not defined",
     "output_type": "error",
     "traceback": [
      "\u001b[1;31m---------------------------------------------------------------------------\u001b[0m",
      "\u001b[1;31mNameError\u001b[0m                                 Traceback (most recent call last)",
      "Cell \u001b[1;32mIn[22], line 1\u001b[0m\n\u001b[1;32m----> 1\u001b[0m P2 \u001b[39m=\u001b[39m Punto\u001b[39m.\u001b[39m\u001b[39m__init__\u001b[39m(P3, \u001b[39m1\u001b[39m,\u001b[39m2\u001b[39m,\u001b[39m3\u001b[39m)\n",
      "\u001b[1;31mNameError\u001b[0m: name 'P3' is not defined"
     ]
    }
   ],
   "source": [
    "P2 = Punto.__init__(P3, 1,2,3)\n",
    "#ESTA NO ES LA FORMA DE LLAMAR __init__. NO SE ESTÁ CREANDO P3! Y COMO __init__ no retorna nada, P2 tmc se está definiendo. Este código \"funciona\" si en lugar de llamara a P3, llamo a un objeto de la clase ya iniciado anteriormente, como P1 por ej que se definió 2 celdas atrás"
   ]
  },
  {
   "cell_type": "code",
   "execution_count": 21,
   "metadata": {},
   "outputs": [
    {
     "name": "stdout",
     "output_type": "stream",
     "text": [
      "1\n"
     ]
    }
   ],
   "source": [
    "print(P1.x)"
   ]
  },
  {
   "cell_type": "code",
   "execution_count": 14,
   "metadata": {},
   "outputs": [
    {
     "ename": "AttributeError",
     "evalue": "'NoneType' object has no attribute '__dict__'",
     "output_type": "error",
     "traceback": [
      "\u001b[1;31m---------------------------------------------------------------------------\u001b[0m",
      "\u001b[1;31mAttributeError\u001b[0m                            Traceback (most recent call last)",
      "Cell \u001b[1;32mIn[14], line 1\u001b[0m\n\u001b[1;32m----> 1\u001b[0m \u001b[39mprint\u001b[39m(P2\u001b[39m.\u001b[39;49m\u001b[39m__dict__\u001b[39;49m, P1\u001b[39m.\u001b[39m\u001b[39m__dict__\u001b[39m)\n",
      "\u001b[1;31mAttributeError\u001b[0m: 'NoneType' object has no attribute '__dict__'"
     ]
    }
   ],
   "source": [
    "print(P2.__dict__, P1.__dict__)"
   ]
  },
  {
   "cell_type": "code",
   "execution_count": 15,
   "metadata": {},
   "outputs": [
    {
     "data": {
      "text/plain": [
       "NoneType"
      ]
     },
     "execution_count": 15,
     "metadata": {},
     "output_type": "execute_result"
    }
   ],
   "source": [
    "type(P2)"
   ]
  },
  {
   "attachments": {},
   "cell_type": "markdown",
   "metadata": {},
   "source": [
    "**¿Qué pasó acá?**"
   ]
  },
  {
   "cell_type": "code",
   "execution_count": 17,
   "metadata": {},
   "outputs": [],
   "source": [
    "class Vector(Punto):\n",
    "  \"Representa un vector en el espacio\"\n",
    "\n",
    "  def __add__(self, v2):\n",
    "    \"Calcula un vector que contiene la suma de dos vectores\"\n",
    "    print(\"Aún no implementada la suma de dos vectores\") \n",
    "    # código calculando v = suma de self + v2\n",
    "    # ...\n",
    "\n",
    "  def producto(self, v2):\n",
    "    \"Calcula el producto interno entre dos vectores\"\n",
    "    print(\"Aún no implementado el producto interno de dos vectores\") \n",
    "    # código calculando el producto interno pr = v1 . v2\n",
    "\n",
    "  def abs(self):\n",
    "    \"Devuelve la distancia del punto al origen\"\n",
    "    print(\"Aún no implementado la norma del vector\") \n",
    "    # código calculando el producto interno pr = v1 . v2\n"
   ]
  },
  {
   "attachments": {},
   "cell_type": "markdown",
   "metadata": {},
   "source": [
    "**¿Acá se está definiendo automáticamente el init con una variable del tipo Punto?** \n",
    "Está heredando el __init__ de Punto. Para poner una clase heredada basta con poner la clase entre paréntesis en la definición de la nueva clase"
   ]
  },
  {
   "attachments": {},
   "cell_type": "markdown",
   "metadata": {},
   "source": [
    "-----\n",
    "\n",
    "## Ejercicios 06 (a)\n",
    "\n",
    "1. Implemente los métodos `__add__`, `producto` y `abs`\n",
    "\n",
    "   - `__add__()` debe retornar un objeto del tipo `Vector` y contener en cada componente la suma de las componentes de los dos vectores que toma como argumento.\n",
    "\n",
    "   - `producto` toma como argumentos dos vectores y retorna un número real con el valor del producto interno\n",
    "\n",
    "   - `abs` toma como argumentos el propio objeto y retorna el número real correspondiente\n",
    "\n",
    "   Su uso será el siguiente:\n",
    "\n",
    "   ```python\n",
    "   v1 = Vector(1,2,3)\n",
    "   v2 = Vector(3,2,1)\n",
    "   v = v1 + v2\n",
    "   pr = v1.producto(v2)\n",
    "   a = v1.abs()\n",
    "   ```\n",
    "\n",
    "-----\n"
   ]
  },
  {
   "cell_type": "code",
   "execution_count": 20,
   "metadata": {},
   "outputs": [],
   "source": [
    "\n",
    "class Punto:\n",
    "    \"Clase para describir un punto en el espacio\"\n",
    "\n",
    "    def __init__(self, x=0, y=0, z=0):\n",
    "        \"Inicializa un punto en el espacio\"\n",
    "        self.x = x\n",
    "        self.y = y\n",
    "        self.z = z\n",
    "        return None\n",
    "\n",
    "    def angulo_azimuthal(self):\n",
    "        \"Devuelve el ángulo que forma con el eje x, en radianes\"\n",
    "        return atan2(self.y, self.x)\n",
    "\n",
    "    def angulo_d_azimuthal(self):\n",
    "        \"Devuelve el ángulo que forma con el eje x, en grados\"\n",
    "        return 180/pi*(atan2(self.y, self.x))\n",
    "\n",
    "\n",
    "class Vector(Punto):\n",
    "    \"Representa un vector en el espacio\"\n",
    "\n",
    "    def __add__(self, v2):\n",
    "        \"Calcula un vector que contiene la suma de dos vectores\"\n",
    "        # código calculando v = suma de self + v2\n",
    "        # ...\n",
    "        return Vector(self.x + v2.x, self.y + v2.y, self.z + v2.z)\n",
    "\n",
    "    def producto(self, v2):\n",
    "        \"Calcula el producto interno entre dos vectores\"\n",
    "        # código calculando el producto interno pr = v1 . v2\n",
    "        return self.x*v2.x + self.y*v2.y + self.z*v2.z\n",
    "\n",
    "    def abs(self):\n",
    "        \"Devuelve la distancia del punto al origen\"\n",
    "        # código calculando el producto interno pr = v1 . v2\n",
    "        return (self.x**2 + self.y**2 + self.z**2)**(1/2)\n",
    "\n",
    "    def __str__(self):\n",
    "        return f\"({self.x}, {self.y}, {self.x})\"\n",
    "\n",
    "\n",
    "\n",
    "\n",
    "\n",
    "\n",
    "\n",
    "\n",
    "\n"
   ]
  },
  {
   "cell_type": "code",
   "execution_count": 22,
   "metadata": {},
   "outputs": [
    {
     "name": "stdout",
     "output_type": "stream",
     "text": [
      "v1 + v2 =  (4, 4, 4)\n",
      "v1*v2 =  10\n",
      "|v1| =  3.7416573867739413\n"
     ]
    }
   ],
   "source": [
    "#Test:\n",
    "v1 = Vector(1,2,3)\n",
    "v2 = Vector(3,2,1)\n",
    "v = v1 + v2\n",
    "print(\"v1 + v2 = \", v)\n",
    "\n",
    "v = v1.producto(v2)\n",
    "print(\"v1*v2 = \", v)\n",
    "\n",
    "v = v1.abs()\n",
    "print(\"|v1| = \", v)\n"
   ]
  },
  {
   "cell_type": "code",
   "execution_count": 19,
   "metadata": {},
   "outputs": [
    {
     "data": {
      "text/plain": [
       "'[1, 2, 3]'"
      ]
     },
     "execution_count": 19,
     "metadata": {},
     "output_type": "execute_result"
    }
   ],
   "source": [
    "str([1,2,3])"
   ]
  },
  {
   "attachments": {},
   "cell_type": "markdown",
   "metadata": {},
   "source": [
    "----\n",
    "\n",
    "## Ejercicios 06 (b)\n",
    "\n",
    "2. Utilizando la definición de la clase `Punto`\n",
    "\n",
    "  ```python\n",
    "  class Punto:\n",
    "    \"Clase para describir un punto en el espacio\"\n",
    "  \n",
    "    num_puntos = 0\n",
    "  \n",
    "    def __init__(self, x=0, y=0, z=0):\n",
    "      \"Inicializa un punto en el espacio\"\n",
    "      self.x = x\n",
    "      self.y = y\n",
    "      self.z = z\n",
    "      Punto.num_puntos += 1\n",
    "      return None\n",
    "  \n",
    "    def __del__(self):\n",
    "      \"Borra el punto y actualiza el contador\"\n",
    "      Punto.num_puntos -= 1\n",
    "  \n",
    "    def __str__(self):\n",
    "      return f\"Punto en el espacio con coordenadas: x = {self.x}, y = {self.y}, z = {self.z}\"\n",
    "  \n",
    "    def __repr__(self):\n",
    "      return f\"Punto(x = {self.x}, y = {self.y}, z = {self.z})\"\n",
    "  \n",
    "    def __call__(self):\n",
    "      return self.__str__()\n",
    "  \n",
    "    @classmethod\n",
    "    def total(cls):\n",
    "      \"Imprime el número total de puntos\"\n",
    "      print(f\"En total hay {cls.num_puntos} puntos definidos\")\n",
    "  ```\n",
    "  \n",
    "  Complete la implementación de la clase `Vector` con los métodos pedidos\n",
    "  \n",
    "  ```python\n",
    "  class Vector(Punto):\n",
    "    \"Representa un vector en el espacio\"\n",
    "  \n",
    "    def __add__(self, v2):\n",
    "      \"Calcula un vector que contiene la suma de dos vectores\"\n",
    "      print(\"Aún no implementada la suma de dos vectores\") \n",
    "      # código calculando v = suma de self + v2\n",
    "      # ...\n",
    "  \n",
    "    def __mul__(self, v2):\n",
    "      \"Calcula el producto interno entre dos vectores\"\n",
    "      print(\"Aún no implementado el producto interno de dos vectores\") \n",
    "      # código calculando el producto interno pr = v1 . v2\n",
    "  \n",
    "    def abs(self):\n",
    "      \"Devuelve la distancia del punto al origen\"\n",
    "      print(\"Aún no implementado la norma del vector\") \n",
    "      # código calculando la magnitud del vector\n",
    "  \n",
    "    def angulo_entre_vectores(self, v2):\n",
    "      \"Calcula el ángulo entre dos vectores\"\n",
    "      print(\"Aún no implementado el ángulo entre dos vectores\") \n",
    "      angulo = 0\n",
    "      # código calculando angulo = arccos(v1 * v2 / (|v1||v2|))\n",
    "      return angulo\n",
    "  \n",
    "    def coordenadas_cilindricas(self):\n",
    "      \"Devuelve las coordenadas cilindricas del vector como una tupla (r, theta, z)\"\n",
    "      print(\"No implementada\")\n",
    "  \n",
    "    def coordenadas_esfericas(self):\n",
    "      \"Devuelve las coordenadas esféricas del vector como una tupla (r, theta, phi)\"\n",
    "      print(\"No implementada\")\n",
    "  ```\n",
    "\n",
    "  \n",
    "\n",
    "3. **PARA ENTREGAR:** Cree una clase `Polinomio` para representar polinomios. La clase debe guardar los datos representando todos los coeficientes. El grado del polinomio será *menor o igual a 9* (un dígito).\n",
    "\n",
    "   ------\n",
    "\n",
    "     **NOTA:** Utilice el archivo **06_polinomio.py** en el directorio **data**, que renombrará de la forma usual `06_Apellido.py`. Se le pide que programe:\n",
    "\n",
    "   ------\n",
    "\n",
    "  * Un método de inicialización `__init__` que acepte una lista de coeficientes. Por ejemplo para el polinomio $4 x^3 + 3 x^2 + 2 x + 1$ usaríamos:\n",
    "  ```python\n",
    "  >>> p = Polinomio([1,2,3,4])\n",
    "  ```\n",
    "\n",
    "  * Un método `grado` que devuelva el orden del polinomio\n",
    "  ```python\n",
    "  >>> p = Polinomio([1,2,3,4])\n",
    "  >>> p.grado()\n",
    "  3\n",
    "  ```\n",
    "\n",
    "  * Un método `get_coeficientes`, que devuelva una lista con los coeficientes:\n",
    "  ```python\n",
    "  >>> p.get_coeficientes()\n",
    "  [1, 2, 3, 4]\n",
    "  ```\n",
    "\n",
    "  * Un método `set_coeficientes`, que fije los coeficientes de la lista:\n",
    "  ```python\n",
    "  >>> p1 = Polinomio()\n",
    "  >>> p1.get_coeficientes()\n",
    "  []\n",
    "  >>> p1.set_coeficientes([1, 2, 3, 4])\n",
    "  >>> p1.get_coeficientes()\n",
    "  [1, 2, 3, 4]\n",
    "  ```\n",
    "  \n",
    "  * El método `suma_pol(pol2)` que le sume otro polinomio y devuelva un polinomio (objeto del mismo tipo)\n",
    "  \n",
    "  * El método `mul(pol2)` que multiplica al polinomio por una constante y devuelve un nuevo polinomio\n",
    "  \n",
    "  * Un método, `derivada(n)`, que devuelva la derivada de orden `n` del polinomio (otro polinomio):\n",
    "  ```python\n",
    "  >>> p1 = p.derivada()\n",
    "  >>> p1.get_coeficientes()\n",
    "  [2, 6, 12]\n",
    "  >>> p2 = p.derivada(n=2)\n",
    "  >>> p2.get_coeficientes()\n",
    "  [6, 24]\n",
    "  ```\n",
    "\n",
    "  * Un método que devuelva la integral (antiderivada) del polinomio de orden `n`, con constante de integración `cte` (otro polinomio).\n",
    "  \n",
    "  ```python\n",
    "  >>> p1 = p.integrada()\n",
    "  >>> p1.get_coeficientes()\n",
    "  [0, 1, 1, 1, 1]\n",
    "  >>>\n",
    "  >>> p2 = p.integrada(cte=2)\n",
    "  >>> p2.get_coeficientes()\n",
    "  [2, 1, 1, 1, 1]\n",
    "  >>>\n",
    "  >>> p3 = p.integrada(n=3, cte=1.5)\n",
    "  >>> p3.get_coeficientes()\n",
    "  [1.5, 1.5, 0.75, 0.16666666666666666, 0.08333333333333333, 0.05]\n",
    "  ```\n",
    "\n",
    "  * Un método `from_string(expr)` (pida ayuda si se le complica) que crea un polinomio desde un string en la forma:\n",
    "  \n",
    "  ```python\n",
    "  >>> p = Polinomio()\n",
    "  >>> p.from_string('x^5 + 3x^3 - 2 x+x^2 + 3 - x')\n",
    "  >>> p.get_coeficientes()\n",
    "  [3, -3, 1, 3, 0, 1]\n",
    "  >>>\n",
    "  >>> p1 = Polinomio()\n",
    "  >>> p1.from_string('y^5 + 3y^3 - 2 y + y^2+3', var='y')\n",
    "  >>> p1.get_coeficientes()\n",
    "  [3, -2, 1, 3, 0, 1]\n",
    "  ```\n",
    "  \n",
    "  * Escriba un método llamado `__str__`, que devuelva un string (que define cómo se va a imprimir el polinomio). Un ejemplo de salida será:\n",
    "  \n",
    "  ```python\n",
    "  >>> p = Polinomio([1,2.1,3,4])\n",
    "  >>> print(p)\n",
    "  4 x^3 + 3 x^2 + 2.1 x + 1\n",
    "  ```\n",
    "\n",
    "  * Escriba un método llamado `__call__`, de manera tal que al llamar al objeto, evalúe el polinomio en un dado valor de `x`\n",
    "  \n",
    "  ```python\n",
    "  >>> p = Polinomio([1,2,3,4])\n",
    "  >>> p(x=2)\n",
    "  49\n",
    "  >>>\n",
    "  >>> p(0.5)\n",
    "  3.25\n",
    "  ```\n",
    "\n",
    "  * Escriba un método llamado `__add__(self, p)`, que evalúe la suma de polinomios usando  el método `suma_pol` definido anteriormente. Eso permitirá usar la operación de suma en la forma:\n",
    "  \n",
    "  ```python\n",
    "  >>> p1 = Polinomio([1,2,3,4])\n",
    "  >>> p2 = Polinomio([1,2,3,4])\n",
    "  >>> p1 + p2\n",
    "  ```\n",
    "\n",
    "  * Escriba los métodos llamados `__mul__(self, value)` y `__rmul__(self, value)`, que devuelvan el producto de un polinomio por un valor constante, llamando al método `mul` definido anteriormente. Eso permitirá usar la operación producto en la forma:\n",
    "  ```python\n",
    "  >>> p1 = Polinomio([1,2,3,4])\n",
    "  >>> k = 3.5\n",
    "  >>> p1 * k\n",
    "  >>> k * p1\n",
    "  ```\n",
    "    \n",
    "----\n"
   ]
  },
  {
   "attachments": {},
   "cell_type": "markdown",
   "metadata": {},
   "source": [
    "### Ejercicio 2"
   ]
  },
  {
   "cell_type": "code",
   "execution_count": null,
   "metadata": {},
   "outputs": [],
   "source": [
    "class Punto:\n",
    "    \"Clase para describir un punto en el espacio\"\n",
    "\n",
    "    num_puntos = 0\n",
    "\n",
    "    def __init__(self, x=0, y=0, z=0):\n",
    "        \"Inicializa un punto en el espacio\"\n",
    "        self.x = x\n",
    "        self.y = y\n",
    "        self.z = z\n",
    "        Punto.num_puntos += 1\n",
    "        return None\n",
    "\n",
    "    def __del__(self):\n",
    "        \"Borra el punto y actualiza el contador\"\n",
    "        Punto.num_puntos -= 1\n",
    "\n",
    "    def __str__(self):\n",
    "        return f\"Punto en el espacio con coordenadas: x = {self.x}, y = {self.y}, z = {self.z}\"\n",
    "\n",
    "    def __repr__(self):\n",
    "        return f\"Punto(x = {self.x}, y = {self.y}, z = {self.z})\"\n",
    "\n",
    "    def __call__(self):\n",
    "        return self.__str__()\n",
    "\n",
    "    @classmethod\n",
    "    def total(cls):\n",
    "        \"Imprime el número total de puntos\"\n",
    "        print(f\"En total hay {cls.num_puntos} puntos definidos\")\n",
    "\n"
   ]
  },
  {
   "cell_type": "code",
   "execution_count": null,
   "metadata": {},
   "outputs": [],
   "source": [
    "  class Vector(Punto):\n",
    "    \"Representa un vector en el espacio\"\n",
    "  \n",
    "    def __add__(self, v2):\n",
    "      \"Calcula un vector que contiene la suma de dos vectores\"\n",
    "      print(\"Aún no implementada la suma de dos vectores\") \n",
    "      # código calculando v = suma de self + v2\n",
    "      # ...\n",
    "  \n",
    "    def __mul__(self, v2):\n",
    "      \"Calcula el producto interno entre dos vectores\"\n",
    "      print(\"Aún no implementado el producto interno de dos vectores\") \n",
    "      # código calculando el producto interno pr = v1 . v2\n",
    "  \n",
    "    def abs(self):\n",
    "      \"Devuelve la distancia del punto al origen\"\n",
    "      print(\"Aún no implementado la norma del vector\") \n",
    "      # código calculando la magnitud del vector\n",
    "  \n",
    "    def angulo_entre_vectores(self, v2):\n",
    "      \"Calcula el ángulo entre dos vectores\"\n",
    "      print(\"Aún no implementado el ángulo entre dos vectores\") \n",
    "      angulo = 0\n",
    "      # código calculando angulo = arccos(v1 * v2 / (|v1||v2|))\n",
    "      return angulo\n",
    "  \n",
    "    def coordenadas_cilindricas(self):\n",
    "      \"Devuelve las coordenadas cilindricas del vector como una tupla (r, theta, z)\"\n",
    "      print(\"No implementada\")\n",
    "  \n",
    "    def coordenadas_esfericas(self):\n",
    "      \"Devuelve las coordenadas esféricas del vector como una tupla (r, theta, phi)\"\n",
    "      print(\"No implementada\")"
   ]
  },
  {
   "attachments": {},
   "cell_type": "markdown",
   "metadata": {},
   "source": [
    "### Ejercicio 3"
   ]
  },
  {
   "cell_type": "code",
   "execution_count": 145,
   "metadata": {},
   "outputs": [
    {
     "name": "stdout",
     "output_type": "stream",
     "text": [
      "1 + 2.1 x + 3 x^2 + 1.0 x^3\n",
      "2.1 + 6 x + 3.0 x^2\n",
      "1 + 0 x + -3 x^2 + -8 x^3\n",
      "0 + -6 x + -24 x^2\n",
      "-6 + -48 x\n"
     ]
    }
   ],
   "source": [
    "class Polinomio():\n",
    "  #Antes decía \"Objeto padre\". Se lo saqué porque si no, no corría\n",
    "\n",
    "  def __init__(self, coefs=[]):\n",
    "    \"\"\"Crea el objeto. Si los coeficientes son proporcionados lo inicializa\n",
    "    Keyword Arguments:\n",
    "    coefs -- (default [])\n",
    "    \n",
    "    Polinomio tiene como datos una lista de coeficientes que puede estar vacía\n",
    "    \"\"\"\n",
    "    self.set_coeficientes(coefs)\n",
    "    return None\n",
    "\n",
    "  def set_coeficientes(self, coefs = []):\n",
    "    \"\"\"Si los coeficientes son proporcionados lo inicializa\n",
    "    Keyword Arguments:\n",
    "    coefs -- Una lista de coeficientes\n",
    "    \"\"\"\n",
    "    self.coeficientes = coefs #Los coeficientes se guardan directamente como una lista\n",
    "    return None\n",
    "\n",
    "  def grado(self):\n",
    "    \"Devuelve el grado del polinomio (un entero)\"\n",
    "    grado = len(self.get_coeficientes())-1\n",
    "    for coef in self.get_coeficientes()[::-1]: #Esto está en caso de que el polinomio tenga coef nulo acompañando a la mayor potencia\n",
    "      if coef == 0:\n",
    "        grado -= 1\n",
    "      else:\n",
    "        break\n",
    "    return grado\n",
    "\n",
    "\n",
    "  def get_coeficientes(self):\n",
    "    \"\"\"Devuelve los coeficientes del polinomio \"\"\"\n",
    "    return self.coeficientes\n",
    "  \n",
    "\n",
    "  def suma_pol(self, p1):\n",
    "    \"\"\"Al polinomio le suma el polinomio `p1` y devuelve un nuevo polinomio\n",
    "    Keyword Arguments:\n",
    "    p1 -- Polinomio a sumar\n",
    "    \"\"\"\n",
    "    lista_de_polinomios = [self,p1]\n",
    "    lista_de_grados = [self.grado(), p1.grado()]\n",
    "    mayor_orden = max(lista_de_grados)\n",
    "    menor_orden = min(lista_de_grados)\n",
    "\n",
    "    p_suma_coefs = [0]*(mayor_orden + 1)\n",
    "    \n",
    "    pol_mayor = lista_de_grados.index(mayor_orden)\n",
    "    \n",
    "    for i in range(menor_orden + 1):\n",
    "      p_suma_coefs[i] = self.get_coeficientes()[i] + p1.get_coeficientes()[i]\n",
    "\n",
    "    for i in range(menor_orden + 1, mayor_orden + 1):\n",
    "      p_suma_coefs[i] = lista_de_polinomios[pol_mayor].get_coeficientes()[i]\n",
    "\n",
    "    p_suma = Polinomio(p_suma_coefs)\n",
    "    return p_suma\n",
    "\n",
    "\n",
    "\n",
    "  def mul(self, k):\n",
    "    \"\"\"Al polinomio lo multiplica por `k` y devuelve un nuevo polinomio\n",
    "    Keyword Arguments:\n",
    "    Agregar Documentación\n",
    "    \"\"\"\n",
    "    mult_coefs = self.get_coeficientes()\n",
    "    for i in range(len(mult_coefs)):\n",
    "      mult_coefs[i] = mult_coefs[i]*k\n",
    "    poli = Polinomio(mult_coefs)\n",
    "    return poli\n",
    "\n",
    "\n",
    "  def derivada(self, n=1):\n",
    "    \"\"\"Devuelve la derivada (n-ésima) del polinomio (un nuevo polinomio)\n",
    "    Keyword Arguments:\n",
    "    n -- (default 1) Orden de derivación\n",
    "\n",
    "    Modo de uso:\n",
    "    >>> P = Polinomio([0.1,2,3,0,1)\n",
    "    >>> P1 = P.derivada()\n",
    "    >>> P2 = P.derivada(n=2)\n",
    "    \"\"\"\n",
    "    #CONTROLAR SI n es ENTERO Y > 1!!\n",
    "\n",
    "    if n == 1: #Primera derivada\n",
    "      orden_deriv = self.grado()\n",
    "      pol_deriv_coefs = [0]*orden_deriv\n",
    "      for i in range(orden_deriv):\n",
    "          pol_deriv_coefs[i] = self.get_coeficientes()[i+1]*(i+1)\n",
    "      return Polinomio(pol_deriv_coefs)\n",
    "    else:\n",
    "      return self.derivada(n-1).derivada()\n",
    "  \n",
    "\n",
    "  def integrada(self, cte = 0, n = 1):\n",
    "    \"\"\"Devuelve la antiderivada (n-ésima) del polinomio (un nuevo polinomio)\n",
    "\n",
    "    Keyword Arguments:\n",
    "    n -- (default 1) Orden de integración\n",
    "    cte -- (default 0) Constante de integración\n",
    "\n",
    "    Modo de uso:\n",
    "    >>> P = Polinomio([0.1,2,3,0,1)\n",
    "    >>> P1 = P.integrada()\n",
    "    >>> P2 = P.integrada(cte=1.2, n=2)\n",
    "    \"\"\"\n",
    "    # if n == 1:\n",
    "    #   return \n",
    "    # else:\n",
    "    #   return self.integrada()\n",
    "    pass\n",
    "\n",
    "\n",
    "  def __str__(self):\n",
    "    \"Devuelve un string con la representación del polinomio\"\n",
    "    poli_str = []\n",
    "    for i, coef in enumerate(self.coeficientes,0):\n",
    "      #Corrijo las potencias\n",
    "      if i == 0:\n",
    "        poli_str.append(f\"{coef}\")\n",
    "      elif i == 1:\n",
    "        poli_str.append(f\"{coef} x\")\n",
    "      else:\n",
    "        poli_str.append(f\"{coef} x^{i}\")\n",
    "\n",
    "      #Corrijo los símbolos +/-\n",
    "      if coef < 0:\n",
    "        poli_str.append(f\"({coef})*x^{i}\")\n",
    "    return \" + \".join(poli_str)\n",
    "\n",
    "  # @classmethod\n",
    "  # def termino_to_pol(termino, var='x'):\n",
    "  #   #Hago un split por el caracter var\n",
    "  #   s_2split = termino.split(var)\n",
    "  #   #El elemento 0 estaba a la izquierda de var y por lo tanto es un coeficiente\n",
    "  #   coef = float(s_2split[0])\n",
    "  #   #Para la potencia ocurren varios casos\n",
    "  #   if len(s_2split) == 1:\n",
    "  #     #Para x^0, la lista tiene un único elemento\n",
    "  #     potencia = 0\n",
    "  #   else:\n",
    "  #     if(s_2split[1] == \"\" or s_2split[1] == \" \"):\n",
    "  #     #Para x^1, la lista tiene \"\" o \" \" como segundo elemento\n",
    "  #       potencia = 1\n",
    "  #     #Para x^n con n>1, la lista tiene como segundo elemento \"^n\"\n",
    "  #     else:\n",
    "  #       potencia = float(s_2split[1].split(\"^\")[1])\n",
    "  #       #Nuevamente hago un split\n",
    "  #   #Creo el polinomio\n",
    "  #   coeficientes = [0]*(potencia+1)\n",
    "  #   coeficientes[potencia] = coef\n",
    "  #   return Polinomio(coeficientes)\n",
    "\n",
    "\n",
    "  # def from_string(self, s, var='x'):\n",
    "  #   \"\"\"\n",
    "  #   Keyword Arguments:\n",
    "  #   s   -- Representación del polinomio como string\n",
    "  #   var -- (default 'x') Variable del polinomio: P(var)\n",
    "\n",
    "  #   Modo de uso:\n",
    "  #   >>> P = Polinomio()\n",
    "  #   >>> P.from_string('x + 2 x^2 + 3x + 1 + x^4', var='x')\n",
    "\n",
    "  #   No devuelve nada.\n",
    "  #   Nota: Si una potencia aparece más de una vez, sus coeficientes se suman\n",
    "  #   \"\"\"\n",
    "  #   #Inicializo el string\n",
    "  #   self.set_coeficientes()\n",
    "  #   #Hago un split del string por el caracter \"+\"\n",
    "  #   s_split = s.split(\"+\")\n",
    "  #   #Convierto cada elemento en un polinomio y luego los sumo\n",
    "  #   poli_termino = Polinomio()\n",
    "  #   for termino in s_split:\n",
    "  #     print(termino)\n",
    "  #     poli_termino = Polinomio.termino_to_pol(termino, var)\n",
    "  #     self.suma_pol(poli_termino)\n",
    "  #   return None\n",
    "\n",
    "  def from_string(self, s, var='x'):\n",
    "    #Tenemos que identificar los términos en el string dado. Esto puede no ser sencillo dado que varios términos se pueden escribir de forma distinta. Por ej: x = 1 x = 1 x^1 = + x. Entonces, \"normalicemos\" el string y llevemos cada término a una expresión estándar\n",
    "\n",
    "\n",
    "\n",
    "    #Eliminamos todos los espacios en blanco y los símbolos ^ porque ya sabemos que están acompañados siempre por var\n",
    "    new_string = \"\"\n",
    "    for character in s:\n",
    "      if character != \" \" and character != \"^\": \n",
    "        new_string += character\n",
    "\n",
    "\n",
    "    #Agregamos signos + al inicio y antes de cada signo -\n",
    "    new_string2 = \"\"\n",
    "    for character in new_string:\n",
    "      if character == \"-\": \n",
    "        new_string2 += \"+\"\n",
    "      new_string2 += character\n",
    "\n",
    "\n",
    "    #Spliteamos por signo +\n",
    "    s_split = new_string2.split(\"+\")\n",
    "\n",
    "    #Recorremos cada elemento y vamos sumando\n",
    "    poli_suma = Polinomio()\n",
    "    for termino in s_split:\n",
    "      #Spliteo por var\n",
    "      termino_split = termino.split(var)\n",
    "      \n",
    "      if len(termino_split) == 1:\n",
    "        #Si la nueva lista tiene un solo elemento, es una cte\n",
    "        coef = float(termino_split[0])\n",
    "        potencia = 0\n",
    "\n",
    "      else:\n",
    "        #Si la lista tiene más de un elemento, no es una cte. El primer elemento es el coef y el segundo, la potencia.\n",
    "        #Si el coef es \"\" significa que es 1\n",
    "        if termino_split[0] == \"\":\n",
    "          coef = 1\n",
    "        elif termino_split[0] == \"-\":\n",
    "        #Si el coef es \"-\" significa que es -1\n",
    "          coef = -1\n",
    "        else:\n",
    "          coef = float(termino_split[0])\n",
    "        \n",
    "        #Si la potencia es \"\" signicia que es 1\n",
    "        if termino_split[1] == \"\":\n",
    "          potencia = 1\n",
    "        else:\n",
    "          potencia = int(termino_split[1])\n",
    "\n",
    "      #Creo un polinomio representado por el término y se lo sumo a self\n",
    "      coeficientes = [0]*(potencia+1)\n",
    "      coeficientes[-1] = coef\n",
    "      poli_term = Polinomio(coeficientes)\n",
    "\n",
    "      poli_suma = poli_suma.suma_pol(poli_term)\n",
    "\n",
    "    self.set_coeficientes(poli_suma.get_coeficientes())\n",
    "\n",
    "    return None\n",
    "\n",
    "  # def from_string(self, s, var='x'):\n",
    "  #   \"\"\"\n",
    "  #   Keyword Arguments:\n",
    "  #   s   -- Representación del polinomio como string\n",
    "  #   var -- (default 'x') Variable del polinomio: P(var)\n",
    "\n",
    "  #   Modo de uso:\n",
    "  #   >>> P = Polinomio()\n",
    "  #   >>> P.from_string('x + 2 x^2 + 3x + 1 + x^4', var='x')\n",
    "\n",
    "  #   No devuelve nada.\n",
    "  #   Nota: Si una potencia aparece más de una vez, sus coeficientes se suman\n",
    "\n",
    "  #   Nota: se podrían usar expresiones regulares!\n",
    "  #   \"\"\"\n",
    "  #   item_accion = {var: \"El valor anterior es un coeficiente\"}\n",
    "\n",
    "\n",
    "\n",
    "  #   return None\n",
    "\n",
    "  def __call__(self, x):\n",
    "    \"\"\"Evalúa el polinomio en el valor `x` y devuelve el resultado\n",
    "    permite simplemente llamar p(x) para evaluar el polinomio\n",
    "    Keyword Arguments:\n",
    "    Agregar Documentación\n",
    "    \"\"\"\n",
    "    suma = 0\n",
    "    for i in range(self.grado() + 1):\n",
    "        suma+=self.get_coeficientes()[i]*x**i\n",
    "    return suma\n",
    "\n",
    "# if __name__ == '__main__':\n",
    "\n",
    "#   print('Nombre Apellido')\n",
    "\n",
    "P1 = Polinomio([1, 2.1, 3, 1.])   # 1 + 2.1x + 3 x^2 + x^3\n",
    "P2 = Polinomio([0, 1, 0, -1, -2])  # x - x^3 - 2x^4\n",
    "\n",
    "# print(P1.get_coeficientes())\n",
    "# print(P1.suma_pol(P2).get_coeficientes())\n",
    "print(P1)\n",
    "# print(P1.mul(3))\n",
    "P11 = P1.derivada()\n",
    "print(P11)\n",
    "P21 = P2.derivada()\n",
    "print(P21)\n",
    "P23 = P2.derivada(n=2)\n",
    "print(P23)\n",
    "P23 = P2.derivada(n=3)\n",
    "print(P23)\n",
    "# print(P1)\n",
    "\n",
    "#   P3 = Polinomio()\n",
    "#   P3.from_string('x + 1 - x^2 - 3x^3')\n",
    "#   print(P3.get_coeficientes())\n",
    "\n",
    "#   print(P3(3.3))\n",
    "\n",
    "\n",
    "\n"
   ]
  },
  {
   "cell_type": "code",
   "execution_count": 148,
   "metadata": {},
   "outputs": [
    {
     "name": "stdout",
     "output_type": "stream",
     "text": [
      "\n",
      "[3.0, -3.0, 1, 3.0, 0, 1]\n",
      "3.0 + -3.0 x + 1 x^2 + 3.0 x^3 + 0 x^4 + 1 x^5\n"
     ]
    }
   ],
   "source": [
    "p = Polinomio()\n",
    "\n",
    "print(p)\n",
    "p.from_string('x^5 + 3x^3 - 2 x+x^2 + 3 - x')\n",
    "print(p.get_coeficientes())\n",
    "print(p)"
   ]
  },
  {
   "cell_type": "code",
   "execution_count": 147,
   "metadata": {},
   "outputs": [
    {
     "data": {
      "text/plain": [
       "[3, -2, 1, 3, 0, 1]"
      ]
     },
     "execution_count": 147,
     "metadata": {},
     "output_type": "execute_result"
    }
   ],
   "source": [
    "\n",
    "[3, -3, 1, 3, 0, 1]\n",
    "\n",
    "p1 = Polinomio()\n",
    "p1.from_string('y^5 + 3y^3 - 2 y + y^2+3', var='y')\n",
    "p1.get_coeficientes()\n",
    "[3, -2, 1, 3, 0, 1]"
   ]
  },
  {
   "cell_type": "code",
   "execution_count": 89,
   "metadata": {},
   "outputs": [
    {
     "data": {
      "text/plain": [
       "['', '1']"
      ]
     },
     "execution_count": 89,
     "metadata": {},
     "output_type": "execute_result"
    }
   ],
   "source": [
    "test = \"^1\"\n",
    "test.split(\"^\")"
   ]
  },
  {
   "cell_type": "code",
   "execution_count": 98,
   "metadata": {},
   "outputs": [
    {
     "data": {
      "text/plain": [
       "['-', '']"
      ]
     },
     "execution_count": 98,
     "metadata": {},
     "output_type": "execute_result"
    }
   ],
   "source": [
    "\"-x\".split(\"x\")"
   ]
  },
  {
   "cell_type": "code",
   "execution_count": 90,
   "metadata": {},
   "outputs": [
    {
     "name": "stdout",
     "output_type": "stream",
     "text": [
      "x \n"
     ]
    },
    {
     "ename": "TypeError",
     "evalue": "Polinomio.termino_to_pol() takes from 1 to 2 positional arguments but 3 were given",
     "output_type": "error",
     "traceback": [
      "\u001b[1;31m---------------------------------------------------------------------------\u001b[0m",
      "\u001b[1;31mTypeError\u001b[0m                                 Traceback (most recent call last)",
      "Cell \u001b[1;32mIn[90], line 2\u001b[0m\n\u001b[0;32m      1\u001b[0m P3 \u001b[39m=\u001b[39m Polinomio()\n\u001b[1;32m----> 2\u001b[0m P3\u001b[39m.\u001b[39;49mfrom_string(\u001b[39m'\u001b[39;49m\u001b[39mx + 1 - x^2 - 3x^3\u001b[39;49m\u001b[39m'\u001b[39;49m)\n",
      "Cell \u001b[1;32mIn[88], line 175\u001b[0m, in \u001b[0;36mPolinomio.from_string\u001b[1;34m(self, s, var)\u001b[0m\n\u001b[0;32m    173\u001b[0m \u001b[39mfor\u001b[39;00m termino \u001b[39min\u001b[39;00m s_split:\n\u001b[0;32m    174\u001b[0m   \u001b[39mprint\u001b[39m(termino)\n\u001b[1;32m--> 175\u001b[0m   poli_termino \u001b[39m=\u001b[39m Polinomio\u001b[39m.\u001b[39;49mtermino_to_pol(termino, var)\n\u001b[0;32m    176\u001b[0m   \u001b[39mself\u001b[39m\u001b[39m.\u001b[39msuma_pol(poli_termino)\n\u001b[0;32m    177\u001b[0m \u001b[39mreturn\u001b[39;00m \u001b[39mNone\u001b[39;00m\n",
      "\u001b[1;31mTypeError\u001b[0m: Polinomio.termino_to_pol() takes from 1 to 2 positional arguments but 3 were given"
     ]
    }
   ],
   "source": [
    "P3 = Polinomio()\n",
    "P3.from_string('x + 1 - x^2 - 3x^3')"
   ]
  },
  {
   "cell_type": "code",
   "execution_count": 67,
   "metadata": {},
   "outputs": [
    {
     "name": "stdout",
     "output_type": "stream",
     "text": [
      "[1, 2.1, 3, 1.0]\n",
      "[3, 4]\n"
     ]
    },
    {
     "data": {
      "text/plain": [
       "<__main__.Polinomio at 0x196ca2af2b0>"
      ]
     },
     "execution_count": 67,
     "metadata": {},
     "output_type": "execute_result"
    }
   ],
   "source": [
    "P1 = Polinomio([1, 2.1, 3, 1.])   # 1 + 2.1x + 3 x^2 + x^3\n",
    "P2 = Polinomio([0, 1, 0, -1, -2])  # x - x^3 - 2x^4\n",
    "\n",
    "print(P1.get_coeficientes())\n",
    "P1.suma_pol(P2)\n",
    "# print(P1.suma_pol(P2).get_coeficientes())"
   ]
  },
  {
   "cell_type": "code",
   "execution_count": 44,
   "metadata": {},
   "outputs": [
    {
     "name": "stdout",
     "output_type": "stream",
     "text": [
      "[]\n",
      "[1, 2, 3, 4]\n"
     ]
    }
   ],
   "source": [
    "p = Polinomio()\n",
    "print(p.get_coeficientes())\n",
    "\n",
    "p.set_coeficientes([1,2,3,4])\n",
    "print(p.get_coeficientes())\n"
   ]
  },
  {
   "cell_type": "code",
   "execution_count": 8,
   "metadata": {},
   "outputs": [
    {
     "data": {
      "text/plain": [
       "'1+2'"
      ]
     },
     "execution_count": 8,
     "metadata": {},
     "output_type": "execute_result"
    }
   ],
   "source": [
    "lista = []\n",
    "lista.append(\"1\")\n",
    "lista.append(\"2\")\n",
    "\"+\".join(lista)"
   ]
  },
  {
   "cell_type": "code",
   "execution_count": null,
   "metadata": {},
   "outputs": [],
   "source": []
  }
 ],
 "metadata": {
  "kernelspec": {
   "display_name": "IntroPython",
   "language": "python",
   "name": "python3"
  },
  "language_info": {
   "codemirror_mode": {
    "name": "ipython",
    "version": 3
   },
   "file_extension": ".py",
   "mimetype": "text/x-python",
   "name": "python",
   "nbconvert_exporter": "python",
   "pygments_lexer": "ipython3",
   "version": "3.10.9"
  },
  "orig_nbformat": 4,
  "vscode": {
   "interpreter": {
    "hash": "6b8ef78bc8fc504654170752d5658161177d5450671fa32490eb795dae9c9f83"
   }
  }
 },
 "nbformat": 4,
 "nbformat_minor": 2
}
