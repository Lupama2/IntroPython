{
 "cells": [
  {
   "attachments": {},
   "cell_type": "markdown",
   "metadata": {},
   "source": [
    "# Clase 04\n",
    "\n",
    "Las funciones son útiles para modularizar el código"
   ]
  },
  {
   "cell_type": "code",
   "execution_count": 2,
   "metadata": {},
   "outputs": [
    {
     "data": {
      "text/plain": [
       "<function print>"
      ]
     },
     "execution_count": 2,
     "metadata": {},
     "output_type": "execute_result"
    }
   ],
   "source": [
    "#Cuando pongo\n",
    "print\n",
    "#no me aparece toda la data en la consola"
   ]
  },
  {
   "cell_type": "code",
   "execution_count": 3,
   "metadata": {},
   "outputs": [
    {
     "name": "stdout",
     "output_type": "stream",
     "text": [
      "Help on built-in function print in module builtins:\n",
      "\n",
      "print(...)\n",
      "    print(value, ..., sep=' ', end='\\n', file=sys.stdout, flush=False)\n",
      "    \n",
      "    Prints the values to a stream, or to sys.stdout by default.\n",
      "    Optional keyword arguments:\n",
      "    file:  a file-like object (stream); defaults to the current sys.stdout.\n",
      "    sep:   string inserted between values, default a space.\n",
      "    end:   string appended after the last value, default a newline.\n",
      "    flush: whether to forcibly flush the stream.\n",
      "\n"
     ]
    }
   ],
   "source": [
    "#Pero sí aparece si pongo\n",
    "help(print)"
   ]
  },
  {
   "cell_type": "code",
   "execution_count": 7,
   "metadata": {},
   "outputs": [
    {
     "name": "stdout",
     "output_type": "stream",
     "text": [
      "True True\n"
     ]
    }
   ],
   "source": [
    "#Una variable es un objeto y por lo tanto puedo asignarlo directamente\n",
    "f = sum\n",
    "f([1,2,3])\n",
    "#y realmente loq ue hace es asignar el nombre a la función\n",
    "print(f is sum, f == sum)"
   ]
  },
  {
   "cell_type": "code",
   "execution_count": 10,
   "metadata": {},
   "outputs": [
    {
     "data": {
      "text/plain": [
       "False"
      ]
     },
     "execution_count": 10,
     "metadata": {},
     "output_type": "execute_result"
    }
   ],
   "source": [
    "def test1(x):\n",
    "    return x + 1\n",
    "\n",
    "def test2(x):\n",
    "    return x + 1\n",
    "\n",
    "test1 == test2 #Da false a pesar de que las funciones hagan lo mismo y tengan el mismo código. Esto ocurre porque la identidad de las funciones son distintas"
   ]
  },
  {
   "attachments": {},
   "cell_type": "markdown",
   "metadata": {},
   "source": [
    "La documentación de la función automática es el primer string. Es cómodo ponerlo como comillas. Es útil porque hay páginas web que fabrican la documentación de un código a partir de estos strings. En la documentación se suele comentar (1) Qué hace la función (2) qué necesita como input"
   ]
  },
  {
   "cell_type": "code",
   "execution_count": 16,
   "metadata": {},
   "outputs": [],
   "source": [
    "def fib(n):\n",
    "  '''Devuelve una lista con los términos\n",
    "  de la serie de Fibonacci hasta n.'''\n",
    "  result = []\n",
    "  a, b = 0, 1\n",
    "  while a < n:\n",
    "    result.append(a)    \n",
    "    a, b = b, a+b\n",
    "  return result"
   ]
  },
  {
   "attachments": {},
   "cell_type": "markdown",
   "metadata": {},
   "source": [
    "Se puede printear el nro de puntos flotantes cómodamente con {}"
   ]
  },
  {
   "cell_type": "code",
   "execution_count": 17,
   "metadata": {},
   "outputs": [
    {
     "name": "stdout",
     "output_type": "stream",
     "text": [
      "Para t = 1.5, la velocidad será v=1.33 m/s y estará a una altura 10.00 m\n"
     ]
    }
   ],
   "source": [
    "v = 1.333\n",
    "h = 9.999\n",
    "print(f'Para t = {1.5}, la velocidad será v={v:.2f} m/s\\\n",
    " y estará a una altura {h:.2f} m')"
   ]
  },
  {
   "cell_type": "code",
   "execution_count": 18,
   "metadata": {},
   "outputs": [
    {
     "data": {
      "text/plain": [
       "<function __main__.fib(n)>"
      ]
     },
     "execution_count": 18,
     "metadata": {},
     "output_type": "execute_result"
    }
   ],
   "source": [
    "fib\n",
    "#Dice que la función está definida en main"
   ]
  },
  {
   "attachments": {},
   "cell_type": "markdown",
   "metadata": {},
   "source": [
    "El atributo __doc__ está definida para todas las funciones. La idea de que tenga guiones bajos es que uno no use esa función. Es algo interno. No accedemos directamente, sino que el help lo va a buscar\n",
    "\n",
    "En otros lenguajes existen atributos públicos y privados. En Python todo es público, pero hay convenciones. Los métodos con guiones __..__ se consideran privados y están hechos por el programador para su trabajo. No se recomiendan acceder por el usuario porque el programador no garantiza que estén en un futuro."
   ]
  },
  {
   "cell_type": "code",
   "execution_count": 22,
   "metadata": {},
   "outputs": [
    {
     "data": {
      "text/plain": [
       "'Devuelve una lista con los términos\\n  de la serie de Fibonacci hasta n.'"
      ]
     },
     "execution_count": 22,
     "metadata": {},
     "output_type": "execute_result"
    }
   ],
   "source": [
    "fib.__doc__"
   ]
  },
  {
   "attachments": {},
   "cell_type": "markdown",
   "metadata": {},
   "source": [
    "En python, si tuvieramos varios argumentos, podemos hacer fib(n, m, ...) en orden o, por el contrario fib(m = m, n = n) donde los n y m mencionados a la derecha de cada igualdad sob variables definidas anteriormente. PERO una vez que pongamos el primero de la forma m = m, entonces los demás deben escribirse de la misma forma"
   ]
  },
  {
   "cell_type": "code",
   "execution_count": 51,
   "metadata": {},
   "outputs": [
    {
     "data": {
      "text/plain": [
       "6"
      ]
     },
     "execution_count": 51,
     "metadata": {},
     "output_type": "execute_result"
    }
   ],
   "source": [
    "def test(a, b, c):\n",
    "    return a + b + c\n",
    "\n",
    "test(1,2,3)"
   ]
  },
  {
   "cell_type": "code",
   "execution_count": null,
   "metadata": {},
   "outputs": [],
   "source": [
    "test(a = 1, b = 2, c = 3) #Funciona"
   ]
  },
  {
   "cell_type": "code",
   "execution_count": 52,
   "metadata": {},
   "outputs": [
    {
     "ename": "SyntaxError",
     "evalue": "positional argument follows keyword argument (4058173447.py, line 2)",
     "output_type": "error",
     "traceback": [
      "\u001b[1;36m  Cell \u001b[1;32mIn[52], line 2\u001b[1;36m\u001b[0m\n\u001b[1;33m    test(a = 1, 2, 3)\u001b[0m\n\u001b[1;37m                    ^\u001b[0m\n\u001b[1;31mSyntaxError\u001b[0m\u001b[1;31m:\u001b[0m positional argument follows keyword argument\n"
     ]
    }
   ],
   "source": [
    "test(a = 1, 2, 3) #No funciona"
   ]
  },
  {
   "attachments": {},
   "cell_type": "markdown",
   "metadata": {},
   "source": [
    "-----\n",
    "\n",
    "## Ejercicios 4 (a)\n",
    "\n",
    "1. Escriba una función que tome como un argumento una cadena de caracteres (*string*) y \n",
    "lo devuelva centrado con un ancho `w`. Si la longitud del string es mayor que el ancho `w` debe retornar el *string* original. Los argumentos que toma la función son el *string* y el ancho.\n",
    "\n",
    "\n",
    "2. Utilizando conjuntos (`set`), escriba una función que compruebe si un string contiene todas las vocales. La función debe devolver  `True` o `False`.\n",
    "\n",
    "\n",
    "-----\n"
   ]
  },
  {
   "cell_type": "code",
   "execution_count": 27,
   "metadata": {},
   "outputs": [],
   "source": [
    "def centrado(s, w):\n",
    "    '''Centra el string s en un campo de ancho w'''\n",
    "    if len(s)>w:\n",
    "        return s\n",
    "    else:\n",
    "        return int((w-len(s))/2)*\"-\"  + s + \"-\"*int((w-len(s))/2)\n",
    "    "
   ]
  },
  {
   "cell_type": "code",
   "execution_count": 31,
   "metadata": {},
   "outputs": [
    {
     "data": {
      "text/plain": [
       "'-Ea-'"
      ]
     },
     "execution_count": 31,
     "metadata": {},
     "output_type": "execute_result"
    }
   ],
   "source": [
    "centrado(\"Ea\", 4)"
   ]
  },
  {
   "cell_type": "code",
   "execution_count": 38,
   "metadata": {},
   "outputs": [],
   "source": [
    "def all_vocals(s):\n",
    "    '''Comprueba si el string s contiene todas las vocales'''\n",
    "    vocals = {\"a\", \"e\", \"i\", \"o\", \"u\"}\n",
    "    #Para convertir s en set basta con aplicar set(s)\n",
    "    if set(s).intersection(vocals) == vocals:\n",
    "        return True\n",
    "    else:\n",
    "        return False"
   ]
  },
  {
   "cell_type": "code",
   "execution_count": 40,
   "metadata": {},
   "outputs": [
    {
     "data": {
      "text/plain": [
       "True"
      ]
     },
     "execution_count": 40,
     "metadata": {},
     "output_type": "execute_result"
    }
   ],
   "source": [
    "s = \"testaiou\"\n",
    "all_vocals(s)"
   ]
  },
  {
   "cell_type": "code",
   "execution_count": 50,
   "metadata": {},
   "outputs": [
    {
     "name": "stdout",
     "output_type": "stream",
     "text": [
      "{'test2', 'test1'}\n",
      "{'test2', 'a', 'test1', 'e'}\n",
      "{'test1', 'test2', 'a', 'ae', 'e'}\n",
      "{1, 2, 'test1', 'test2', 'a', 'ae', 'e'}\n",
      "{1, 2, (1, 2), (2, 1), 'test1', 'test2', 'a', 'ae', 'e'}\n",
      "{1, 2, (1, 2), 4, (2, 1), 'test1', 5, 'test2', 'a', 'ae', 'e'}\n"
     ]
    },
    {
     "ename": "TypeError",
     "evalue": "unhashable type: 'list'",
     "output_type": "error",
     "traceback": [
      "\u001b[1;31m---------------------------------------------------------------------------\u001b[0m",
      "\u001b[1;31mTypeError\u001b[0m                                 Traceback (most recent call last)",
      "Cell \u001b[1;32mIn[50], line 13\u001b[0m\n\u001b[0;32m     11\u001b[0m set_test\u001b[39m.\u001b[39mupdate([\u001b[39m4\u001b[39m,\u001b[39m5\u001b[39m]) \u001b[39m#Agrega cada elemento de la tupla\u001b[39;00m\n\u001b[0;32m     12\u001b[0m \u001b[39mprint\u001b[39m(set_test)\n\u001b[1;32m---> 13\u001b[0m set_test\u001b[39m.\u001b[39mupdate({[\u001b[39m4\u001b[39m,\u001b[39m5\u001b[39m]}) \u001b[39m#No agrega la lista porque no es un inmutable\u001b[39;00m\n\u001b[0;32m     14\u001b[0m \u001b[39mprint\u001b[39m(set_test)\n",
      "\u001b[1;31mTypeError\u001b[0m: unhashable type: 'list'"
     ]
    }
   ],
   "source": [
    "set_test = {\"test1\", \"test2\"}\n",
    "print(set_test)\n",
    "set_test.update(\"ae\") #Agrega cada elemento del string\n",
    "print(set_test)\n",
    "set_test.update({\"ae\"}) #Agrega el string\n",
    "print(set_test)\n",
    "set_test.update((1,2)) #Agrega cada elemento de la tupla\n",
    "print(set_test)\n",
    "set_test.update({(1,2), (2,1)}) #Agrega la tupla\n",
    "print(set_test)\n",
    "set_test.update([4,5]) #Agrega cada elemento de la tupla\n",
    "print(set_test)\n",
    "set_test.update({[4,5]}) #No agrega la lista porque no es un inmutable\n",
    "print(set_test)\n"
   ]
  },
  {
   "attachments": {},
   "cell_type": "markdown",
   "metadata": {},
   "source": [
    "Una forma \"linda\" de documentar una función es\n",
    "¿Qué hace?\n",
    "Parameters\n",
    "----------\n",
    "(parámetros)\n",
    "Returns\n",
    "-------\n",
    "(returns)"
   ]
  },
  {
   "cell_type": "code",
   "execution_count": null,
   "metadata": {},
   "outputs": [],
   "source": [
    "#Para poner argumentos como opcionales hay que asignarle un valor en el argumento de la función en su definición\n",
    "# def caida_libre(t, h0, v0 = 0.0, g = 9.8):\n",
    "#En este caso, v0 y g son opcionales."
   ]
  },
  {
   "attachments": {},
   "cell_type": "markdown",
   "metadata": {},
   "source": [
    "Hay que tener cuidado con los argumentos opcionales que no sean inmutables"
   ]
  },
  {
   "cell_type": "code",
   "execution_count": 57,
   "metadata": {},
   "outputs": [
    {
     "name": "stdout",
     "output_type": "stream",
     "text": [
      "Help on function funcion in module __main__:\n",
      "\n",
      "funcion()\n",
      "    No hace nada\n",
      "\n",
      "Help on NoneType object:\n",
      "\n",
      "class NoneType(object)\n",
      " |  Methods defined here:\n",
      " |  \n",
      " |  __bool__(self, /)\n",
      " |      True if self else False\n",
      " |  \n",
      " |  __repr__(self, /)\n",
      " |      Return repr(self).\n",
      " |  \n",
      " |  ----------------------------------------------------------------------\n",
      " |  Static methods defined here:\n",
      " |  \n",
      " |  __new__(*args, **kwargs) from builtins.type\n",
      " |      Create and return a new object.  See help(type) for accurate signature.\n",
      "\n"
     ]
    }
   ],
   "source": [
    "def funcion():\n",
    "    \"No hace nada\"\n",
    "    return\n",
    "\n",
    "help(funcion)\n",
    "help(funcion())"
   ]
  },
  {
   "cell_type": "code",
   "execution_count": 62,
   "metadata": {},
   "outputs": [
    {
     "name": "stdout",
     "output_type": "stream",
     "text": [
      "Help on built-in function print in module builtins:\n",
      "\n",
      "print(...)\n",
      "    print(value, ..., sep=' ', end='\\n', file=sys.stdout, flush=False)\n",
      "    \n",
      "    Prints the values to a stream, or to sys.stdout by default.\n",
      "    Optional keyword arguments:\n",
      "    file:  a file-like object (stream); defaults to the current sys.stdout.\n",
      "    sep:   string inserted between values, default a space.\n",
      "    end:   string appended after the last value, default a newline.\n",
      "    flush: whether to forcibly flush the stream.\n",
      "\n"
     ]
    }
   ],
   "source": [
    "help(print)"
   ]
  },
  {
   "cell_type": "code",
   "execution_count": 61,
   "metadata": {},
   "outputs": [
    {
     "name": "stdout",
     "output_type": "stream",
     "text": [
      "Test\n",
      "Test2\n",
      "0\n",
      "1\n",
      "2\n",
      "3\n",
      "4\n",
      "5\n",
      "6\n",
      "7\n",
      "8\n",
      "9\n"
     ]
    }
   ],
   "source": [
    "print(\"Test\", flush = True)\n",
    "print(\"Test2\", flush = True)\n",
    "for i in range(10):\n",
    "    print(i, flush = True)\n"
   ]
  },
  {
   "attachments": {},
   "cell_type": "markdown",
   "metadata": {},
   "source": [
    "Ejercicio 4 (b)\n",
    "\n"
   ]
  },
  {
   "cell_type": "markdown",
   "metadata": {},
   "source": []
  },
  {
   "attachments": {},
   "cell_type": "markdown",
   "metadata": {},
   "source": [
    "Revisar la primera parte de la segunda parte de la clase 04. Tmb leer a partir del ejercicio 4 (b)"
   ]
  },
  {
   "cell_type": "code",
   "execution_count": null,
   "metadata": {},
   "outputs": [],
   "source": []
  }
 ],
 "metadata": {
  "kernelspec": {
   "display_name": "IntroPython",
   "language": "python",
   "name": "python3"
  },
  "language_info": {
   "codemirror_mode": {
    "name": "ipython",
    "version": 3
   },
   "file_extension": ".py",
   "mimetype": "text/x-python",
   "name": "python",
   "nbconvert_exporter": "python",
   "pygments_lexer": "ipython3",
   "version": "3.10.9"
  },
  "orig_nbformat": 4,
  "vscode": {
   "interpreter": {
    "hash": "6b8ef78bc8fc504654170752d5658161177d5450671fa32490eb795dae9c9f83"
   }
  }
 },
 "nbformat": 4,
 "nbformat_minor": 2
}
