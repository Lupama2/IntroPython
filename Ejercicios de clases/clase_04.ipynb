{
 "cells": [
  {
   "attachments": {},
   "cell_type": "markdown",
   "metadata": {},
   "source": [
    "# Clase 04\n",
    "\n",
    "Las funciones son útiles para modularizar el código"
   ]
  },
  {
   "cell_type": "code",
   "execution_count": 2,
   "metadata": {},
   "outputs": [
    {
     "data": {
      "text/plain": [
       "<function print>"
      ]
     },
     "execution_count": 2,
     "metadata": {},
     "output_type": "execute_result"
    }
   ],
   "source": [
    "#Cuando pongo\n",
    "print\n",
    "#no me aparece toda la data en la consola"
   ]
  },
  {
   "cell_type": "code",
   "execution_count": 3,
   "metadata": {},
   "outputs": [
    {
     "name": "stdout",
     "output_type": "stream",
     "text": [
      "Help on built-in function print in module builtins:\n",
      "\n",
      "print(...)\n",
      "    print(value, ..., sep=' ', end='\\n', file=sys.stdout, flush=False)\n",
      "    \n",
      "    Prints the values to a stream, or to sys.stdout by default.\n",
      "    Optional keyword arguments:\n",
      "    file:  a file-like object (stream); defaults to the current sys.stdout.\n",
      "    sep:   string inserted between values, default a space.\n",
      "    end:   string appended after the last value, default a newline.\n",
      "    flush: whether to forcibly flush the stream.\n",
      "\n"
     ]
    }
   ],
   "source": [
    "#Pero sí aparece si pongo\n",
    "help(print)"
   ]
  },
  {
   "cell_type": "code",
   "execution_count": 7,
   "metadata": {},
   "outputs": [
    {
     "name": "stdout",
     "output_type": "stream",
     "text": [
      "True True\n"
     ]
    }
   ],
   "source": [
    "#Una variable es un objeto y por lo tanto puedo asignarlo directamente\n",
    "f = sum\n",
    "f([1,2,3])\n",
    "#y realmente loq ue hace es asignar el nombre a la función\n",
    "print(f is sum, f == sum)"
   ]
  },
  {
   "cell_type": "code",
   "execution_count": 10,
   "metadata": {},
   "outputs": [
    {
     "data": {
      "text/plain": [
       "False"
      ]
     },
     "execution_count": 10,
     "metadata": {},
     "output_type": "execute_result"
    }
   ],
   "source": [
    "def test1(x):\n",
    "    return x + 1\n",
    "\n",
    "def test2(x):\n",
    "    return x + 1\n",
    "\n",
    "test1 == test2 #Da false a pesar de que las funciones hagan lo mismo y tengan el mismo código. Esto ocurre porque la identidad de las funciones son distintas"
   ]
  },
  {
   "attachments": {},
   "cell_type": "markdown",
   "metadata": {},
   "source": [
    "La documentación de la función automática es el primer string. Es cómodo ponerlo como comillas. Es útil porque hay páginas web que fabrican la documentación de un código a partir de estos strings. En la documentación se suele comentar (1) Qué hace la función (2) qué necesita como input"
   ]
  },
  {
   "cell_type": "code",
   "execution_count": 16,
   "metadata": {},
   "outputs": [],
   "source": [
    "def fib(n):\n",
    "  '''Devuelve una lista con los términos\n",
    "  de la serie de Fibonacci hasta n.'''\n",
    "  result = []\n",
    "  a, b = 0, 1\n",
    "  while a < n:\n",
    "    result.append(a)    \n",
    "    a, b = b, a+b\n",
    "  return result"
   ]
  },
  {
   "attachments": {},
   "cell_type": "markdown",
   "metadata": {},
   "source": [
    "Se puede printear el nro de puntos flotantes cómodamente con {}"
   ]
  },
  {
   "cell_type": "code",
   "execution_count": 17,
   "metadata": {},
   "outputs": [
    {
     "name": "stdout",
     "output_type": "stream",
     "text": [
      "Para t = 1.5, la velocidad será v=1.33 m/s y estará a una altura 10.00 m\n"
     ]
    }
   ],
   "source": [
    "v = 1.333\n",
    "h = 9.999\n",
    "print(f'Para t = {1.5}, la velocidad será v={v:.2f} m/s\\\n",
    " y estará a una altura {h:.2f} m')"
   ]
  },
  {
   "cell_type": "code",
   "execution_count": 18,
   "metadata": {},
   "outputs": [
    {
     "data": {
      "text/plain": [
       "<function __main__.fib(n)>"
      ]
     },
     "execution_count": 18,
     "metadata": {},
     "output_type": "execute_result"
    }
   ],
   "source": [
    "fib\n",
    "#Dice que la función está definida en main"
   ]
  },
  {
   "attachments": {},
   "cell_type": "markdown",
   "metadata": {},
   "source": [
    "El atributo __doc__ está definida para todas las funciones. La idea de que tenga guiones bajos es que uno no use esa función. Es algo interno. No accedemos directamente, sino que el help lo va a buscar\n",
    "\n",
    "En otros lenguajes existen atributos públicos y privados. En Python todo es público, pero hay convenciones. Los métodos con guiones __..__ se consideran privados y están hechos por el programador para su trabajo. No se recomiendan acceder por el usuario porque el programador no garantiza que estén en un futuro."
   ]
  },
  {
   "cell_type": "code",
   "execution_count": 22,
   "metadata": {},
   "outputs": [
    {
     "data": {
      "text/plain": [
       "'Devuelve una lista con los términos\\n  de la serie de Fibonacci hasta n.'"
      ]
     },
     "execution_count": 22,
     "metadata": {},
     "output_type": "execute_result"
    }
   ],
   "source": [
    "fib.__doc__"
   ]
  },
  {
   "attachments": {},
   "cell_type": "markdown",
   "metadata": {},
   "source": [
    "En python, si tuvieramos varios argumentos, podemos hacer fib(n, m, ...) en orden o, por el contrario fib(m = m, n = n) donde los n y m mencionados a la derecha de cada igualdad sob variables definidas anteriormente. PERO una vez que pongamos el primero de la forma m = m, entonces los demás deben escribirse de la misma forma"
   ]
  },
  {
   "cell_type": "code",
   "execution_count": 51,
   "metadata": {},
   "outputs": [
    {
     "data": {
      "text/plain": [
       "6"
      ]
     },
     "execution_count": 51,
     "metadata": {},
     "output_type": "execute_result"
    }
   ],
   "source": [
    "def test(a, b, c):\n",
    "    return a + b + c\n",
    "\n",
    "test(1,2,3)"
   ]
  },
  {
   "cell_type": "code",
   "execution_count": null,
   "metadata": {},
   "outputs": [],
   "source": [
    "test(a = 1, b = 2, c = 3) #Funciona"
   ]
  },
  {
   "cell_type": "code",
   "execution_count": 52,
   "metadata": {},
   "outputs": [
    {
     "ename": "SyntaxError",
     "evalue": "positional argument follows keyword argument (4058173447.py, line 2)",
     "output_type": "error",
     "traceback": [
      "\u001b[1;36m  Cell \u001b[1;32mIn[52], line 2\u001b[1;36m\u001b[0m\n\u001b[1;33m    test(a = 1, 2, 3)\u001b[0m\n\u001b[1;37m                    ^\u001b[0m\n\u001b[1;31mSyntaxError\u001b[0m\u001b[1;31m:\u001b[0m positional argument follows keyword argument\n"
     ]
    }
   ],
   "source": [
    "test(a = 1, 2, 3) #No funciona"
   ]
  },
  {
   "attachments": {},
   "cell_type": "markdown",
   "metadata": {},
   "source": [
    "-----\n",
    "\n",
    "## Ejercicios 4 (a)\n",
    "\n",
    "1. Escriba una función que tome como un argumento una cadena de caracteres (*string*) y \n",
    "lo devuelva centrado con un ancho `w`. Si la longitud del string es mayor que el ancho `w` debe retornar el *string* original. Los argumentos que toma la función son el *string* y el ancho.\n",
    "\n",
    "\n",
    "2. Utilizando conjuntos (`set`), escriba una función que compruebe si un string contiene todas las vocales. La función debe devolver  `True` o `False`.\n",
    "\n",
    "\n",
    "-----\n"
   ]
  },
  {
   "cell_type": "code",
   "execution_count": 27,
   "metadata": {},
   "outputs": [],
   "source": [
    "def centrado(s, w):\n",
    "    '''Centra el string s en un campo de ancho w'''\n",
    "    if len(s)>w:\n",
    "        return s\n",
    "    else:\n",
    "        return int((w-len(s))/2)*\"-\"  + s + \"-\"*int((w-len(s))/2)\n",
    "    "
   ]
  },
  {
   "cell_type": "code",
   "execution_count": 31,
   "metadata": {},
   "outputs": [
    {
     "data": {
      "text/plain": [
       "'-Ea-'"
      ]
     },
     "execution_count": 31,
     "metadata": {},
     "output_type": "execute_result"
    }
   ],
   "source": [
    "centrado(\"Ea\", 4)"
   ]
  },
  {
   "cell_type": "code",
   "execution_count": 38,
   "metadata": {},
   "outputs": [],
   "source": [
    "def all_vocals(s):\n",
    "    '''Comprueba si el string s contiene todas las vocales'''\n",
    "    vocals = {\"a\", \"e\", \"i\", \"o\", \"u\"}\n",
    "    #Para convertir s en set basta con aplicar set(s)\n",
    "    if set(s).intersection(vocals) == vocals:\n",
    "        return True\n",
    "    else:\n",
    "        return False"
   ]
  },
  {
   "cell_type": "code",
   "execution_count": 40,
   "metadata": {},
   "outputs": [
    {
     "data": {
      "text/plain": [
       "True"
      ]
     },
     "execution_count": 40,
     "metadata": {},
     "output_type": "execute_result"
    }
   ],
   "source": [
    "s = \"testaiou\"\n",
    "all_vocals(s)"
   ]
  },
  {
   "cell_type": "code",
   "execution_count": 50,
   "metadata": {},
   "outputs": [
    {
     "name": "stdout",
     "output_type": "stream",
     "text": [
      "{'test2', 'test1'}\n",
      "{'test2', 'a', 'test1', 'e'}\n",
      "{'test1', 'test2', 'a', 'ae', 'e'}\n",
      "{1, 2, 'test1', 'test2', 'a', 'ae', 'e'}\n",
      "{1, 2, (1, 2), (2, 1), 'test1', 'test2', 'a', 'ae', 'e'}\n",
      "{1, 2, (1, 2), 4, (2, 1), 'test1', 5, 'test2', 'a', 'ae', 'e'}\n"
     ]
    },
    {
     "ename": "TypeError",
     "evalue": "unhashable type: 'list'",
     "output_type": "error",
     "traceback": [
      "\u001b[1;31m---------------------------------------------------------------------------\u001b[0m",
      "\u001b[1;31mTypeError\u001b[0m                                 Traceback (most recent call last)",
      "Cell \u001b[1;32mIn[50], line 13\u001b[0m\n\u001b[0;32m     11\u001b[0m set_test\u001b[39m.\u001b[39mupdate([\u001b[39m4\u001b[39m,\u001b[39m5\u001b[39m]) \u001b[39m#Agrega cada elemento de la tupla\u001b[39;00m\n\u001b[0;32m     12\u001b[0m \u001b[39mprint\u001b[39m(set_test)\n\u001b[1;32m---> 13\u001b[0m set_test\u001b[39m.\u001b[39mupdate({[\u001b[39m4\u001b[39m,\u001b[39m5\u001b[39m]}) \u001b[39m#No agrega la lista porque no es un inmutable\u001b[39;00m\n\u001b[0;32m     14\u001b[0m \u001b[39mprint\u001b[39m(set_test)\n",
      "\u001b[1;31mTypeError\u001b[0m: unhashable type: 'list'"
     ]
    }
   ],
   "source": [
    "set_test = {\"test1\", \"test2\"}\n",
    "print(set_test)\n",
    "set_test.update(\"ae\") #Agrega cada elemento del string\n",
    "print(set_test)\n",
    "set_test.update({\"ae\"}) #Agrega el string\n",
    "print(set_test)\n",
    "set_test.update((1,2)) #Agrega cada elemento de la tupla\n",
    "print(set_test)\n",
    "set_test.update({(1,2), (2,1)}) #Agrega la tupla\n",
    "print(set_test)\n",
    "set_test.update([4,5]) #Agrega cada elemento de la tupla\n",
    "print(set_test)\n",
    "set_test.update({[4,5]}) #No agrega la lista porque no es un inmutable\n",
    "print(set_test)\n"
   ]
  },
  {
   "attachments": {},
   "cell_type": "markdown",
   "metadata": {},
   "source": [
    "Una forma \"linda\" de documentar una función es\n",
    "¿Qué hace?\n",
    "Parameters\n",
    "----------\n",
    "(parámetros)\n",
    "Returns\n",
    "-------\n",
    "(returns)"
   ]
  },
  {
   "cell_type": "code",
   "execution_count": null,
   "metadata": {},
   "outputs": [],
   "source": [
    "#Para poner argumentos como opcionales hay que asignarle un valor en el argumento de la función en su definición\n",
    "# def caida_libre(t, h0, v0 = 0.0, g = 9.8):\n",
    "#En este caso, v0 y g son opcionales."
   ]
  },
  {
   "attachments": {},
   "cell_type": "markdown",
   "metadata": {},
   "source": [
    "Hay que tener cuidado con los argumentos opcionales que no sean inmutables"
   ]
  },
  {
   "cell_type": "code",
   "execution_count": 57,
   "metadata": {},
   "outputs": [
    {
     "name": "stdout",
     "output_type": "stream",
     "text": [
      "Help on function funcion in module __main__:\n",
      "\n",
      "funcion()\n",
      "    No hace nada\n",
      "\n",
      "Help on NoneType object:\n",
      "\n",
      "class NoneType(object)\n",
      " |  Methods defined here:\n",
      " |  \n",
      " |  __bool__(self, /)\n",
      " |      True if self else False\n",
      " |  \n",
      " |  __repr__(self, /)\n",
      " |      Return repr(self).\n",
      " |  \n",
      " |  ----------------------------------------------------------------------\n",
      " |  Static methods defined here:\n",
      " |  \n",
      " |  __new__(*args, **kwargs) from builtins.type\n",
      " |      Create and return a new object.  See help(type) for accurate signature.\n",
      "\n"
     ]
    }
   ],
   "source": [
    "def funcion():\n",
    "    \"No hace nada\"\n",
    "    return\n",
    "\n",
    "help(funcion)\n",
    "help(funcion())"
   ]
  },
  {
   "cell_type": "code",
   "execution_count": 62,
   "metadata": {},
   "outputs": [
    {
     "name": "stdout",
     "output_type": "stream",
     "text": [
      "Help on built-in function print in module builtins:\n",
      "\n",
      "print(...)\n",
      "    print(value, ..., sep=' ', end='\\n', file=sys.stdout, flush=False)\n",
      "    \n",
      "    Prints the values to a stream, or to sys.stdout by default.\n",
      "    Optional keyword arguments:\n",
      "    file:  a file-like object (stream); defaults to the current sys.stdout.\n",
      "    sep:   string inserted between values, default a space.\n",
      "    end:   string appended after the last value, default a newline.\n",
      "    flush: whether to forcibly flush the stream.\n",
      "\n"
     ]
    }
   ],
   "source": [
    "help(print)"
   ]
  },
  {
   "cell_type": "code",
   "execution_count": 61,
   "metadata": {},
   "outputs": [
    {
     "name": "stdout",
     "output_type": "stream",
     "text": [
      "Test\n",
      "Test2\n",
      "0\n",
      "1\n",
      "2\n",
      "3\n",
      "4\n",
      "5\n",
      "6\n",
      "7\n",
      "8\n",
      "9\n"
     ]
    }
   ],
   "source": [
    "print(\"Test\", flush = True)\n",
    "print(\"Test2\", flush = True)\n",
    "for i in range(10):\n",
    "    print(i, flush = True)\n"
   ]
  },
  {
   "attachments": {},
   "cell_type": "markdown",
   "metadata": {},
   "source": [
    "Ejercicio 4 (b)\n",
    "\n"
   ]
  },
  {
   "cell_type": "markdown",
   "metadata": {},
   "source": []
  },
  {
   "attachments": {},
   "cell_type": "markdown",
   "metadata": {},
   "source": [
    "Revisar la primera parte de la segunda parte de la clase 04. Tmb leer a partir del ejercicio 4 (b)"
   ]
  },
  {
   "cell_type": "code",
   "execution_count": null,
   "metadata": {},
   "outputs": [],
   "source": []
  },
  {
   "attachments": {},
   "cell_type": "markdown",
   "metadata": {},
   "source": [
    "-----\n",
    "\n",
    "## Ejercicios 4 (b)\n",
    "\n",
    "3. Escriba funciones para analizar la divisibilidad de enteros:\n",
    "    * La función `es_divisible1(x)` que retorna verdadero si x es divisible por alguno de `2,3,5,7` o falso en caso contrario.\n",
    "    * La función `es_divisible_por_lista` que cumple la misma función que `es_divisible1` pero recibe dos argumentos: el entero `x` y una variable del tipo lista que contiene los valores para los cuáles debemos examinar la divisibilidad. Las siguientes expresiones deben retornar el mismo valor:\n",
    "    ```python\n",
    "    es_divisible1(x) \n",
    "    es_divisible_por_lista(x, [2,3,5,7])\n",
    "    es_divisible_por_lista(x)\n",
    "    ```\n",
    "    * La función `es_divisible_por` cuyo primer argumento (mandatorio) es `x`, y luego puede aceptar un número indeterminado de argumentos:\n",
    "    ```python\n",
    "    es_divisible_por(x)  # retorna verdadero siempre\n",
    "    es_divisible_por(x, 2) # verdadero si x es par\n",
    "    es_divisible_por(x, 2, 3, 5, 7) # igual resultado que es_divisible1(x) e igual a es_divisible_por_lista(x)\n",
    "    es_divisible_por(x, 2, 3, 5, 7, 9, 11, 13)  # o cualquier secuencia de argumentos debe funcionar\n",
    "    ```\n",
    "\n",
    "-----\n"
   ]
  },
  {
   "cell_type": "code",
   "execution_count": 4,
   "metadata": {},
   "outputs": [
    {
     "data": {
      "text/plain": [
       "False"
      ]
     },
     "execution_count": 4,
     "metadata": {},
     "output_type": "execute_result"
    }
   ],
   "source": [
    "def es_divisible1(x):\n",
    "    '''\n",
    "    Función que evalúa si el input (x) es divisible por 2, 3, 5 o 7\n",
    "\n",
    "    Parameters\n",
    "    x: entero\n",
    "    \n",
    "    Return\n",
    "    ------\n",
    "    bool True si es divisible, False caso contrario\n",
    "    '''\n",
    "    factores = [2,3,5,7]\n",
    "    for factor in factores:\n",
    "        if x%factor==0: #Si el módulo es cero\n",
    "            return True\n",
    "    return False\n",
    "\n",
    "es_divisible1(11)"
   ]
  },
  {
   "cell_type": "code",
   "execution_count": 10,
   "metadata": {},
   "outputs": [
    {
     "name": "stdout",
     "output_type": "stream",
     "text": [
      "True True True\n"
     ]
    }
   ],
   "source": [
    "def es_divisible_por_lista(x, lista = [2,3,5,7]):\n",
    "    '''\n",
    "    Función que evalúa si el input (x) es divisible por los elementos en lista\n",
    "\n",
    "    Parameters\n",
    "    x: entero\n",
    "    lista: lista de enteros. Por default lista = [2,3,5,7]\n",
    "    Return\n",
    "    ------\n",
    "    bool True si es divisible, False caso contrario\n",
    "    '''\n",
    "    for factor in lista:\n",
    "        if x%factor==0: #Si el módulo es cero\n",
    "            return True\n",
    "    return False\n",
    "\n",
    "x = 2\n",
    "print( es_divisible1(x), es_divisible_por_lista(x, [2,3,5,7]), es_divisible_por_lista(x))"
   ]
  },
  {
   "cell_type": "code",
   "execution_count": 20,
   "metadata": {},
   "outputs": [
    {
     "name": "stdout",
     "output_type": "stream",
     "text": [
      "True False False False False True\n"
     ]
    }
   ],
   "source": [
    "def es_divisible_por(x, *factores):\n",
    "    '''\n",
    "    Función que evalúa si el input (x) es divisible por los factores\n",
    "\n",
    "    Parameters\n",
    "    x: entero\n",
    "    factores: *args (tupla) de enteros. Por default lista = [2,3,5,7]\n",
    "    Return\n",
    "    ------\n",
    "    bool True si es divisible, False caso contrario\n",
    "    '''\n",
    "\n",
    "    if factores != (): #Si hay factores\n",
    "        for factor in factores:\n",
    "            if x%factor==0: #Si el módulo es cero\n",
    "                return True\n",
    "        return False\n",
    "    else: #Si no hay factores\n",
    "        return True\n",
    "\n",
    "x = 13\n",
    "print(es_divisible_por(x),es_divisible_por(x,2), es_divisible_por(x,2,3,5,7), es_divisible1(x), es_divisible_por_lista(x), es_divisible_por(x,2,3,5,7,9,11,13))"
   ]
  },
  {
   "attachments": {},
   "cell_type": "markdown",
   "metadata": {},
   "source": [
    "-----\n",
    "\n",
    "## Ejercicios 04 (c)\n",
    "\n",
    "4. Escriba una función `crear_sen(A, w)` que acepte dos números reales $A, w$ como argumentos y devuelva la función `f(x)`.\n",
    "\n",
    "  Al evaluar la función `f` en un dado valor $x$ debe dar el resultado: $f(x) = A \\sin(w x)$ tal que se pueda utilizar de la siguiente manera:\n",
    "  \n",
    "  ```python\n",
    "  f = crear_sen(3, 1.5)\n",
    "  f(2)          # Debería imprimir el resultado de 3*sin(1.5*2)=0.4233600241796016\n",
    "  ```\n",
    "\n",
    "-----"
   ]
  },
  {
   "cell_type": "code",
   "execution_count": 21,
   "metadata": {},
   "outputs": [
    {
     "data": {
      "text/plain": [
       "0.4233600241796016"
      ]
     },
     "execution_count": 21,
     "metadata": {},
     "output_type": "execute_result"
    }
   ],
   "source": [
    "import math\n",
    "\n",
    "def crear_sen(A,w):\n",
    "    '''\n",
    "    Crea la función A*sin(wx)\n",
    "\n",
    "    Parameters\n",
    "    ----------\n",
    "    A (nro real): amplitud de la onda\n",
    "    w(nro real): frecuencia de la onda\n",
    "    \n",
    "    '''\n",
    "\n",
    "    def f(x):\n",
    "        return A*math.sin(w*x)\n",
    "\n",
    "    return f\n",
    "\n",
    "f = crear_sen(3,1.5)\n",
    "f(2)"
   ]
  },
  {
   "attachments": {},
   "cell_type": "markdown",
   "metadata": {},
   "source": [
    "\n",
    "-----\n",
    "\n",
    "## Ejercicios 04 (d)\n",
    "\n",
    "\n",
    "5. Escriba una serie de funciones que permitan trabajar con polinomios. Vamos a representar a un polinomio como una lista de números reales, donde cada elemento corresponde a un coeficiente que acompaña una potencia\n",
    "\n",
    "    * Una función que devuelva el orden del polinomio (un número entero)\n",
    "    * Una función que sume dos polinomios y devuelva un polinomio (objeto del mismo tipo)\n",
    "    * Una función que multiplique dos polinomios y devuelva el resultado en otro polinomio\n",
    "    * Una función devuelva la derivada del polinomio (otro polinomio).\n",
    "    * Una función que acepte el polinomio y devuelva la función correspondiente.\n",
    "     \n",
    "6. **PARA ENTREGAR.** Describimos una grilla de **sudoku** como un string de nueve líneas, cada una con 9 números, con números entre 1 y 9. Escribir un conjunto de funciones que permitan chequear si una grilla de sudoku es correcta. Para que una grilla sea correcta deben cumplirse las siguientes condiciones\n",
    "    - Los números están entre 1 y 9\n",
    "    - En cada fila no deben repetirse\n",
    "    - En cada columna no deben repetirse\n",
    "    - En todas las regiones de 3x3 que no se solapan, empezando de cualquier esquina, no deben repetirse\n",
    "  \n",
    "    1. Escribir una función que convierta un string con formato a una lista bidimensional. El string estará dado con nueve números por línea, de la siguiente manera (los espacios en blanco en cada línea pueden variar):\n",
    "    \n",
    "    ```python\n",
    "    sudoku = \"\"\"145327698\n",
    "            839654127\n",
    "            672918543\n",
    "            496185372\n",
    "            218473956\n",
    "            753296481\n",
    "            367542819\n",
    "            984761235\n",
    "            521839764\"\"\"\n",
    "    ```\n",
    "    \n",
    "    2. Escribir una función `check_repetidos()` que tome por argumento una lista (unidimensional) y devuelva verdadero si la lista tiene elementos repetidos y falso en caso contrario (puede ser conveniente explorar el uso de `set`).\n",
    "    \n",
    "    3. Escribir la función `check_sudoku()` que toma como argumento una grilla (como una lista bidimensional de `9x9`) y devuelva verdadero si los números corresponden a la resolución correcta del Sudoku y falso en caso contrario. \n",
    "    Note que debe verificar que los números no se repiten en filas, ni en columnas ni en recuadros de `3x3`. Para obtener la posición de los recuadros, puede investigar que hacen las líneas de código:\n",
    "    \n",
    "    ```python\n",
    "    j, k = (i // 3) * 3, (i % 3) * 3\n",
    "    r = [grid[a][b] for a in range(j, j+3) for b in range(k, k+3)]\n",
    "    ```\n",
    "\n",
    "    suponiendo que `grid` es el nombre de nuestra lista bidimensional, cuando `i` toma valores entre `0` y `8`.\n",
    "\n",
    "-----\n",
    "\n",
    "\n",
    "."
   ]
  },
  {
   "attachments": {},
   "cell_type": "markdown",
   "metadata": {},
   "source": [
    "### Ejercicio 5"
   ]
  },
  {
   "cell_type": "code",
   "execution_count": 65,
   "metadata": {},
   "outputs": [
    {
     "data": {
      "text/plain": [
       "2"
      ]
     },
     "execution_count": 65,
     "metadata": {},
     "output_type": "execute_result"
    }
   ],
   "source": [
    "#Un polinomio se representa como una lista de nros reales, donde cada elemento corresponde a un coef que acompaña una potencia\n",
    "#Ej: [0,1,2] es 0 + 1*x + 2*x**2\n",
    "\n",
    "def orden_polinomio(polinomio):\n",
    "    '''\n",
    "    Devuelve el orden de un polinomio\n",
    "\n",
    "    Parameters\n",
    "    ----------\n",
    "    polinomio: lista donde cada elemento hace referencia a un coeficiente de cada potencia. Ej: [0,1,2] es 0 + 1*x + 2*x**2\n",
    "\n",
    "    Returns\n",
    "    -------\n",
    "    int: orden\n",
    "    \n",
    "    '''\n",
    "    grado = len(polinomio)-1\n",
    "    for coef in polinomio[::-1]: #Esto está en caso de que el polinomio tenga coef nulo acompañando a la mayor potencia\n",
    "        if coef == 0:\n",
    "            grado -= 1\n",
    "        else:\n",
    "            break\n",
    "\n",
    "    return grado\n",
    "\n",
    "orden_polinomio([0,1,1,0.0])\n"
   ]
  },
  {
   "cell_type": "code",
   "execution_count": 66,
   "metadata": {},
   "outputs": [
    {
     "data": {
      "text/plain": [
       "[1, 4, 2, 5]"
      ]
     },
     "execution_count": 66,
     "metadata": {},
     "output_type": "execute_result"
    }
   ],
   "source": [
    "def suma_polinomios(polinomio1, polinomio2):\n",
    "    '''\n",
    "    Función que suma dos polinomios\n",
    "    Parameters\n",
    "    ----------\n",
    "    polinomio1 y polinomio2: lista donde cada elemento hace referencia a un coeficiente de cada potencia. Ej: [0,1,2] es 0 + 1*x + 2*x**2\n",
    "\n",
    "    Returns\n",
    "    -------\n",
    "    list: polinomio3 = polinomio1 + polinomio2\n",
    "\n",
    "    '''\n",
    "    #La nueva lista tendrá un tamaño igual al mayor grado\n",
    "\n",
    "    lista_de_polinomios = [polinomio1,polinomio2]\n",
    "\n",
    "    mayor_orden = max([orden_polinomio(polinomio1), orden_polinomio(polinomio2)])\n",
    "    menor_orden = min([orden_polinomio(polinomio1), orden_polinomio(polinomio2)])\n",
    "\n",
    "    polinomio3 = [0]*(mayor_orden + 1)\n",
    "\n",
    "    pol_mayor = [orden_polinomio(polinomio1), orden_polinomio(polinomio2)].index(mayor_orden)\n",
    "    \n",
    "    for i in range(menor_orden + 1):\n",
    "        polinomio3[i] = polinomio1[i] + polinomio2[i]\n",
    "\n",
    "    for i in range(menor_orden + 1, mayor_orden + 1):\n",
    "        polinomio3[i] = lista_de_polinomios[pol_mayor][i]\n",
    "\n",
    "    return polinomio3\n",
    "\n",
    "suma_polinomios([1,2], [0,2,2,5,0])"
   ]
  },
  {
   "cell_type": "code",
   "execution_count": 72,
   "metadata": {},
   "outputs": [
    {
     "data": {
      "text/plain": [
       "[2, 5, 2]"
      ]
     },
     "execution_count": 72,
     "metadata": {},
     "output_type": "execute_result"
    }
   ],
   "source": [
    "def producto_polinomios(pol1,pol2):\n",
    "    '''\n",
    "    Calcula el producto de los polinomios pol1 y pol2. Devuelve otro polinomio\n",
    "    '''\n",
    "\n",
    "    if len(pol2) == 1:\n",
    "        poli_partial1 = [0]*len(pol1)\n",
    "        for i in range(len(pol1)):\n",
    "            poli_partial1[i] = pol1[i]*pol2[0]\n",
    "        return poli_partial1\n",
    "    else:\n",
    "        suma = []\n",
    "        for j in range(len(pol2)):\n",
    "            poli_partial2 = [pol2[j]]\n",
    "            producto = j*[0] + producto_polinomios(pol1,poli_partial2)\n",
    "            # print(producto)\n",
    "            suma = suma_polinomios(suma,producto)\n",
    "        return suma\n",
    "        \n",
    "producto_polinomios([1,2,0,0],[2,1,0])"
   ]
  },
  {
   "cell_type": "code",
   "execution_count": 75,
   "metadata": {},
   "outputs": [
    {
     "data": {
      "text/plain": [
       "[2, 6]"
      ]
     },
     "execution_count": 75,
     "metadata": {},
     "output_type": "execute_result"
    }
   ],
   "source": [
    "def derivada_polinomio(pol):\n",
    "    '''\n",
    "    Calcula la derivada del polinomio pol. Devuelve otro polinomio\n",
    "    '''\n",
    "    #Defino el nuevo polinomio\n",
    "    orden_deriv = orden_polinomio(pol)\n",
    "    pol_deriv = [0]*orden_deriv\n",
    "    for i in range(orden_deriv):\n",
    "        pol_deriv[i] = pol[i+1]*(i+1)\n",
    "    return pol_deriv\n",
    "\n",
    "derivada_polinomio([1,2,3,0])"
   ]
  },
  {
   "cell_type": "code",
   "execution_count": 81,
   "metadata": {},
   "outputs": [
    {
     "name": "stdout",
     "output_type": "stream",
     "text": [
      "2\n"
     ]
    }
   ],
   "source": [
    "def polinomio(pol):\n",
    "    '''\n",
    "    Devuelve la función polinomio\n",
    "    '''\n",
    "    def f(x):\n",
    "        suma = 0\n",
    "        for i in range(orden_polinomio(pol) + 1):\n",
    "            suma+=pol[i]*x**i\n",
    "        return suma\n",
    "    return f\n",
    "\n",
    "ff = polinomio([1,1,0])\n",
    "print(ff(1))"
   ]
  },
  {
   "attachments": {},
   "cell_type": "markdown",
   "metadata": {},
   "source": [
    "### Ejercicio 6"
   ]
  },
  {
   "cell_type": "code",
   "execution_count": 190,
   "metadata": {},
   "outputs": [],
   "source": [
    "#sudoku: grilla de 9 líneas con 9 caracteres cada una\n",
    "\n",
    "sudoku = \"\"\"145327698\n",
    "        839654127\n",
    "        672918543\n",
    "        496185372\n",
    "        218473956\n",
    "        753296481\n",
    "        367542819   \n",
    "        984761235\n",
    "        521839764\"\"\"\n",
    "\n",
    "def string_to_list(sudoku_str):\n",
    "    '''\n",
    "    Convierte un string con formato sudoku a una lista bidimensional\n",
    "    Parameters\n",
    "    ----------\n",
    "    sudoku_str: string de 9 filas, cada una formada por 9 números\n",
    "\n",
    "    Returns\n",
    "    -------\n",
    "    sudoku_list: lista de tamaño 9x9 donde cada elemento hace referencia al correspondiente en sudoku_str\n",
    "    '''\n",
    "    size = 9 #tamaño vertical y horizontal del sudoku\n",
    "    #Creo la lista\n",
    "    sudoku_list = []\n",
    "\n",
    "    sudoku_split = sudoku.split()\n",
    "\n",
    "    linea = [0]*9\n",
    "    for i in  range(size):\n",
    "        for j in range(size):\n",
    "            linea[j] = int(sudoku_split[i][j])\n",
    "        sudoku_list.append(linea.copy())\n",
    "\n",
    "    return sudoku_list\n",
    "\n"
   ]
  },
  {
   "cell_type": "code",
   "execution_count": 191,
   "metadata": {},
   "outputs": [],
   "source": [
    "def check_repetidos(lista):\n",
    "    \n",
    "    conj = set(lista)\n",
    "    if len(conj) != len(lista):\n",
    "        return True #Hay elementos repetidos\n",
    "    else:\n",
    "        return False\n"
   ]
  },
  {
   "cell_type": "code",
   "execution_count": 195,
   "metadata": {},
   "outputs": [],
   "source": [
    "def check_sudoku(grilla):\n",
    "    size = 9\n",
    "\n",
    "    #Verifico que los nros estén entre el 1 y el 9\n",
    "    numeros = [1,2,3,4,5,6,7,8,9]\n",
    "    for i in range(size):\n",
    "        for j in range(size):\n",
    "            if (grilla[i][j] in numeros) == False: #Si el nro no está en la lista de nros\n",
    "                return False\n",
    "            \n",
    "    #Verifico que los nros de cada fila no se repitan\n",
    "    for i in range(size):\n",
    "        if check_repetidos(grilla[i]):\n",
    "            return False\n",
    "    \n",
    "    #Verifico que los nros en cada columna no se repitan\n",
    "    for i in range(size):\n",
    "        columna = [0]*9\n",
    "        for j in range(size):\n",
    "            columna[j] = grilla[j][i]\n",
    "        print(columna)\n",
    "        if check_repetidos(columna):\n",
    "            return False\n",
    "        \n",
    "    #Verifico que en todas las regiones de 3x3 que no se solapan, los nros no se repitan\n",
    "\n",
    "    "
   ]
  },
  {
   "cell_type": "code",
   "execution_count": 196,
   "metadata": {},
   "outputs": [
    {
     "name": "stdout",
     "output_type": "stream",
     "text": [
      "[1, 8, 6, 4, 2, 7, 3, 9, 5]\n",
      "[4, 3, 7, 9, 1, 5, 6, 8, 2]\n",
      "[5, 9, 2, 6, 8, 3, 7, 4, 1]\n",
      "[3, 6, 9, 1, 4, 2, 5, 7, 8]\n",
      "[2, 5, 1, 8, 7, 9, 4, 6, 3]\n",
      "[7, 4, 8, 5, 3, 6, 2, 1, 9]\n",
      "[6, 1, 5, 3, 9, 4, 8, 2, 7]\n",
      "[9, 2, 4, 7, 5, 8, 1, 3, 6]\n",
      "[8, 7, 3, 2, 6, 1, 9, 5, 4]\n",
      "None\n"
     ]
    }
   ],
   "source": [
    "    j, k = (i // 3) * 3, (i % 3) * 3\n",
    "    r = [grid[a][b] for a in range(j, j+3) for b in range(k, k+3)]\n"
   ]
  },
  {
   "cell_type": "code",
   "execution_count": null,
   "metadata": {},
   "outputs": [],
   "source": []
  }
 ],
 "metadata": {
  "kernelspec": {
   "display_name": "IntroPython",
   "language": "python",
   "name": "python3"
  },
  "language_info": {
   "codemirror_mode": {
    "name": "ipython",
    "version": 3
   },
   "file_extension": ".py",
   "mimetype": "text/x-python",
   "name": "python",
   "nbconvert_exporter": "python",
   "pygments_lexer": "ipython3",
   "version": "3.10.9"
  },
  "orig_nbformat": 4,
  "vscode": {
   "interpreter": {
    "hash": "6b8ef78bc8fc504654170752d5658161177d5450671fa32490eb795dae9c9f83"
   }
  }
 },
 "nbformat": 4,
 "nbformat_minor": 2
}
