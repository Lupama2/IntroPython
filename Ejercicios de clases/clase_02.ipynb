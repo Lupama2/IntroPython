{
 "cells": [
  {
   "attachments": {},
   "cell_type": "markdown",
   "metadata": {},
   "source": [
    "### Ejercicios de la clase 02\n",
    "(y tests generales)"
   ]
  },
  {
   "attachments": {},
   "cell_type": "markdown",
   "metadata": {},
   "source": [
    "#### Tests"
   ]
  },
  {
   "cell_type": "code",
   "execution_count": 7,
   "metadata": {},
   "outputs": [
    {
     "name": "stdout",
     "output_type": "stream",
     "text": [
      "20\n"
     ]
    }
   ],
   "source": [
    "#Python usa símbolos en UTF8\n",
    "\n",
    "ª = 10\n",
    "ª = ª + 10\n",
    "print(ª)"
   ]
  },
  {
   "cell_type": "code",
   "execution_count": 8,
   "metadata": {},
   "outputs": [
    {
     "name": "stdout",
     "output_type": "stream",
     "text": [
      "Ha\n"
     ]
    }
   ],
   "source": [
    "#Indexado de índices\n",
    "s = \"Hola Mundo\"\n",
    "print(s[0:5:3])"
   ]
  },
  {
   "cell_type": "code",
   "execution_count": 9,
   "metadata": {},
   "outputs": [
    {
     "name": "stdout",
     "output_type": "stream",
     "text": [
      "Bichi es el mejor equipo porque lo tiene a Colon con el nro 3.141592653589793\n",
      "\n",
      "El texto:  3.141592653589793 es del tipo <class 'str'>\n"
     ]
    }
   ],
   "source": [
    "#Formateo de strings usando format\n",
    "import math\n",
    "\n",
    "equipo = \"Colon\"\n",
    "jugador = \"Bichi\"\n",
    "nro = math.pi\n",
    "s = \"{1} es el mejor equipo porque lo tiene a {0} con el nro {2}\".format(equipo, jugador, nro)\n",
    "print(s)\n",
    "s = \"{}\".format(nro)\n",
    "print(\"\\nEl texto: \", s, \"es del tipo\", type(s))"
   ]
  },
  {
   "cell_type": "code",
   "execution_count": 10,
   "metadata": {},
   "outputs": [
    {
     "name": "stdout",
     "output_type": "stream",
     "text": [
      "Colon es el mejor equipo porque lo tiene a Bichi\n",
      "El nro pi*2 es 6.2832\n"
     ]
    }
   ],
   "source": [
    "#Formateo de string usando f-string\n",
    "s = f\"{equipo} es el mejor equipo porque lo tiene a {jugador}\"\n",
    "print(s)\n",
    "\n",
    "s = f\"El nro pi*2 es {math.pi*2:.4f}\" #\".4\" son 4 decimales y \"f\" es \"del tipo float\"\n",
    "print(s)"
   ]
  },
  {
   "cell_type": "code",
   "execution_count": 11,
   "metadata": {},
   "outputs": [
    {
     "ename": "TypeError",
     "evalue": "can only concatenate str (not \"int\") to str",
     "output_type": "error",
     "traceback": [
      "\u001b[1;31m---------------------------------------------------------------------------\u001b[0m",
      "\u001b[1;31mTypeError\u001b[0m                                 Traceback (most recent call last)",
      "Cell \u001b[1;32mIn[11], line 2\u001b[0m\n\u001b[0;32m      1\u001b[0m \u001b[39m#Conversión de tipos\u001b[39;00m\n\u001b[1;32m----> 2\u001b[0m \u001b[39mprint\u001b[39m(\u001b[39m\"\u001b[39;49m\u001b[39m1\u001b[39;49m\u001b[39m\"\u001b[39;49m \u001b[39m+\u001b[39;49m \u001b[39m1\u001b[39;49m)\n",
      "\u001b[1;31mTypeError\u001b[0m: can only concatenate str (not \"int\") to str"
     ]
    }
   ],
   "source": [
    "#Conversión de tipos\n",
    "print(\"1\" + 1) #Error porque la suma entre strings y enteros no está definida"
   ]
  },
  {
   "attachments": {},
   "cell_type": "markdown",
   "metadata": {},
   "source": [
    "#### Ejercicios 02 (a)\n",
    "\n",
    "--------\n",
    "\n",
    "1. Centrado manual de frases\n",
    "\n",
    "    a. Utilizando la función `len()` centre una frase corta en una pantalla de 80 caracteres. Utilice la frase: \"Primer ejercicio con caracteres\"\n",
    "\n",
    "    b. Agregue subrayado a la frase anterior\n",
    "\n",
    "\n",
    "2. **PARA ENTREGAR.** Para la cadena de caracteres:\n",
    "```python\n",
    "s = '''Aquí me pongo a cantar\n",
    "Al compás de la vigüela,\n",
    "Que el hombre que lo desvela\n",
    "Una pena estraordinaria\n",
    "Como la ave solitaria\n",
    "Con el cantar se consuela.'''\n",
    "```\n",
    "\n",
    "  * Cuente la cantidad de veces que aparecen los substrings `es`, `la`, `que`, `co`,  en los siguientes dos casos: distinguiendo entre mayúsculas y minúsculas, y no distinguiendo. Imprima el resultado.\n",
    "\n",
    "  * Cree una lista, donde cada elemento es una línea del string `s` y encuentre la de mayor longitud. Imprima por pantalla la línea y su longitud. (Posibles ayudas: busque información sobre funciones que aplican a *strings* y los métodos)\n",
    "\n",
    "  * Forme un nuevo string de 10 caracteres que contenga los 5 primeros y los 5 últimos del string anterior `s`. Imprima por pantalla el nuevo string.\n",
    "\n",
    "  * Forme un nuevo string que contenga los 10 caracteres centrales de `s` (utilizando un método que pueda aplicarse a otros strings también). Imprima por pantalla el nuevo string.\n",
    "\n",
    "  * Cambie todas las letras \"m\" por \"n\" y todas las letras \"n\" por \"m\" en `s`. Imprima el resultado por pantalla.\n",
    "\n",
    "  * Debe entregar un programa llamado `02_SuApellido.py` (con su apellido, no la palabra \"SuApellido\") por correo electrónico.\n",
    "  El programa al correrlo con el comando `python3 02_SuApellido.py` debe imprimir:\n",
    "\n",
    "  ```\n",
    "  Nombre Apellido\n",
    "  Clase 2\n",
    "  Distinguiendo: 2 5 1 2\n",
    "  Sin distinguir: 2 5 2 4\n",
    "  Que el hombre que lo desvela : longitud=28\n",
    "  Aquí uela.\n",
    "  desvela \n",
    "  Un\n",
    "  Aquí ne pomgo a camtar\n",
    "  Al conpás de la vigüela,\n",
    "  Que el honbre que lo desvela\n",
    "  Uma pema estraordimaria\n",
    "  Cono la ave solitaria\n",
    "  Com el camtar se comsuela.\n",
    "  ```\n",
    "  \n",
    "-------- "
   ]
  },
  {
   "cell_type": "code",
   "execution_count": 17,
   "metadata": {},
   "outputs": [
    {
     "name": "stdout",
     "output_type": "stream",
     "text": [
      "                         80                         \n",
      "--------------------------------------------------------------------------------\n"
     ]
    }
   ],
   "source": [
    "nro_caracteres = 80\n",
    "s = \"Primer ejercicio con caracteres\"\n",
    "nro_spacios = int((nro_caracteres - len(s))/2)\n",
    "print(nro_spacios*\" \", nro_caracteres, nro_spacios*\" \")\n",
    "print(nro_caracteres*\"-\")"
   ]
  },
  {
   "attachments": {},
   "cell_type": "markdown",
   "metadata": {},
   "source": [
    "CREO QUE NO DEBERÍA PODER USAR EL FOR. PARA EL MAX HAY UN ARGUMENTO EXTRA LLAMADO key QUE NOS PUEDE SERVIR O CREAR UNA LISTA ON LA LONGITUD DE LOS STRINGS USANDO LO QUE VIMOS DE LISTAS COMPRENSIVE"
   ]
  },
  {
   "cell_type": "code",
   "execution_count": 18,
   "metadata": {},
   "outputs": [
    {
     "name": "stdout",
     "output_type": "stream",
     "text": [
      "Distinguiendo:  2 5 1 2 \n",
      "Sin distinguir:  2 5 2 4 "
     ]
    }
   ],
   "source": [
    "s = '''Aquí me pongo a cantar\n",
    "Al compás de la vigüela,\n",
    "Que el hombre que lo desvela\n",
    "Una pena estraordinaria\n",
    "Como la ave solitaria\n",
    "Con el cantar se consuela.'''\n",
    "\n",
    "#Cuento el nro de veces que aparecen los substrings\n",
    "substrings = [\"es\", \"la\", \"que\", \"co\"]\n",
    "\n",
    "#Distinguiendo:\n",
    "print(\"Distinguiendo: \", end = \" \")\n",
    "for substring in substrings:\n",
    "    print(s.count(substring), end = \" \") #naturalmente distingue entre mayúscular y minúsculas porque son caracteres distintos\n",
    "\n",
    "#Sin distinguir: hago mayus a todo\n",
    "print(\"\\nSin distinguir: \", end = \" \")\n",
    "s_upper = s.upper()\n",
    "for substring in substrings:\n",
    "    print(s_upper.count(substring.upper()), end = \" \")\n",
    "\n"
   ]
  },
  {
   "cell_type": "code",
   "execution_count": 19,
   "metadata": {},
   "outputs": [
    {
     "name": "stdout",
     "output_type": "stream",
     "text": [
      "Que el hombre que lo desvela\n",
      "22 24 28 23 21 26 "
     ]
    }
   ],
   "source": [
    "#Separo el string con split\n",
    "s_lista = s.split(sep = \"\\n\")\n",
    "\n",
    "#Busco el máximo\n",
    "print(max(s_lista, key = len))\n",
    "\n",
    "for frase in s_lista:\n",
    "    print(len(frase), end = \" \")"
   ]
  },
  {
   "cell_type": "code",
   "execution_count": 20,
   "metadata": {},
   "outputs": [
    {
     "name": "stdout",
     "output_type": "stream",
     "text": [
      "Aquí uela.\n"
     ]
    }
   ],
   "source": [
    "nuevo_string = s[:5] + s[-5:]\n",
    "print(nuevo_string)"
   ]
  },
  {
   "cell_type": "code",
   "execution_count": 21,
   "metadata": {},
   "outputs": [
    {
     "name": "stdout",
     "output_type": "stream",
     "text": [
      "desvela\n",
      "Un\n"
     ]
    }
   ],
   "source": [
    "n_centro = 10\n",
    "#Imprimo desde la mitad, n_centro/2 a izquierda y lo mismo a derecha\n",
    "print(s[int(len(s)/2 - n_centro/2): int(len(s)/2 + n_centro/2)])\n"
   ]
  },
  {
   "cell_type": "code",
   "execution_count": 25,
   "metadata": {},
   "outputs": [
    {
     "name": "stdout",
     "output_type": "stream",
     "text": [
      "Aquí 6e pongo a cantar\n",
      "Al co6pás de la vigüela,\n",
      "Que el ho6bre que lo desvela\n",
      "Una pena estraordinaria\n",
      "Co6o la ave solitaria\n",
      "Con el cantar se consuela.\n"
     ]
    }
   ],
   "source": [
    "#Necesito reemplazar a un 3er elemento\n",
    "s_new = s.replace(\"m\", \"6\")\n",
    "s_new = s.replace(\"n\",\"m\")\n",
    "s_new = s.replace(\"6\", \"n\")\n",
    "print(s_new)"
   ]
  },
  {
   "attachments": {},
   "cell_type": "markdown",
   "metadata": {},
   "source": [
    "#### Tests"
   ]
  },
  {
   "cell_type": "code",
   "execution_count": null,
   "metadata": {},
   "outputs": [
    {
     "name": "stdout",
     "output_type": "stream",
     "text": [
      "True\n",
      "[10, 2, 3, 4]\n"
     ]
    }
   ],
   "source": [
    "a_lista = [1,2,3,4]\n",
    "b_lista = a_lista\n",
    "print(a_lista is b_lista)\n",
    "#Cambio b\n",
    "b_lista[0] = 10 #Tmb cambia a_lista! porque b_lista es una referencia a a_lista\n",
    "print(a_lista)\n"
   ]
  },
  {
   "cell_type": "code",
   "execution_count": null,
   "metadata": {},
   "outputs": [
    {
     "name": "stdout",
     "output_type": "stream",
     "text": [
      "[5, 2, 3, 4]\n",
      "[10, 2, 3, 4]\n"
     ]
    }
   ],
   "source": [
    "c_lista = a_lista.copy() #No cambia la lista original. Estoy haciendo una copia\n",
    "c_lista[0] = 5\n",
    "print(c_lista)\n",
    "print(a_lista)"
   ]
  },
  {
   "cell_type": "code",
   "execution_count": null,
   "metadata": {},
   "outputs": [
    {
     "name": "stdout",
     "output_type": "stream",
     "text": [
      "[1, [10, 2]]\n",
      "[-8, [10, 2]]\n"
     ]
    },
    {
     "ename": "NameError",
     "evalue": "name 'copy' is not defined",
     "output_type": "error",
     "traceback": [
      "\u001b[1;31m---------------------------------------------------------------------------\u001b[0m",
      "\u001b[1;31mNameError\u001b[0m                                 Traceback (most recent call last)",
      "Cell \u001b[1;32mIn[115], line 12\u001b[0m\n\u001b[0;32m     10\u001b[0m \u001b[39m#Si queremos hacerlo de forma anidada, hay que usar deep_copy()\u001b[39;00m\n\u001b[0;32m     11\u001b[0m a_lista_de_lista \u001b[39m=\u001b[39m [\u001b[39m1\u001b[39m,[\u001b[39m1\u001b[39m,\u001b[39m2\u001b[39m]]\n\u001b[1;32m---> 12\u001b[0m b_lista_de_lista \u001b[39m=\u001b[39m copy\u001b[39m.\u001b[39mdeepcopy(a_lista_de_lista)\n\u001b[0;32m     13\u001b[0m a_lista_de_lista[\u001b[39m1\u001b[39m][\u001b[39m0\u001b[39m] \u001b[39m=\u001b[39m \u001b[39m10\u001b[39m\n\u001b[0;32m     14\u001b[0m b_lista_de_lista[\u001b[39m0\u001b[39m] \u001b[39m=\u001b[39m \u001b[39m-\u001b[39m\u001b[39m8\u001b[39m\n",
      "\u001b[1;31mNameError\u001b[0m: name 'copy' is not defined"
     ]
    }
   ],
   "source": [
    "#Si con copy copiamos un elemento que es una lista, al copiar sigue siendo el mismo elemento.\n",
    "\n",
    "a_lista_de_lista = [1,[1,2]]\n",
    "b_lista_de_lista = a_lista_de_lista.copy()\n",
    "a_lista_de_lista[1][0] = 10\n",
    "b_lista_de_lista[0] = -8\n",
    "print(a_lista_de_lista)\n",
    "print(b_lista_de_lista)\n",
    "\n",
    "#Si queremos hacerlo de forma anidada, hay que usar deep_copy()\n",
    "a_lista_de_lista = [1,[1,2]]\n",
    "b_lista_de_lista = copy.deepcopy(a_lista_de_lista)\n",
    "a_lista_de_lista[1][0] = 10\n",
    "b_lista_de_lista[0] = -8\n",
    "print(a_lista_de_lista)\n",
    "print(b_lista_de_lista)\n"
   ]
  },
  {
   "cell_type": "code",
   "execution_count": null,
   "metadata": {},
   "outputs": [],
   "source": [
    "#Testeo la eficiencia de las tuplas vs listas\n",
    "N = int(2e8)\n",
    "lista_test = [1]*N\n",
    "tupla_test = (1,)*N"
   ]
  },
  {
   "cell_type": "code",
   "execution_count": null,
   "metadata": {},
   "outputs": [
    {
     "name": "stdout",
     "output_type": "stream",
     "text": [
      "Termina test\n"
     ]
    }
   ],
   "source": [
    "lista_test + 2*lista_test\n",
    "print(\"Termina test\")\n",
    "#Le tomó 55.7 s"
   ]
  },
  {
   "cell_type": "code",
   "execution_count": null,
   "metadata": {},
   "outputs": [
    {
     "name": "stdout",
     "output_type": "stream",
     "text": [
      "Termina test\n"
     ]
    }
   ],
   "source": [
    "tupla_test + 2*tupla_test\n",
    "print(\"Termina test\")\n",
    "#Le tomó 45 s. Efectivamente es más rápido"
   ]
  },
  {
   "cell_type": "code",
   "execution_count": null,
   "metadata": {},
   "outputs": [
    {
     "name": "stdout",
     "output_type": "stream",
     "text": [
      "[3, 2, 1]\n",
      "[]\n"
     ]
    }
   ],
   "source": [
    "L1 = [1,2,3]\n",
    "L2 = reversed(L1)\n",
    "print(list(L2))\n",
    "\n",
    "L1 = 10 #Acá cambio L1\n",
    "print(list(L2)) #y por lo tanto se cambia L2 porque L2 no es una lista, sino es un iterador al estilo de range\n"
   ]
  },
  {
   "attachments": {},
   "cell_type": "markdown",
   "metadata": {},
   "source": [
    "#### Ejercicios 02 (b)"
   ]
  },
  {
   "cell_type": "code",
   "execution_count": null,
   "metadata": {},
   "outputs": [
    {
     "ename": "TypeError",
     "evalue": "list indices must be integers or slices, not range",
     "output_type": "error",
     "traceback": [
      "\u001b[1;31m---------------------------------------------------------------------------\u001b[0m",
      "\u001b[1;31mTypeError\u001b[0m                                 Traceback (most recent call last)",
      "Cell \u001b[1;32mIn[14], line 3\u001b[0m\n\u001b[0;32m      1\u001b[0m N \u001b[39m=\u001b[39m \u001b[39mlist\u001b[39m(\u001b[39mrange\u001b[39m(\u001b[39m1\u001b[39m,\u001b[39m51\u001b[39m))\n\u001b[0;32m      2\u001b[0m N\u001b[39m.\u001b[39mreverse()\n\u001b[1;32m----> 3\u001b[0m N2 \u001b[39m=\u001b[39m N[\u001b[39mrange\u001b[39;49m(\u001b[39m0\u001b[39;49m,\u001b[39m51\u001b[39;49m,\u001b[39m2\u001b[39;49m)]\n",
      "\u001b[1;31mTypeError\u001b[0m: list indices must be integers or slices, not range"
     ]
    }
   ],
   "source": [
    "N = list(range(1,51))\n",
    "N.reverse()\n",
    "N2 = N[range(0,51,2)]\n"
   ]
  },
  {
   "attachments": {},
   "cell_type": "markdown",
   "metadata": {},
   "source": [
    "-------- \n",
    "\n",
    "## Ejercicios 02 (b)\n",
    "\n",
    "3. Manejos de listas:\n",
    "    - Cree la lista **N** de longitud 50, donde cada elemento es un número entero de 1 a 50 inclusive (Ayuda: vea la expresión ``range``).\n",
    "    - Invierta la lista.\n",
    "    - Extraiga una lista **N2** que contenga sólo los elementos pares de **N**.\n",
    "    - Extraiga una lista **N3** que contenga sólo aquellos elementos que sean el cuadrado de algún número entero.\n",
    "\n",
    "6. Cree una lista de la forma `L = [1,3,5,...,17,19,19,17,...,3,1]`\n",
    "\n",
    "7. Operación \"rara\" sobre una lista: **DUDA**\n",
    "    - Defina la lista `L = [0,1]`\n",
    "    - Realice la operación `L.append(L)`\n",
    "    - Ahora imprima L, e imprima el último elemento de `L`.\n",
    "    - Haga que una nueva lista `L1` tenga el valor del último elemento de `L` y repita el inciso anterior.\n",
    "    \n",
    "8. Utilizando funciones y métodos de *strings* en la cadena de caracteres:\n",
    "\n",
    "```python\n",
    "s1='En un lugar de la Mancha de cuyo nombre no quiero acordarme'\n",
    "\n",
    "```\n",
    "  - Obtenga la cantidad de caracteres.\n",
    "  - Imprima la frase anterior pero con cada palabra empezando en mayúsculas.\n",
    "  - Cuente cuantas letras 'a' tiene la frase, ¿cuántas vocales tiene?  \n",
    "  - Imprima el string `s1` centrado en una línea de 80 caracteres, rodeado de guiones en la forma:   \n",
    "        \n",
    "    ----------En un lugar de la Mancha de cuyo nombre no quiero acordarme-----------\n",
    "    \n",
    "  - Obtenga una lista **L1** donde cada elemento sea una palabra de la oración.\n",
    "  - Cuente la cantidad de palabras en ``s1`` (utilizando python).\n",
    "  - Ordene la lista **L1** en orden alfabético.\n",
    "  - Ordene la lista **L1** tal que las palabras más cortas estén primero.\n",
    "  - Ordene la lista **L1** tal que las palabras más largas estén primero.\n",
    "  - Construya un string **s2** con la lista del resultado del punto anterior.\n",
    "  - Encuentre la palabra más larga y la más corta de la frase.\n",
    "\n",
    "\n",
    "7. Escriba un script que encuentre las raíces de la ecuación cuadrática $a x^{2} + bx +c  = 0$. Los valores de los parámetros defínalos en el mismo script, un poco más arriba.\n",
    "\n",
    "3. Considere un polígono regular de $N$ lados inscripto en un círculo de radio unidad:\n",
    "    - Calcule el ángulo interior del polígono regular de $N$ lados (por ejemplo el de un triángulo es 60 grados, de un cuadrado es 90 grados, y de un pentágono es 108 grados). Exprese el resultado en grados y en radianes para valores de  $N= 3, 5, 6, 8, 9, 10, 12$.\n",
    "    - ¿Puede calcular la longitud del lado de los polígonos regulares si se encuentran inscriptos en un círculo de radio unidad?\n",
    "\n",
    "8. Escriba un *script* (llamado distancia1.py) que defina las variables velocidad y posición inicial $v_{0}$, $z_{0}$, la aceleración $g$, y la masa $m=1$ kg a tiempo $t=0$, y calcule e imprima la posición y velocidad a un tiempo posterior $t$. Ejecute el programa para varios valores de posición y velocidad inicial para $t=2$ segundos.\n",
    "Recuerde que las ecuaciones de movimiento con aceleración constante son:\n",
    "\n",
    "   $$v = v_0 - g t  \\\\  z = z_0 + v_0 t - g t^2/2.$$\n",
    "\n",
    "### Adicionales\n",
    "\n",
    "9. Calcular la suma:\n",
    "  $$s_{1} = \\frac{1}{2} \\left(\\sum_{k=0}^{100}k \\right)^{-1}$$\n",
    "  *Ayuda*: busque información sobre la función `sum()`\n",
    "\n",
    "10. Construir una lista `L2` con 2000 elementos, todos iguales a `0.0005`.\n",
    "\n",
    "**ESTO SIGNIFICA QUE ES MALO PARA OPERACIONES DE PUNTO FLOTANTE?**\n",
    "\n",
    "Imprimir su suma utilizando la función `sum` y comparar con el resultado que arroja la función que existe en el módulo `math` para realizar suma de números de punto flotante.\n",
    "\n",
    "--------\n",
    "."
   ]
  },
  {
   "attachments": {},
   "cell_type": "markdown",
   "metadata": {},
   "source": [
    "### Ejercicio 3"
   ]
  },
  {
   "cell_type": "code",
   "execution_count": 37,
   "metadata": {},
   "outputs": [
    {
     "name": "stdout",
     "output_type": "stream",
     "text": [
      "[50, 49, 48, 47, 46, 45, 44, 43, 42, 41, 40, 39, 38, 37, 36, 35, 34, 33, 32, 31, 30, 29, 28, 27, 26, 25, 24, 23, 22, 21, 20, 19, 18, 17, 16, 15, 14, 13, 12, 11, 10, 9, 8, 7, 6, 5, 4, 3, 2, 1]\n"
     ]
    }
   ],
   "source": [
    "#Creo la lista\n",
    "N = list(range(1,51))\n",
    "\n",
    "#La doy vuelta\n",
    "N.reverse()\n",
    "print(N)"
   ]
  },
  {
   "cell_type": "code",
   "execution_count": 40,
   "metadata": {},
   "outputs": [
    {
     "name": "stdout",
     "output_type": "stream",
     "text": [
      "[50, 48, 46, 44, 42, 40, 38, 36, 34, 32, 30, 28, 26, 24, 22, 20, 18, 16, 14, 12, 10, 8, 6, 4, 2]\n"
     ]
    }
   ],
   "source": [
    "N2 = [N[i] for i in range(50) if i%2 == 0]\n",
    "print(N2)\n"
   ]
  },
  {
   "cell_type": "code",
   "execution_count": 52,
   "metadata": {},
   "outputs": [
    {
     "name": "stdout",
     "output_type": "stream",
     "text": [
      "[49, 36, 25, 16, 9, 4, 1]\n"
     ]
    }
   ],
   "source": [
    "import math\n",
    "N3 = [N[i] for i in range(50) if math.sqrt(N[i]) in N]\n",
    "print(N3)"
   ]
  },
  {
   "attachments": {},
   "cell_type": "markdown",
   "metadata": {},
   "source": [
    "### Ejercicio 4"
   ]
  },
  {
   "cell_type": "code",
   "execution_count": 62,
   "metadata": {},
   "outputs": [
    {
     "name": "stdout",
     "output_type": "stream",
     "text": [
      "[1, 3, 5, 7, 9, 11, 13, 15, 17, 19, 19, 17, 15, 13, 11, 9, 7, 5, 3, 1]\n"
     ]
    }
   ],
   "source": [
    "L1 = list(range(1,20,2))\n",
    "L2 = L1.copy()\n",
    "L2.reverse()\n",
    "L = L1 + L2\n",
    "print(L)"
   ]
  },
  {
   "attachments": {},
   "cell_type": "markdown",
   "metadata": {},
   "source": [
    "### Ejercicio 5 - ES RECURSIVO? POR QUÉ"
   ]
  },
  {
   "cell_type": "code",
   "execution_count": 65,
   "metadata": {},
   "outputs": [
    {
     "name": "stdout",
     "output_type": "stream",
     "text": [
      "[0, 1, [...]]\n",
      "[0, 1, [...]]\n"
     ]
    }
   ],
   "source": [
    "L = [0,1]\n",
    "L.append(L)\n",
    "print(L)\n",
    "print(L[-1])"
   ]
  },
  {
   "cell_type": "code",
   "execution_count": 66,
   "metadata": {},
   "outputs": [
    {
     "name": "stdout",
     "output_type": "stream",
     "text": [
      "[0, 1, [...]]\n",
      "[0, 1, [...]]\n"
     ]
    }
   ],
   "source": [
    "L1 = L[-1]\n",
    "print(L1)\n",
    "print(L1[-1])"
   ]
  },
  {
   "cell_type": "code",
   "execution_count": 68,
   "metadata": {},
   "outputs": [
    {
     "name": "stdout",
     "output_type": "stream",
     "text": [
      "[0.1, 1.0, [...]]\n",
      "[0.1, 1.0, [...]]\n"
     ]
    }
   ],
   "source": [
    "#¿y si lo hago con nros float? TMB\n",
    "\n",
    "L = [0.,1.]\n",
    "L.append(L)\n",
    "print(L)\n",
    "print(L[-1])"
   ]
  },
  {
   "attachments": {},
   "cell_type": "markdown",
   "metadata": {},
   "source": [
    "### Ejercicio 6"
   ]
  },
  {
   "cell_type": "code",
   "execution_count": 69,
   "metadata": {},
   "outputs": [],
   "source": [
    "s1='En un lugar de la Mancha de cuyo nombre no quiero acordarme'"
   ]
  },
  {
   "cell_type": "code",
   "execution_count": 138,
   "metadata": {},
   "outputs": [
    {
     "name": "stdout",
     "output_type": "stream",
     "text": [
      "59\n",
      "En Un Lugar De La Mancha De Cuyo Nombre No Quiero Acordarme\n",
      "Nro de letras 'a':  6\n",
      "Nro de vocales:  21\n",
      "---------- En un lugar de la Mancha de cuyo nombre no quiero acordarme ----------\n",
      "['En', 'un', 'lugar', 'de', 'la', 'Mancha', 'de', 'cuyo', 'nombre', 'no', 'quiero', 'acordarme']\n",
      "Nro de palabras en s1:  12\n",
      "Ordeno diferenciando entre mayúsculas y minúsculas: \n",
      "['En', 'Mancha', 'acordarme', 'cuyo', 'de', 'de', 'la', 'lugar', 'no', 'nombre', 'quiero', 'un']\n",
      "Ordeno sin diferenciar: \n",
      "['acordarme', 'cuyo', 'de', 'de', 'en', 'la', 'lugar', 'mancha', 'no', 'nombre', 'quiero', 'un']\n",
      "Ordeno por tamaño\n",
      "['En', 'de', 'de', 'la', 'no', 'un', 'cuyo', 'lugar', 'Mancha', 'nombre', 'quiero', 'acordarme']\n",
      "Ordeno por tamaño\n",
      "['acordarme', 'quiero', 'nombre', 'Mancha', 'lugar', 'cuyo', 'un', 'no', 'la', 'de', 'de', 'En']\n",
      "Imprimo s2:\n",
      "acordarme quiero nombre Mancha lugar cuyo un no la de de En\n",
      "Palabra más larga:  acordarme\n",
      "Palabra más corta:  En\n"
     ]
    }
   ],
   "source": [
    "#Imprimo el nro de caracteres contando a los espacios como caracteres\n",
    "print(len(s1))\n",
    "\n",
    "#Imprimo la frase anterior pero con cada palabra empezando en mayúscula\n",
    "s_title = s1\n",
    "s_title = s_title.title()\n",
    "print(s_title)\n",
    "\n",
    "#Cuento cuántas letras 'a' tiene la frase\n",
    "print(\"Nro de letras 'a': \", s1.count(\"a\"))\n",
    "\n",
    "#Cuento el nro de vocales\n",
    "print(\"Nro de vocales: \", s1.count(\"a\") + s1.count(\"e\") + s1.count(\"i\") + s1.count(\"o\") + s1.count(\"u\"))\n",
    "\n",
    "#Imprimo el string \n",
    "N_tot_char = 80\n",
    "N_char_bordes = int((80-len(s1))/2)\n",
    "print(\"-\"*N_char_bordes, s1, \"-\"*N_char_bordes)\n",
    "\n",
    "#Creo la lista L1\n",
    "L1 = s1.split()\n",
    "print(L1)\n",
    "\n",
    "#Cuento la cantidad de palabras en s1\n",
    "print(\"Nro de palabras en s1: \", len(s1.split()))\n",
    "\n",
    "#Ordeno L1 en orden alfabético\n",
    "print(\"Ordeno diferenciando entre mayúsculas y minúsculas: \")\n",
    "L1.sort() #Acá ordena considerando a las mayúsculas como otras letras\n",
    "print(L1)\n",
    "#Para ordenarlo independientemente de la primer letra tengo que hacer todo minúsculas antes\n",
    "\n",
    "print(\"Ordeno sin diferenciar: \")\n",
    "L2 = s1\n",
    "L2 = L2.lower()\n",
    "L2 = L2.split()\n",
    "L2.sort()\n",
    "print(L2)\n",
    "\n",
    "#Ordeno la lista L1 tal que las palabras más cortas están primero\n",
    "L1.sort(key = len)\n",
    "print(\"Ordeno por tamaño\")\n",
    "print(L1)\n",
    "\n",
    "#Ordeno la lista L1 tal que las palabras más largas están primero\n",
    "L1.sort(key = len)\n",
    "L1.reverse()\n",
    "print(\"Ordeno por tamaño\")\n",
    "print(L1)\n",
    "\n",
    "#Construyo s2\n",
    "s2 = \" \".join(L1)\n",
    "print(\"Imprimo s2:\")\n",
    "print(s2)\n",
    "\n",
    "#Encuentro la palabra más larga y la más corta de la frase\n",
    "s2_split = s2.split()\n",
    "print(\"Palabra más larga: \", s2_split[0])\n",
    "print(\"Palabra más corta: \", s2_split[-1])"
   ]
  },
  {
   "attachments": {},
   "cell_type": "markdown",
   "metadata": {},
   "source": [
    "### Ejercicio 7"
   ]
  },
  {
   "cell_type": "code",
   "execution_count": 142,
   "metadata": {},
   "outputs": [
    {
     "name": "stdout",
     "output_type": "stream",
     "text": [
      "Las raíces son: \n",
      " (-0.5+0.8660254037844386j) \n",
      " (-0.5-0.8660254037844386j) \n",
      "\n"
     ]
    }
   ],
   "source": [
    "import cmath #por si alguna raíz es compleja\n",
    "\n",
    "#Defino los coeficientes\n",
    "a = 1\n",
    "b = 1\n",
    "c = 1\n",
    "\n",
    "#Calculo las raíces con la fórmula cuadrática\n",
    "raiz_1 = (-b + cmath.sqrt(b**2 - 4*a*c))/2/a\n",
    "raiz_2 = (-b - cmath.sqrt(b**2 - 4*a*c))/2/a\n",
    "\n",
    "print(\"Las raíces son: \\n\", raiz_1, \"\\n\", raiz_2, \"\\n\")\n"
   ]
  },
  {
   "attachments": {},
   "cell_type": "markdown",
   "metadata": {},
   "source": [
    "### Ejercicio 8"
   ]
  },
  {
   "cell_type": "code",
   "execution_count": 147,
   "metadata": {},
   "outputs": [
    {
     "name": "stdout",
     "output_type": "stream",
     "text": [
      "Ángulo interior de un polígono de 3 lados: 60.0 ° = 1.0471975511965976 rad\n",
      "Ángulo interior de un polígono de 4 lados: 90.0 ° = 1.5707963267948966 rad\n",
      "Ángulo interior de un polígono de 5 lados: 108.0 ° = 1.8849555921538759 rad\n",
      "Ángulo interior de un polígono de 6 lados: 120.0 ° = 2.0943951023931953 rad\n",
      "Ángulo interior de un polígono de 8 lados: 135.0 ° = 2.356194490192345 rad\n",
      "Ángulo interior de un polígono de 9 lados: 140.0 ° = 2.443460952792061 rad\n",
      "Ángulo interior de un polígono de 10 lados: 144.0 ° = 2.5132741228718345 rad\n",
      "Ángulo interior de un polígono de 12 lados: 150.0 ° = 2.6179938779914944 rad\n"
     ]
    }
   ],
   "source": [
    "#Dado un polígono regular de N lados inscripto en un círculo de radio unidad\n",
    "#por cada lado puedo definir un triángulo isósceles cuyos ángulos valgan 360/N y (180-360/N)/2 los dos iguales. De este modo, el ángulo interior es 2*(180-360/N)/2 = (180-360/N)\n",
    "import math\n",
    "pi = math.pi\n",
    "\n",
    "N_list = [3,5,6,8,9,10,12]\n",
    "for N in N_list:\n",
    "    angle_deg = 180-360/N\n",
    "    angle_rad = angle_deg*pi/180\n",
    "    print(f\"Ángulo interior de un polígono de {N} lados: {angle_deg} ° = {angle_rad} rad\")\n",
    "\n",
    "#Para calcular el lado basta con usar trigonometría sobre la mitad del triángulo isósceles de ángulos conocidos, usando que el círculo es de radio unidad"
   ]
  },
  {
   "attachments": {},
   "cell_type": "markdown",
   "metadata": {},
   "source": [
    "### Ejercicio 9\n",
    "dstancia1.py\n",
    "No sé muy bien de qué sirve este ejercicio..."
   ]
  },
  {
   "cell_type": "code",
   "execution_count": 149,
   "metadata": {},
   "outputs": [
    {
     "name": "stdout",
     "output_type": "stream",
     "text": [
      "v =  -19\n",
      "z =  -17.0\n"
     ]
    }
   ],
   "source": [
    "v0 = 1\n",
    "z0 = 1\n",
    "g = 10\n",
    "m = 1\n",
    "\n",
    "t = 2 #En ningún momento dice que se tenga que pedir al usuario este dato\n",
    "\n",
    "v = v0 - g*t\n",
    "z = z0 + v0*t - g*t**2/2\n",
    "\n",
    "print(\"v = \", v)\n",
    "print(\"z = \", z)"
   ]
  },
  {
   "attachments": {},
   "cell_type": "markdown",
   "metadata": {},
   "source": [
    "### Adicionales - Ejercicio 9"
   ]
  },
  {
   "cell_type": "code",
   "execution_count": 152,
   "metadata": {},
   "outputs": [
    {
     "name": "stdout",
     "output_type": "stream",
     "text": [
      "9.900990099009902e-05\n"
     ]
    }
   ],
   "source": [
    "#Creo una lista cuyos elementos sean los términos a sumar\n",
    "lista = list(range(101))\n",
    "s1 = 1/2/sum(lista)\n",
    "print(s1)"
   ]
  },
  {
   "attachments": {},
   "cell_type": "markdown",
   "metadata": {},
   "source": [
    "### Adicionales - Ejercicio 10"
   ]
  },
  {
   "cell_type": "code",
   "execution_count": 157,
   "metadata": {},
   "outputs": [
    {
     "name": "stdout",
     "output_type": "stream",
     "text": [
      "0.9999999999999453\n",
      "1.0\n"
     ]
    }
   ],
   "source": [
    "L2 = [0.0005 for i in range(2000)]\n",
    "\n",
    "#Calculo la suma usando sum\n",
    "print(sum(L2))\n",
    "\n",
    "#Calculo la suma usando math\n",
    "print(math.fsum(L2))"
   ]
  },
  {
   "cell_type": "code",
   "execution_count": null,
   "metadata": {},
   "outputs": [],
   "source": []
  }
 ],
 "metadata": {
  "kernelspec": {
   "display_name": "IntroPython",
   "language": "python",
   "name": "python3"
  },
  "language_info": {
   "codemirror_mode": {
    "name": "ipython",
    "version": 3
   },
   "file_extension": ".py",
   "mimetype": "text/x-python",
   "name": "python",
   "nbconvert_exporter": "python",
   "pygments_lexer": "ipython3",
   "version": "3.10.9"
  },
  "orig_nbformat": 4,
  "vscode": {
   "interpreter": {
    "hash": "6b8ef78bc8fc504654170752d5658161177d5450671fa32490eb795dae9c9f83"
   }
  }
 },
 "nbformat": 4,
 "nbformat_minor": 2
}
