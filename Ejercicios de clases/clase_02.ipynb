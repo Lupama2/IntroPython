{
 "cells": [
  {
   "attachments": {},
   "cell_type": "markdown",
   "metadata": {},
   "source": [
    "### Ejercicios de la clase 02\n",
    "(y tests generales)"
   ]
  },
  {
   "attachments": {},
   "cell_type": "markdown",
   "metadata": {},
   "source": [
    "#### Tests"
   ]
  },
  {
   "cell_type": "code",
   "execution_count": 1,
   "metadata": {},
   "outputs": [
    {
     "name": "stdout",
     "output_type": "stream",
     "text": [
      "20\n"
     ]
    }
   ],
   "source": [
    "#Python usa símbolos en UTF8\n",
    "\n",
    "ª = 10\n",
    "ª = ª + 10\n",
    "print(ª)"
   ]
  },
  {
   "cell_type": "code",
   "execution_count": 2,
   "metadata": {},
   "outputs": [
    {
     "name": "stdout",
     "output_type": "stream",
     "text": [
      "Ha\n"
     ]
    }
   ],
   "source": [
    "#Indexado de índices\n",
    "s = \"Hola Mundo\"\n",
    "print(s[0:5:3])"
   ]
  },
  {
   "cell_type": "code",
   "execution_count": 3,
   "metadata": {},
   "outputs": [
    {
     "name": "stdout",
     "output_type": "stream",
     "text": [
      "Bichi es el mejor equipo porque lo tiene a Colon con el nro 3.141592653589793\n",
      "\n",
      "El texto:  3.141592653589793 es del tipo <class 'str'>\n"
     ]
    }
   ],
   "source": [
    "#Formateo de strings usando format\n",
    "import math\n",
    "\n",
    "equipo = \"Colon\"\n",
    "jugador = \"Bichi\"\n",
    "nro = math.pi\n",
    "s = \"{1} es el mejor equipo porque lo tiene a {0} con el nro {2}\".format(equipo, jugador, nro)\n",
    "print(s)\n",
    "s = \"{}\".format(nro)\n",
    "print(\"\\nEl texto: \", s, \"es del tipo\", type(s))"
   ]
  },
  {
   "cell_type": "code",
   "execution_count": 4,
   "metadata": {},
   "outputs": [
    {
     "name": "stdout",
     "output_type": "stream",
     "text": [
      "Colon es el mejor equipo porque lo tiene a Bichi\n",
      "El nro pi*2 es 6.2832\n"
     ]
    }
   ],
   "source": [
    "#Formateo de string usando f-string\n",
    "s = f\"{equipo} es el mejor equipo porque lo tiene a {jugador}\"\n",
    "print(s)\n",
    "\n",
    "s = f\"El nro pi*2 es {math.pi*2:.4f}\" #\".4\" son 4 decimales y \"f\" es \"del tipo float\"\n",
    "print(s)"
   ]
  },
  {
   "cell_type": "code",
   "execution_count": 5,
   "metadata": {},
   "outputs": [
    {
     "ename": "TypeError",
     "evalue": "can only concatenate str (not \"int\") to str",
     "output_type": "error",
     "traceback": [
      "\u001b[1;31m---------------------------------------------------------------------------\u001b[0m",
      "\u001b[1;31mTypeError\u001b[0m                                 Traceback (most recent call last)",
      "Cell \u001b[1;32mIn[5], line 2\u001b[0m\n\u001b[0;32m      1\u001b[0m \u001b[39m#Conversión de tipos\u001b[39;00m\n\u001b[1;32m----> 2\u001b[0m \u001b[39mprint\u001b[39m(\u001b[39m\"\u001b[39;49m\u001b[39m1\u001b[39;49m\u001b[39m\"\u001b[39;49m \u001b[39m+\u001b[39;49m \u001b[39m1\u001b[39;49m)\n",
      "\u001b[1;31mTypeError\u001b[0m: can only concatenate str (not \"int\") to str"
     ]
    }
   ],
   "source": [
    "#Conversión de tipos\n",
    "print(\"1\" + 1) #Error porque la suma entre strings y enteros no está definida"
   ]
  },
  {
   "attachments": {},
   "cell_type": "markdown",
   "metadata": {},
   "source": [
    "#### Ejercicios 02 (a)\n",
    "\n",
    "--------\n",
    "\n",
    "1. Centrado manual de frases\n",
    "\n",
    "    a. Utilizando la función `len()` centre una frase corta en una pantalla de 80 caracteres. Utilice la frase: \"Primer ejercicio con caracteres\"\n",
    "\n",
    "    b. Agregue subrayado a la frase anterior\n",
    "\n",
    "\n",
    "2. **PARA ENTREGAR.** Para la cadena de caracteres:\n",
    "```python\n",
    "s = '''Aquí me pongo a cantar\n",
    "Al compás de la vigüela,\n",
    "Que el hombre que lo desvela\n",
    "Una pena estraordinaria\n",
    "Como la ave solitaria\n",
    "Con el cantar se consuela.'''\n",
    "```\n",
    "\n",
    "  * Cuente la cantidad de veces que aparecen los substrings `es`, `la`, `que`, `co`,  en los siguientes dos casos: distinguiendo entre mayúsculas y minúsculas, y no distinguiendo. Imprima el resultado.\n",
    "\n",
    "  * Cree una lista, donde cada elemento es una línea del string `s` y encuentre la de mayor longitud. Imprima por pantalla la línea y su longitud. (Posibles ayudas: busque información sobre funciones que aplican a *strings* y los métodos)\n",
    "\n",
    "  * Forme un nuevo string de 10 caracteres que contenga los 5 primeros y los 5 últimos del string anterior `s`. Imprima por pantalla el nuevo string.\n",
    "\n",
    "  * Forme un nuevo string que contenga los 10 caracteres centrales de `s` (utilizando un método que pueda aplicarse a otros strings también). Imprima por pantalla el nuevo string.\n",
    "\n",
    "  * Cambie todas las letras \"m\" por \"n\" y todas las letras \"n\" por \"m\" en `s`. Imprima el resultado por pantalla.\n",
    "\n",
    "  * Debe entregar un programa llamado `02_SuApellido.py` (con su apellido, no la palabra \"SuApellido\") por correo electrónico.\n",
    "  El programa al correrlo con el comando `python3 02_SuApellido.py` debe imprimir:\n",
    "\n",
    "  ```\n",
    "  Nombre Apellido\n",
    "  Clase 2\n",
    "  Distinguiendo: 2 5 1 2\n",
    "  Sin distinguir: 2 5 2 4\n",
    "  Que el hombre que lo desvela : longitud=28\n",
    "  Aquí uela.\n",
    "  desvela \n",
    "  Un\n",
    "  Aquí ne pomgo a camtar\n",
    "  Al conpás de la vigüela,\n",
    "  Que el honbre que lo desvela\n",
    "  Uma pema estraordimaria\n",
    "  Cono la ave solitaria\n",
    "  Com el camtar se comsuela.\n",
    "  ```\n",
    "  \n",
    "-------- "
   ]
  },
  {
   "cell_type": "code",
   "execution_count": null,
   "metadata": {},
   "outputs": [
    {
     "name": "stdout",
     "output_type": "stream",
     "text": [
      "                         80                         \n",
      "--------------------------------------------------------------------------------\n"
     ]
    }
   ],
   "source": [
    "nro_caracteres = 80\n",
    "s = \"Primer ejercicio con caracteres\"\n",
    "nro_spacios = int((nro_caracteres - len(s))/2)\n",
    "print(nro_spacios*\" \", nro_caracteres, nro_spacios*\" \")\n",
    "print(nro_caracteres*\"-\")"
   ]
  },
  {
   "attachments": {},
   "cell_type": "markdown",
   "metadata": {},
   "source": [
    "CREO QUE NO DEBERÍA PODER USAR EL FOR. PARA EL MAX HAY UN ARGUMENTO EXTRA LLAMADO key QUE NOS PUEDE SERVIR O CREAR UNA LISTA ON LA LONGITUD DE LOS STRINGS USANDO LO QUE VIMOS DE LISTAS COMPRENSIVE"
   ]
  },
  {
   "cell_type": "code",
   "execution_count": null,
   "metadata": {},
   "outputs": [
    {
     "name": "stdout",
     "output_type": "stream",
     "text": [
      "Distinguiendo:  2 5 1 2 \n",
      "Sin distinguir:  2 5 2 4 "
     ]
    }
   ],
   "source": [
    "s = '''Aquí me pongo a cantar\n",
    "Al compás de la vigüela,\n",
    "Que el hombre que lo desvela\n",
    "Una pena estraordinaria\n",
    "Como la ave solitaria\n",
    "Con el cantar se consuela.'''\n",
    "\n",
    "#Cuento el nro de veces que aparecen los substrings\n",
    "substrings = [\"es\", \"la\", \"que\", \"co\"]\n",
    "\n",
    "#Distinguiendo:\n",
    "print(\"Distinguiendo: \", end = \" \")\n",
    "for substring in substrings:\n",
    "    print(s.count(substring), end = \" \") #naturalmente distingue entre mayúscular y minúsculas porque son caracteres distintos\n",
    "\n",
    "#Sin distinguir: hago mayus a todo\n",
    "print(\"\\nSin distinguir: \", end = \" \")\n",
    "s_upper = s.upper()\n",
    "for substring in substrings:\n",
    "    print(s_upper.count(substring.upper()), end = \" \")\n",
    "\n"
   ]
  },
  {
   "cell_type": "code",
   "execution_count": null,
   "metadata": {},
   "outputs": [
    {
     "name": "stdout",
     "output_type": "stream",
     "text": [
      "22 24 28 23 21 26 "
     ]
    }
   ],
   "source": [
    "#Separo el string con split\n",
    "s_lista = s.split(sep = \"\\n\")\n",
    "\n",
    "#Busco el máximo\n",
    "max(s_lista)\n",
    "\n",
    "for frase in s_lista:\n",
    "    print(len(frase), end = \" \")"
   ]
  },
  {
   "cell_type": "code",
   "execution_count": null,
   "metadata": {},
   "outputs": [
    {
     "name": "stdout",
     "output_type": "stream",
     "text": [
      "Aquí uela.\n"
     ]
    }
   ],
   "source": [
    "nuevo_string = s[:5] + s[-5:]\n",
    "print(nuevo_string)"
   ]
  },
  {
   "cell_type": "code",
   "execution_count": null,
   "metadata": {},
   "outputs": [
    {
     "name": "stdout",
     "output_type": "stream",
     "text": [
      "desvela\n",
      "Un\n"
     ]
    }
   ],
   "source": [
    "n_centro = 10\n",
    "#Imprimo desde la mitad, n_centro/2 a izquierda y lo mismo a derecha\n",
    "print(s[int(len(s)/2 - n_centro/2): int(len(s)/2 + n_centro/2)])\n"
   ]
  },
  {
   "cell_type": "code",
   "execution_count": null,
   "metadata": {},
   "outputs": [
    {
     "name": "stdout",
     "output_type": "stream",
     "text": [
      "Aquí me pongo a cantar\n",
      "Al compás de la vigüela,\n",
      "Que el hombre que lo desvela\n",
      "Una pena estraordinaria\n",
      "Como la ave solitaria\n",
      "Con el cantar se consuela.\n"
     ]
    }
   ],
   "source": [
    "#Necesito reemplazar a un 3er elemento\n",
    "s.replace(\"m\", \"6\")\n",
    "s.replace(\"n\",\"m\")\n",
    "s.replace(\"6\", \"n\")\n",
    "print(s)"
   ]
  },
  {
   "attachments": {},
   "cell_type": "markdown",
   "metadata": {},
   "source": [
    "#### Tests"
   ]
  },
  {
   "cell_type": "code",
   "execution_count": null,
   "metadata": {},
   "outputs": [
    {
     "name": "stdout",
     "output_type": "stream",
     "text": [
      "True\n",
      "[10, 2, 3, 4]\n"
     ]
    }
   ],
   "source": [
    "a_lista = [1,2,3,4]\n",
    "b_lista = a_lista\n",
    "print(a_lista is b_lista)\n",
    "#Cambio b\n",
    "b_lista[0] = 10 #Tmb cambia a_lista! porque b_lista es una referencia a a_lista\n",
    "print(a_lista)\n"
   ]
  },
  {
   "cell_type": "code",
   "execution_count": null,
   "metadata": {},
   "outputs": [
    {
     "name": "stdout",
     "output_type": "stream",
     "text": [
      "[5, 2, 3, 4]\n",
      "[10, 2, 3, 4]\n"
     ]
    }
   ],
   "source": [
    "c_lista = a_lista.copy() #No cambia la lista original. Estoy haciendo una copia\n",
    "c_lista[0] = 5\n",
    "print(c_lista)\n",
    "print(a_lista)"
   ]
  },
  {
   "cell_type": "code",
   "execution_count": null,
   "metadata": {},
   "outputs": [
    {
     "name": "stdout",
     "output_type": "stream",
     "text": [
      "[1, [10, 2]]\n",
      "[-8, [10, 2]]\n"
     ]
    },
    {
     "ename": "NameError",
     "evalue": "name 'copy' is not defined",
     "output_type": "error",
     "traceback": [
      "\u001b[1;31m---------------------------------------------------------------------------\u001b[0m",
      "\u001b[1;31mNameError\u001b[0m                                 Traceback (most recent call last)",
      "Cell \u001b[1;32mIn[115], line 12\u001b[0m\n\u001b[0;32m     10\u001b[0m \u001b[39m#Si queremos hacerlo de forma anidada, hay que usar deep_copy()\u001b[39;00m\n\u001b[0;32m     11\u001b[0m a_lista_de_lista \u001b[39m=\u001b[39m [\u001b[39m1\u001b[39m,[\u001b[39m1\u001b[39m,\u001b[39m2\u001b[39m]]\n\u001b[1;32m---> 12\u001b[0m b_lista_de_lista \u001b[39m=\u001b[39m copy\u001b[39m.\u001b[39mdeepcopy(a_lista_de_lista)\n\u001b[0;32m     13\u001b[0m a_lista_de_lista[\u001b[39m1\u001b[39m][\u001b[39m0\u001b[39m] \u001b[39m=\u001b[39m \u001b[39m10\u001b[39m\n\u001b[0;32m     14\u001b[0m b_lista_de_lista[\u001b[39m0\u001b[39m] \u001b[39m=\u001b[39m \u001b[39m-\u001b[39m\u001b[39m8\u001b[39m\n",
      "\u001b[1;31mNameError\u001b[0m: name 'copy' is not defined"
     ]
    }
   ],
   "source": [
    "#Si con copy copiamos un elemento que es una lista, al copiar sigue siendo el mismo elemento.\n",
    "\n",
    "a_lista_de_lista = [1,[1,2]]\n",
    "b_lista_de_lista = a_lista_de_lista.copy()\n",
    "a_lista_de_lista[1][0] = 10\n",
    "b_lista_de_lista[0] = -8\n",
    "print(a_lista_de_lista)\n",
    "print(b_lista_de_lista)\n",
    "\n",
    "#Si queremos hacerlo de forma anidada, hay que usar deep_copy()\n",
    "a_lista_de_lista = [1,[1,2]]\n",
    "b_lista_de_lista = copy.deepcopy(a_lista_de_lista)\n",
    "a_lista_de_lista[1][0] = 10\n",
    "b_lista_de_lista[0] = -8\n",
    "print(a_lista_de_lista)\n",
    "print(b_lista_de_lista)\n"
   ]
  },
  {
   "cell_type": "code",
   "execution_count": 6,
   "metadata": {},
   "outputs": [],
   "source": [
    "#Testeo la eficiencia de las tuplas vs listas\n",
    "N = int(2e8)\n",
    "lista_test = [1]*N\n",
    "tupla_test = (1,)*N"
   ]
  },
  {
   "cell_type": "code",
   "execution_count": 7,
   "metadata": {},
   "outputs": [
    {
     "name": "stdout",
     "output_type": "stream",
     "text": [
      "Termina test\n"
     ]
    }
   ],
   "source": [
    "lista_test + 2*lista_test\n",
    "print(\"Termina test\")\n",
    "#Le tomó 55.7 s"
   ]
  },
  {
   "cell_type": "code",
   "execution_count": 8,
   "metadata": {},
   "outputs": [
    {
     "name": "stdout",
     "output_type": "stream",
     "text": [
      "Termina test\n"
     ]
    }
   ],
   "source": [
    "tupla_test + 2*tupla_test\n",
    "print(\"Termina test\")\n",
    "#Le tomó 45 s. Efectivamente es más rápido"
   ]
  },
  {
   "cell_type": "code",
   "execution_count": 5,
   "metadata": {},
   "outputs": [
    {
     "name": "stdout",
     "output_type": "stream",
     "text": [
      "[3, 2, 1]\n",
      "[]\n"
     ]
    }
   ],
   "source": [
    "L1 = [1,2,3]\n",
    "L2 = reversed(L1)\n",
    "print(list(L2))\n",
    "\n",
    "L1 = 10 #Acá cambio L1\n",
    "print(list(L2)) #y por lo tanto se cambia L2 porque L2 no es una lista, sino es un iterador al estilo de range\n"
   ]
  },
  {
   "attachments": {},
   "cell_type": "markdown",
   "metadata": {},
   "source": [
    "#### Ejercicios 02 (b)"
   ]
  },
  {
   "cell_type": "code",
   "execution_count": 14,
   "metadata": {},
   "outputs": [
    {
     "ename": "TypeError",
     "evalue": "list indices must be integers or slices, not range",
     "output_type": "error",
     "traceback": [
      "\u001b[1;31m---------------------------------------------------------------------------\u001b[0m",
      "\u001b[1;31mTypeError\u001b[0m                                 Traceback (most recent call last)",
      "Cell \u001b[1;32mIn[14], line 3\u001b[0m\n\u001b[0;32m      1\u001b[0m N \u001b[39m=\u001b[39m \u001b[39mlist\u001b[39m(\u001b[39mrange\u001b[39m(\u001b[39m1\u001b[39m,\u001b[39m51\u001b[39m))\n\u001b[0;32m      2\u001b[0m N\u001b[39m.\u001b[39mreverse()\n\u001b[1;32m----> 3\u001b[0m N2 \u001b[39m=\u001b[39m N[\u001b[39mrange\u001b[39;49m(\u001b[39m0\u001b[39;49m,\u001b[39m51\u001b[39;49m,\u001b[39m2\u001b[39;49m)]\n",
      "\u001b[1;31mTypeError\u001b[0m: list indices must be integers or slices, not range"
     ]
    }
   ],
   "source": [
    "N = list(range(1,51))\n",
    "N.reverse()\n",
    "N2 = N[range(0,51,2)]\n"
   ]
  },
  {
   "cell_type": "code",
   "execution_count": null,
   "metadata": {},
   "outputs": [],
   "source": []
  }
 ],
 "metadata": {
  "kernelspec": {
   "display_name": "IntroPython",
   "language": "python",
   "name": "python3"
  },
  "language_info": {
   "codemirror_mode": {
    "name": "ipython",
    "version": 3
   },
   "file_extension": ".py",
   "mimetype": "text/x-python",
   "name": "python",
   "nbconvert_exporter": "python",
   "pygments_lexer": "ipython3",
   "version": "3.10.9"
  },
  "orig_nbformat": 4,
  "vscode": {
   "interpreter": {
    "hash": "6b8ef78bc8fc504654170752d5658161177d5450671fa32490eb795dae9c9f83"
   }
  }
 },
 "nbformat": 4,
 "nbformat_minor": 2
}
