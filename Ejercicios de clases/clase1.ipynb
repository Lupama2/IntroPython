{
 "cells": [
  {
   "attachments": {},
   "cell_type": "markdown",
   "metadata": {},
   "source": [
    "# 2\n",
    "\n",
    "Los magic-commands se resumen en\n",
    "https://ipython.readthedocs.io/en/stable/interactive/magics.html"
   ]
  },
  {
   "cell_type": "code",
   "execution_count": 18,
   "metadata": {},
   "outputs": [
    {
     "name": "stdout",
     "output_type": "stream",
     "text": [
      " El volumen de la unidad C es Windows\n",
      " El n�mero de serie del volumen es: 586E-EA67\n",
      "\n",
      " Directorio de c:\\Users\\lupam\\OneDrive\\Escritorio\\GitHub\\IntroPython\\Ejercicios de clases\n",
      "\n",
      "\n",
      " Directorio de c:\\Users\\lupam\\OneDrive\\Escritorio\\GitHub\\IntroPython\\Ejercicios de clases\n",
      "\n",
      "\n",
      " Directorio de c:\\Users\\lupam\\OneDrive\\Escritorio\\GitHub\\IntroPython\\Ejercicios de clases\n",
      "\n",
      "\n",
      " Directorio de c:\\Users\\lupam\\OneDrive\\Escritorio\\GitHub\\IntroPython\\Ejercicios de clases\n",
      "\n",
      "\n",
      " Directorio de c:\\Users\\lupam\\OneDrive\\Escritorio\\GitHub\\IntroPython\\Ejercicios de clases\n",
      "\n",
      "\n",
      " Directorio de c:\\Users\\lupam\\OneDrive\\Escritorio\\GitHub\\IntroPython\\Ejercicios de clases\n",
      "\n",
      "\n",
      " Directorio de c:\\Users\\lupam\\OneDrive\\Escritorio\\GitHub\\IntroPython\\Ejercicios de clases\n",
      "\n"
     ]
    },
    {
     "name": "stderr",
     "output_type": "stream",
     "text": [
      "No se encuentra el archivo\n",
      "Ya existe el subdirectorio o el archivo tmp.\n"
     ]
    },
    {
     "name": "stdout",
     "output_type": "stream",
     "text": [
      " El volumen de la unidad C es Windows\n",
      " El n�mero de serie del volumen es: 586E-EA67\n",
      "\n",
      " Directorio de c:\\Users\\lupam\\OneDrive\\Escritorio\\GitHub\\IntroPython\\Ejercicios de clases\n",
      "\n",
      "\n",
      " Directorio de c:\\Users\\lupam\\OneDrive\\Escritorio\\GitHub\\IntroPython\\Ejercicios de clases\n",
      "\n",
      "\n",
      " Directorio de c:\\Users\\lupam\\OneDrive\\Escritorio\\GitHub\\IntroPython\\Ejercicios de clases\n",
      "\n",
      "\n",
      " Directorio de c:\\Users\\lupam\\OneDrive\\Escritorio\\GitHub\\IntroPython\\Ejercicios de clases\n",
      "\n",
      "\n",
      " Directorio de c:\\Users\\lupam\\OneDrive\\Escritorio\\GitHub\\IntroPython\\Ejercicios de clases\n",
      "\n",
      "\n",
      " Directorio de c:\\Users\\lupam\\OneDrive\\Escritorio\\GitHub\\IntroPython\\Ejercicios de clases\n",
      "\n",
      "\n",
      " Directorio de c:\\Users\\lupam\\OneDrive\\Escritorio\\GitHub\\IntroPython\\Ejercicios de clases\n",
      "\n",
      "\n",
      " Directorio de c:\\Users\\lupam\\OneDrive\\Escritorio\\GitHub\\IntroPython\\Ejercicios de clases\\tmp\n",
      "\n",
      "02/02/2023  16:39    <DIR>          .\n",
      "02/02/2023  16:39    <DIR>          ..\n",
      "               0 archivos              0 bytes\n",
      "               2 dirs  185.342.504.960 bytes libres\n"
     ]
    },
    {
     "name": "stderr",
     "output_type": "stream",
     "text": [
      "No se encuentra el archivo\n"
     ]
    }
   ],
   "source": [
    "%pwd\n",
    "%ls #No da nada porque no tengo archivos\n",
    "%mkdir tmp\n",
    "%ls #Ahora dice que tengo un directorio llamado \"tmp\"\n",
    "%rmdir tmp"
   ]
  },
  {
   "cell_type": "code",
   "execution_count": 16,
   "metadata": {},
   "outputs": [
    {
     "name": "stdout",
     "output_type": "stream",
     "text": [
      " El volumen de la unidad C es Windows\n",
      " El n�mero de serie del volumen es: 586E-EA67\n",
      "\n",
      " Directorio de c:\\Users\\lupam\\OneDrive\\Escritorio\\GitHub\\IntroPython\\Ejercicios de clases\n",
      "\n",
      "\n",
      " Directorio de c:\\Users\\lupam\\OneDrive\\Escritorio\\GitHub\\IntroPython\\Ejercicios de clases\n",
      "\n",
      "\n",
      " Directorio de c:\\Users\\lupam\\OneDrive\\Escritorio\\GitHub\\IntroPython\\Ejercicios de clases\n",
      "\n",
      "\n",
      " Directorio de c:\\Users\\lupam\\OneDrive\\Escritorio\\GitHub\\IntroPython\\Ejercicios de clases\n",
      "\n",
      "\n",
      " Directorio de c:\\Users\\lupam\\OneDrive\\Escritorio\\GitHub\\IntroPython\\Ejercicios de clases\n",
      "\n",
      "\n",
      " Directorio de c:\\Users\\lupam\\OneDrive\\Escritorio\\GitHub\\IntroPython\\Ejercicios de clases\n",
      "\n",
      "\n",
      " Directorio de c:\\Users\\lupam\\OneDrive\\Escritorio\\GitHub\\IntroPython\\Ejercicios de clases\n",
      "\n",
      "\n",
      " Directorio de c:\\Users\\lupam\\OneDrive\\Escritorio\\GitHub\\IntroPython\\Ejercicios de clases\\tmp\n",
      "\n",
      "02/02/2023  16:39    <DIR>          .\n",
      "02/02/2023  16:39    <DIR>          ..\n",
      "               0 archivos              0 bytes\n",
      "               2 dirs  185.339.920.384 bytes libres\n"
     ]
    },
    {
     "name": "stderr",
     "output_type": "stream",
     "text": [
      "No se encuentra el archivo\n"
     ]
    }
   ],
   "source": []
  },
  {
   "cell_type": "code",
   "execution_count": 11,
   "metadata": {},
   "outputs": [
    {
     "data": {
      "text/plain": [
       "'c:\\\\Users\\\\lupam\\\\OneDrive\\\\Escritorio\\\\GitHub\\\\IntroPython\\\\Ejercicios de clases'"
      ]
     },
     "execution_count": 11,
     "metadata": {},
     "output_type": "execute_result"
    }
   ],
   "source": [
    "%pwd"
   ]
  },
  {
   "cell_type": "code",
   "execution_count": null,
   "metadata": {},
   "outputs": [],
   "source": []
  }
 ],
 "metadata": {
  "kernelspec": {
   "display_name": "IntroPython",
   "language": "python",
   "name": "python3"
  },
  "language_info": {
   "codemirror_mode": {
    "name": "ipython",
    "version": 3
   },
   "file_extension": ".py",
   "mimetype": "text/x-python",
   "name": "python",
   "nbconvert_exporter": "python",
   "pygments_lexer": "ipython3",
   "version": "3.10.9"
  },
  "orig_nbformat": 4,
  "vscode": {
   "interpreter": {
    "hash": "6b8ef78bc8fc504654170752d5658161177d5450671fa32490eb795dae9c9f83"
   }
  }
 },
 "nbformat": 4,
 "nbformat_minor": 2
}
