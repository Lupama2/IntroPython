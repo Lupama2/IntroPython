{
 "cells": [
  {
   "attachments": {},
   "cell_type": "markdown",
   "metadata": {},
   "source": [
    "## Simulación de medición y análisis de datos"
   ]
  },
  {
   "cell_type": "code",
   "execution_count": null,
   "metadata": {},
   "outputs": [],
   "source": [
    "#Importo librerías\n",
    "import numpy as np"
   ]
  },
  {
   "cell_type": "code",
   "execution_count": null,
   "metadata": {},
   "outputs": [],
   "source": [
    "def S(t, t0, sigma, w):\n",
    "    '''\n",
    "    Señal modelo producida por el detector a tiempo t con centro t0, ancho sigma y frecuenca omega\n",
    "\n",
    "    Paramaters\n",
    "    ----------\n",
    "    t (float): tiempo\n",
    "    t0 (float): centro\n",
    "    sigma (float): ancho\n",
    "    w(float): frecuencia de oscilación\n",
    "\n",
    "    Returns\n",
    "    -------\n",
    "    float: señal a tiempo t\n",
    "    \n",
    "    Nota:\n",
    "    (1) La amplitud A de la señal se considera unitaria\n",
    "    (2) El tiempo t puede ser un ndarray\n",
    "    '''\n",
    "\n",
    "    pass\n",
    "\n"
   ]
  },
  {
   "cell_type": "code",
   "execution_count": null,
   "metadata": {},
   "outputs": [],
   "source": [
    "#Defino tiempo inicial y tiempo final\n",
    "t_ini = 0\n",
    "t_fin = 8"
   ]
  },
  {
   "cell_type": "code",
   "execution_count": null,
   "metadata": {},
   "outputs": [],
   "source": [
    "#Grafico S para t0 = 0.5, sigma = 0.1 y w = 0.1 y comparo con el gráfico del enunciado\n"
   ]
  },
  {
   "cell_type": "code",
   "execution_count": null,
   "metadata": {},
   "outputs": [],
   "source": [
    "#Defino la posición de los picos y las probabilidades de ocurrencia respectivas\n",
    "t0_vec = np.array([1.8,2.8,5])\n",
    "P_vec = np.array([0.3,0.1,0.6])"
   ]
  },
  {
   "attachments": {},
   "cell_type": "markdown",
   "metadata": {},
   "source": [
    "**el ruido afecta al fondo??**"
   ]
  },
  {
   "cell_type": "code",
   "execution_count": null,
   "metadata": {},
   "outputs": [],
   "source": [
    "#Distribuciones\n",
    "def t0_dist(t0):\n",
    "    '''\n",
    "    Posición de cada pico determinada por la distribución Beta prime centrada en t0 con parámetros a = 4 y b = 2\n",
    "    \n",
    "    Parameters\n",
    "    ----------\n",
    "    t0 (float): centro de la distribución\n",
    "\n",
    "    Returns\n",
    "    -------\n",
    "    float: posición del pico\n",
    "    '''\n",
    "\n",
    "    pass\n",
    "\n",
    "def sigma_dist():\n",
    "    '''\n",
    "    Ancho sigma del pico central determinado por la distribución normal con valor medio sigma0 = 0.05 y desviación sigma_sigma = 0.005\n",
    "    \n",
    "    Parameters\n",
    "    ----------\n",
    "    None\n",
    "\n",
    "    Returns\n",
    "    -------\n",
    "    float: ancho sigma\n",
    "    '''\n",
    "\n",
    "\n",
    "    pass\n",
    "\n",
    "def w_dist():\n",
    "    '''\n",
    "    Frecuencia de oscilación w determinada por la distribución normal con valor medio w0 = 5 pi y desviación sigma_w = 0.05\n",
    "    \n",
    "    Parameters\n",
    "    ----------\n",
    "    None\n",
    "\n",
    "    Returns\n",
    "    -------\n",
    "    float: ancho sigma\n",
    "    '''\n",
    "    pass\n",
    "\n",
    "def ruido_dist(señal):\n",
    "    '''\n",
    "    Señal de ruido a tiempo t. Está conformada por 2 componentes\n",
    "    (1) Ruido relativo: dado por una distribución normal con valor medio 1 y ancho 0.1. Este se multiplica a la señal\n",
    "    (2) Ruido absoluto: dado por una distribución normal con valor medio nulo y ancho 0.2. Este se suma a la señal\n",
    "    \n",
    "    Parameters\n",
    "    ----------\n",
    "    señal (float): valor simulado de la señal sin ruido ni fondo lineal\n",
    "\n",
    "    Returns\n",
    "    -------\n",
    "    float: señal ruido\n",
    "\n",
    "    Nota: puede aceptar ndarray\n",
    "    '''\n",
    "    pass\n",
    "\n",
    "def fondo(t):\n",
    "    '''\n",
    "    Señal de fondo lineal sobre la que se monta todo el espectro.\n",
    "    \n",
    "    Parameters\n",
    "    ----------\n",
    "    t (float): tiempo\n",
    "\n",
    "    Returns\n",
    "    -------\n",
    "    float: valor del fondo a tiempo t\n",
    "    '''\n",
    "    \n",
    "    pass\n"
   ]
  },
  {
   "attachments": {},
   "cell_type": "markdown",
   "metadata": {},
   "source": [
    "### Ejercicio 1\n",
    "\n",
    "Una medición puede estar compuesta por cualquiera de las 3 señales, cada una con una probabilidad distinta. En cada medición, la señal i con centro en t0_i tengo que tirar un dado con probabilidad P_i. En caso positivo, tengo que producir una señal S(t,t0_dist(t0), sigma_dist, w_dist)_i. Luego, le sumo el ruido y el fondo."
   ]
  },
  {
   "cell_type": "code",
   "execution_count": null,
   "metadata": {},
   "outputs": [],
   "source": [
    "def genero_señal(T0, N):\n",
    "    '''\n",
    "    Produzco una señal (un pico) localizado en tiempo T0. No posee ruido ni fondo\n",
    "    \n",
    "    Parameters\n",
    "    ----------\n",
    "    T0 (float): tiempo en el que se localiza el pico\n",
    "    N (int): tamaño del ndarray señal\n",
    "\n",
    "\n",
    "    Returns\n",
    "    -------\n",
    "    señal (ndarray): array señal\n",
    "    '''\n",
    "    #Verifico que N sea entero TO-DO\n",
    "\n",
    "\n",
    "    #Defino los parámetros característicos de la señal\n",
    "    t0 = t0_dist(T0)\n",
    "    sigma = sigma_dist()\n",
    "    w = w_dist()\n",
    "\n",
    "    #Creo el vector de tiempos\n",
    "    t_array = np.linspace(t_ini, t_fin, N)\n",
    "\n",
    "    #Calculo la señal\n",
    "    señal = S(t_array, t0, sigma, w)\n",
    "\n",
    "    return señal\n",
    "\n",
    "\n",
    "def medicion(T0_array, P_array, N):\n",
    "    '''\n",
    "    Simulo una medición. Para esto es necesario producir 3 señales con centros dados por T0_array y probabilidades de ocurrencia P_array. Luego, es necesario sumar el ruido a la medición y el fondo.\n",
    "\n",
    "    Parameters\n",
    "    ----------\n",
    "    T0_array (ndarray): centros de las señales posibles\n",
    "    P_array (ndarray): probabilidad de ocurrencia de cada una de las señales posibles. El orden corresponde al dado en T0_array\n",
    "    N (int): tamaño del ndarray medicion\n",
    "\n",
    "    Returns\n",
    "    -------\n",
    "    medicion (ndarray): medicion simulada\n",
    "    \n",
    "    '''\n",
    "    #Creo el array de mediciones y de tiempos\n",
    "    mediciones = np.zeros(N)\n",
    "    t_array = np.linspace(t_ini, t_fin, N)\n",
    "\n",
    "    #Para cada señal posible\n",
    "    for i in range(len(T0_array)):\n",
    "        #Tiro un dado con probabilidad P para ver si se observa la señal\n",
    "        ocurrencia = #TO-DO\n",
    "        if ocurrencia == True: #ocurre\n",
    "            mediciones += genero_señal(T0_array[i], N)\n",
    "    \n",
    "    #Sumo ruido\n",
    "    mediciones += ruido_dist(mediciones)   \n",
    "\n",
    "    #Sumo fondo\n",
    "    mediciones += fondo(t_array)\n",
    "\n",
    "    return mediciones"
   ]
  },
  {
   "cell_type": "code",
   "execution_count": null,
   "metadata": {},
   "outputs": [],
   "source": []
  },
  {
   "attachments": {},
   "cell_type": "markdown",
   "metadata": {},
   "source": [
    "### Ejercicio 2"
   ]
  },
  {
   "cell_type": "code",
   "execution_count": null,
   "metadata": {},
   "outputs": [],
   "source": [
    "def mediciones(N):\n",
    "    #Genero N mediciones y devuelvo el resultado de cada una de ellas\n",
    "    pass\n",
    "\n",
    "def mediciones_mean(N):\n",
    "    #Genero N mediciones y devuelvo el promedio\n",
    "    \n",
    "    "
   ]
  },
  {
   "attachments": {},
   "cell_type": "markdown",
   "metadata": {},
   "source": [
    "### Ejercicio 3"
   ]
  },
  {
   "attachments": {},
   "cell_type": "markdown",
   "metadata": {},
   "source": [
    "### Ejercicio 4"
   ]
  }
 ],
 "metadata": {
  "kernelspec": {
   "display_name": "IntroPython",
   "language": "python",
   "name": "python3"
  },
  "language_info": {
   "codemirror_mode": {
    "name": "ipython",
    "version": 3
   },
   "file_extension": ".py",
   "mimetype": "text/x-python",
   "name": "python",
   "nbconvert_exporter": "python",
   "pygments_lexer": "ipython3",
   "version": "3.10.9"
  },
  "orig_nbformat": 4
 },
 "nbformat": 4,
 "nbformat_minor": 2
}
