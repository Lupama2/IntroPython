{
 "cells": [
  {
   "attachments": {},
   "cell_type": "markdown",
   "metadata": {},
   "source": [
    "## Simulación de medición y análisis de datos"
   ]
  },
  {
   "cell_type": "code",
   "execution_count": 56,
   "metadata": {},
   "outputs": [],
   "source": [
    "#Importo librerías\n",
    "import numpy as np\n",
    "import matplotlib.pyplot as plt\n",
    "import math\n",
    "\n",
    "#Defino ctes\n",
    "pi = math.pi"
   ]
  },
  {
   "cell_type": "code",
   "execution_count": 57,
   "metadata": {},
   "outputs": [],
   "source": [
    "def S(t, A, t0, sigma, w):\n",
    "    '''\n",
    "    Señal modelo producida por el detector a tiempo t con centro t0, ancho sigma y frecuenca omega\n",
    "\n",
    "    Paramaters\n",
    "    ----------\n",
    "    t (float): tiempo\n",
    "    t0 (float): centro\n",
    "    sigma (float): ancho\n",
    "    w(float): frecuencia de oscilación\n",
    "\n",
    "    Returns\n",
    "    -------\n",
    "    float: señal a tiempo t\n",
    "    \n",
    "    Nota:\n",
    "    (1) La amplitud A de la señal se considera unitaria\n",
    "    (2) El tiempo t puede ser un ndarray\n",
    "    '''\n",
    "    return A*np.exp( -(t-t0)**2/(2*sigma**2) )*np.cos(w*(t-t0+sigma))\n"
   ]
  },
  {
   "cell_type": "code",
   "execution_count": 58,
   "metadata": {},
   "outputs": [],
   "source": [
    "#Defino tiempo inicial y tiempo final\n",
    "t_ini = 0\n",
    "t_fin = 8"
   ]
  },
  {
   "cell_type": "code",
   "execution_count": 59,
   "metadata": {},
   "outputs": [
    {
     "data": {
      "text/plain": [
       "[<matplotlib.lines.Line2D at 0x202cd77c850>]"
      ]
     },
     "execution_count": 59,
     "metadata": {},
     "output_type": "execute_result"
    },
    {
     "data": {
      "image/png": "[encoded data removed]",
      "text/plain": [
       "<Figure size 640x480 with 1 Axes>"
      ]
     },
     "metadata": {},
     "output_type": "display_data"
    }
   ],
   "source": [
    "#Grafico S para t0 = 0.5, sigma = 0.1 y w = 0.1 y comparo con el gráfico del enunciado\n",
    "\n",
    "M = 1000 #nro de puntos\n",
    "t_array = np.linspace(t_ini,t_fin, M)\n",
    "S_array = np.zeros(M)\n",
    "for i in range(M):\n",
    "    S_array[i] = S(t_array[i],10,1.8,0.05,5*pi)\n",
    "plt.plot(t_array, S_array)\n",
    "# plt.ylim([0,1e5])\n"
   ]
  },
  {
   "attachments": {},
   "cell_type": "markdown",
   "metadata": {},
   "source": [
    "**el ruido afecta al fondo??**  \n",
    "**qué amplitud uso en S?**  \n",
    "**le falta un signo (-) en la exponencial de S?**  \n",
    "**es importante en betaprime que t esté en mu s??**"
   ]
  },
  {
   "cell_type": "code",
   "execution_count": 60,
   "metadata": {},
   "outputs": [],
   "source": [
    "from scipy.stats import betaprime, norm"
   ]
  },
  {
   "cell_type": "code",
   "execution_count": 61,
   "metadata": {},
   "outputs": [
    {
     "data": {
      "text/plain": [
       "array([ 3.13601452,  5.41904899,  7.56072299, 14.24451369,  6.48604742,\n",
       "        2.72205597,  2.94198395,  3.43324447,  3.32451743,  6.62047753])"
      ]
     },
     "execution_count": 61,
     "metadata": {},
     "output_type": "execute_result"
    }
   ],
   "source": [
    "betaprime.rvs(a = 4, b = 2, loc = 1.8, size = 10)"
   ]
  },
  {
   "cell_type": "code",
   "execution_count": 62,
   "metadata": {},
   "outputs": [],
   "source": [
    "#Distribuciones\n",
    "def A_dist():\n",
    "\n",
    "    A0 = 10\n",
    "    sigma_A = 1\n",
    "    return norm.rvs(loc = A0, scale = sigma_A)\n",
    "\n",
    "def t0_dist(t0):\n",
    "    '''\n",
    "    Posición de cada pico determinada por la distribución Beta prime centrada en t0 con parámetros a = 4 y b = 2\n",
    "    \n",
    "    Parameters\n",
    "    ----------\n",
    "    t0 (float): centro de la distribución\n",
    "\n",
    "    Returns\n",
    "    -------\n",
    "    float: posición del pico\n",
    "    '''\n",
    "    a = 4\n",
    "    b = 2\n",
    "    return betaprime.rvs(a = a, b = b, scale = t0)\n",
    "\n",
    "def sigma_dist():\n",
    "    '''\n",
    "    Ancho sigma del pico central determinado por la distribución normal con valor medio sigma0 = 0.05 y desviación sigma_sigma = 0.005\n",
    "    \n",
    "    Parameters\n",
    "    ----------\n",
    "    None\n",
    "\n",
    "    Returns\n",
    "    -------\n",
    "    float: ancho sigma\n",
    "    '''\n",
    "    sigma0 = 0.05\n",
    "    sigma_sigma = 0.005\n",
    "    return norm.rvs(loc = sigma0, scale = sigma_sigma)\n",
    "\n",
    "def w_dist():\n",
    "    '''\n",
    "    Frecuencia de oscilación w determinada por la distribución normal con valor medio w0 = 5 pi y desviación sigma_w = 0.05\n",
    "    \n",
    "    Parameters\n",
    "    ----------\n",
    "    None\n",
    "\n",
    "    Returns\n",
    "    -------\n",
    "    float: ancho sigma\n",
    "    '''\n",
    "    w0 = 5*pi\n",
    "    sigma_w = 0.05\n",
    "\n",
    "    return norm.rvs(loc = w0, scale = sigma_w)\n",
    "\n",
    "def ruido_dist(señal):\n",
    "    '''\n",
    "    Señal de ruido a tiempo t. Está conformada por 2 componentes\n",
    "    (1) Ruido relativo: dado por una distribución normal con valor medio 1 y ancho 0.1. Este se multiplica a la señal\n",
    "    (2) Ruido absoluto: dado por una distribución normal con valor medio nulo y ancho 0.2. Este se suma a la señal\n",
    "    \n",
    "    Parameters\n",
    "    ----------\n",
    "    señal (float): valor simulado de la señal sin ruido ni fondo lineal\n",
    "\n",
    "    Returns\n",
    "    -------\n",
    "    float: señal ruido\n",
    "\n",
    "    Nota: puede aceptar ndarray\n",
    "    '''\n",
    "    ruido_rel = norm.rvs(loc = 1, scale = 0.1, size = len(señal))*señal\n",
    "    ruido_abs = norm.rvs(loc = 0, scale = 0.2, size = len(señal))\n",
    "\n",
    "    return ruido_rel + ruido_abs\n",
    "\n",
    "def fondo(t):\n",
    "    '''\n",
    "    Señal de fondo lineal sobre la que se monta todo el espectro.\n",
    "    \n",
    "    Parameters\n",
    "    ----------\n",
    "    t (float): tiempo\n",
    "\n",
    "    Returns\n",
    "    -------\n",
    "    float: valor del fondo a tiempo t\n",
    "    '''\n",
    "    \n",
    "    return (-t+2)/100\n"
   ]
  },
  {
   "cell_type": "code",
   "execution_count": 70,
   "metadata": {},
   "outputs": [],
   "source": [
    "#Grafico betaprime\n",
    "T0 = 1.8\n",
    "rv = betaprime(a = 4, b = 2, scale = T0)\n",
    "# rv = norm(loc = 1, scale = 1)\n",
    "t_array = np.linspace(0,8,1000)\n",
    "beta = rv.pdf(t_array)"
   ]
  },
  {
   "cell_type": "code",
   "execution_count": 71,
   "metadata": {},
   "outputs": [
    {
     "data": {
      "text/plain": [
       "1.8018018018018018"
      ]
     },
     "execution_count": 71,
     "metadata": {},
     "output_type": "execute_result"
    },
    {
     "data": {
      "image/png": "[encoded data removed]",
      "text/plain": [
       "<Figure size 640x480 with 1 Axes>"
      ]
     },
     "metadata": {},
     "output_type": "display_data"
    }
   ],
   "source": [
    "plt.plot(t_array, beta)\n",
    "np.where(beta==np.max(beta))\n",
    "t_array[225]"
   ]
  },
  {
   "attachments": {},
   "cell_type": "markdown",
   "metadata": {},
   "source": [
    "### Ejercicio 1\n",
    "\n",
    "Una medición puede estar compuesta por cualquiera de las 3 señales, cada una con una probabilidad distinta. En cada medición, la señal i con centro en t0_i tengo que tirar un dado con probabilidad P_i. En caso positivo, tengo que producir una señal S(t,t0_dist(t0), sigma_dist, w_dist)_i. Luego, le sumo el ruido y el fondo."
   ]
  },
  {
   "cell_type": "code",
   "execution_count": 65,
   "metadata": {},
   "outputs": [],
   "source": [
    "from scipy.stats import bernoulli"
   ]
  },
  {
   "cell_type": "code",
   "execution_count": 88,
   "metadata": {},
   "outputs": [],
   "source": [
    "def genero_señal(T0, M):\n",
    "    '''\n",
    "    Produzco una señal (un pico) localizado en tiempo T0. No posee ruido ni fondo\n",
    "    \n",
    "    Parameters\n",
    "    ----------\n",
    "    T0 (float): tiempo en el que se localiza el pico\n",
    "    N (int): tamaño del ndarray señal\n",
    "\n",
    "\n",
    "    Returns\n",
    "    -------\n",
    "    señal (ndarray): array señal\n",
    "    '''\n",
    "    #Verifico que N sea entero TO-DO\n",
    "\n",
    "\n",
    "    #Defino los parámetros característicos de la señal\n",
    "    A = A_dist()\n",
    "    t0 = t0_dist(T0)\n",
    "    sigma = sigma_dist()\n",
    "    w = w_dist()\n",
    "    print(A, t0, sigma, w)\n",
    "\n",
    "    #Creo el vector de tiempos\n",
    "    t_array = np.linspace(t_ini, t_fin, M)\n",
    "\n",
    "    #Calculo la señal\n",
    "    señal = S(t_array, A, t0, sigma, w)\n",
    "\n",
    "    return t_array, señal\n",
    "\n",
    "\n",
    "def medicion(T0_array, P_array, M):\n",
    "    '''\n",
    "    Simulo una medición. Para esto es necesario producir 3 señales con centros dados por T0_array y probabilidades de ocurrencia P_array. Luego, es necesario sumar el ruido a la medición y el fondo.\n",
    "\n",
    "    Parameters\n",
    "    ----------\n",
    "    T0_array (ndarray): centros de las señales posibles\n",
    "    P_array (ndarray): probabilidad de ocurrencia de cada una de las señales posibles. El orden corresponde al dado en T0_array\n",
    "    M (int): tamaño del ndarray medicion\n",
    "\n",
    "    Returns\n",
    "    -------\n",
    "    medicion (ndarray): medicion simulada\n",
    "    \n",
    "    '''\n",
    "    #Creo el array de mediciones y de tiempos\n",
    "    medicion = np.zeros(M)\n",
    "    t_array = np.linspace(t_ini, t_fin, M)\n",
    "\n",
    "    #Para cada señal posible\n",
    "    for i in range(len(T0_array)):\n",
    "        #Tiro un dado con probabilidad P para ver si se observa la señal\n",
    "        ocurrencia = bernoulli.rvs(P_array[i])\n",
    "        print(ocurrencia)\n",
    "        if ocurrencia == True: #ocurre\n",
    "            t_array, señal = genero_señal(T0_array[i], M)\n",
    "            medicion += señal\n",
    "    \n",
    "    #Sumo ruido\n",
    "    medicion += ruido_dist(medicion)   \n",
    "\n",
    "    #Sumo fondo\n",
    "    medicion += fondo(t_array)\n",
    "\n",
    "    return t_array, medicion"
   ]
  },
  {
   "cell_type": "code",
   "execution_count": 89,
   "metadata": {},
   "outputs": [
    {
     "name": "stdout",
     "output_type": "stream",
     "text": [
      "9.301430416160937 3.0538651230336153 0.05053973457022762 15.782156766037742\n"
     ]
    },
    {
     "data": {
      "text/plain": [
       "[<matplotlib.lines.Line2D at 0x202cfc9c820>]"
      ]
     },
     "execution_count": 89,
     "metadata": {},
     "output_type": "execute_result"
    },
    {
     "data": {
      "image/png": "[encoded data removed]",
      "text/plain": [
       "<Figure size 640x480 with 1 Axes>"
      ]
     },
     "metadata": {},
     "output_type": "display_data"
    }
   ],
   "source": [
    "#Grafico una señal\n",
    "T0 = 1.8\n",
    "M = 1000\n",
    "t_array, señal = genero_señal(T0, M)\n",
    "plt.plot(t_array, señal)\n"
   ]
  },
  {
   "cell_type": "code",
   "execution_count": 102,
   "metadata": {},
   "outputs": [
    {
     "name": "stdout",
     "output_type": "stream",
     "text": [
      "1\n",
      "9.297065361731129 4.031795604670257 0.056307754302397636 15.77557232705821\n",
      "0\n",
      "1\n",
      "11.494124732788087 5.709653837937348 0.06268891827881333 15.741476752438912\n"
     ]
    },
    {
     "data": {
      "text/plain": [
       "Text(0.5, 0, '$tiempo \\\\, (\\\\mu s)$')"
      ]
     },
     "execution_count": 102,
     "metadata": {},
     "output_type": "execute_result"
    },
    {
     "data": {
      "image/png": "[encoded data removed]",
      "text/plain": [
       "<Figure size 640x480 with 1 Axes>"
      ]
     },
     "metadata": {},
     "output_type": "display_data"
    }
   ],
   "source": [
    "#Grafico una medición\n",
    "T0_array = np.array([1.8,2.8,5])\n",
    "P_array = np.array([0.3,0.1,0.6])\n",
    "t_array, medicion_array = medicion(T0_array, P_array, M)\n",
    "plt.plot(t_array, medicion_array)\n",
    "plt.ylim([-5,20])\n",
    "plt.ylabel(\"Tensión (mV)\")\n",
    "plt.xlabel(\"$tiempo \\, (\\mu s)$\")"
   ]
  },
  {
   "attachments": {},
   "cell_type": "markdown",
   "metadata": {},
   "source": [
    "### Ejercicio 2"
   ]
  },
  {
   "cell_type": "code",
   "execution_count": 69,
   "metadata": {},
   "outputs": [
    {
     "ename": "SyntaxError",
     "evalue": "incomplete input (3806987410.py, line 17)",
     "output_type": "error",
     "traceback": [
      "\u001b[1;36m  Cell \u001b[1;32mIn[69], line 17\u001b[1;36m\u001b[0m\n\u001b[1;33m    \u001b[0m\n\u001b[1;37m    ^\u001b[0m\n\u001b[1;31mSyntaxError\u001b[0m\u001b[1;31m:\u001b[0m incomplete input\n"
     ]
    }
   ],
   "source": [
    "def mediciones(N):\n",
    "    '''\n",
    "    Resultado de N mediciones. Calculo N mediciones con centros de las señales y probabilidades de ocurrencia determinados.\n",
    "\n",
    "    Parameters\n",
    "    ----------\n",
    "    N (int): nro de mediciones simuladas\n",
    "    \n",
    "    '''\n",
    "    \n",
    "\n",
    "    pass\n",
    "\n",
    "def mediciones_mean(N):\n",
    "    #Genero N mediciones y devuelvo el promedio\n",
    "    \n",
    "    "
   ]
  },
  {
   "attachments": {},
   "cell_type": "markdown",
   "metadata": {},
   "source": [
    "### Ejercicio 3"
   ]
  },
  {
   "attachments": {},
   "cell_type": "markdown",
   "metadata": {},
   "source": [
    "### Ejercicio 4"
   ]
  }
 ],
 "metadata": {
  "kernelspec": {
   "display_name": "IntroPython",
   "language": "python",
   "name": "python3"
  },
  "language_info": {
   "codemirror_mode": {
    "name": "ipython",
    "version": 3
   },
   "file_extension": ".py",
   "mimetype": "text/x-python",
   "name": "python",
   "nbconvert_exporter": "python",
   "pygments_lexer": "ipython3",
   "version": "3.10.9"
  },
  "orig_nbformat": 4
 },
 "nbformat": 4,
 "nbformat_minor": 2
}
