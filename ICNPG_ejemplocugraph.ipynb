{
  "metadata": {
    "language_info": {
      "codemirror_mode": {
        "name": "ipython",
        "version": 3
      },
      "file_extension": ".py",
      "mimetype": "text/x-python",
      "name": "python",
      "nbconvert_exporter": "python",
      "pygments_lexer": "ipython3",
      "version": "3.8.10"
    },
    "orig_nbformat": 2,
    "kernelspec": {
      "name": "python3810jvsc74a57bd013cb15aaa981783518bc7a3f89e8c4e75d54ba449c74556e9bd2de1eb9c59b4b",
      "display_name": "Python 3.8.10 64-bit ('rapids-0.19': conda)"
    },
    "colab": {
      "provenance": [],
      "gpuType": "T4",
      "include_colab_link": true
    },
    "accelerator": "GPU",
    "gpuClass": "standard"
  },
  "nbformat": 4,
  "nbformat_minor": 0,
  "cells": [
    {
      "cell_type": "markdown",
      "metadata": {
        "id": "view-in-github",
        "colab_type": "text"
      },
      "source": [
        "<a href=\"https://colab.research.google.com/github/Lupama2/IntroPython/blob/main/ICNPG_ejemplocugraph.ipynb\" target=\"_parent\"><img src=\"https://colab.research.google.com/assets/colab-badge.svg\" alt=\"Open In Colab\"/></a>"
      ]
    },
    {
      "cell_type": "code",
      "source": [
        "!nvidia-smi"
      ],
      "metadata": {
        "colab": {
          "base_uri": "https://localhost:8080/"
        },
        "id": "8guRAkwWjG-k",
        "outputId": "accd39ea-63ea-4ac3-f837-d439fb0eb644"
      },
      "execution_count": null,
      "outputs": [
        {
          "output_type": "stream",
          "name": "stdout",
          "text": [
            "Tue May 16 20:03:32 2023       \n",
            "+-----------------------------------------------------------------------------+\n",
            "| NVIDIA-SMI 525.85.12    Driver Version: 525.85.12    CUDA Version: 12.0     |\n",
            "|-------------------------------+----------------------+----------------------+\n",
            "| GPU  Name        Persistence-M| Bus-Id        Disp.A | Volatile Uncorr. ECC |\n",
            "| Fan  Temp  Perf  Pwr:Usage/Cap|         Memory-Usage | GPU-Util  Compute M. |\n",
            "|                               |                      |               MIG M. |\n",
            "|===============================+======================+======================|\n",
            "|   0  Tesla T4            Off  | 00000000:00:04.0 Off |                    0 |\n",
            "| N/A   40C    P8     9W /  70W |      0MiB / 15360MiB |      0%      Default |\n",
            "|                               |                      |                  N/A |\n",
            "+-------------------------------+----------------------+----------------------+\n",
            "                                                                               \n",
            "+-----------------------------------------------------------------------------+\n",
            "| Processes:                                                                  |\n",
            "|  GPU   GI   CI        PID   Type   Process name                  GPU Memory |\n",
            "|        ID   ID                                                   Usage      |\n",
            "|=============================================================================|\n",
            "|  No running processes found                                                 |\n",
            "+-----------------------------------------------------------------------------+\n"
          ]
        }
      ]
    },
    {
      "cell_type": "code",
      "metadata": {
        "id": "B0C8IV5TQnjN",
        "colab": {
          "base_uri": "https://localhost:8080/"
        },
        "outputId": "e695a726-d4e2-4e13-bad4-78a924ba5712"
      },
      "source": [
        "#@title Instalación de RapidsAI\n",
        "# This get the RAPIDS-Colab install files and test check your GPU.  Run this and the next cell only.\n",
        "# Please read the output of this cell.  If your Colab Instance is not RAPIDS compatible, it will warn you and give you remediation steps.\n",
        "!git clone https://github.com/rapidsai/rapidsai-csp-utils.git\n",
        "!python rapidsai-csp-utils/colab/pip-install.py\n"
      ],
      "execution_count": null,
      "outputs": [
        {
          "output_type": "stream",
          "name": "stdout",
          "text": [
            "Cloning into 'rapidsai-csp-utils'...\n",
            "remote: Enumerating objects: 390, done.\u001b[K\n",
            "remote: Counting objects: 100% (121/121), done.\u001b[K\n",
            "remote: Compressing objects: 100% (70/70), done.\u001b[K\n",
            "remote: Total 390 (delta 89), reused 51 (delta 51), pack-reused 269\u001b[K\n",
            "Receiving objects: 100% (390/390), 107.11 KiB | 17.85 MiB/s, done.\n",
            "Resolving deltas: 100% (191/191), done.\n",
            "Looking in indexes: https://pypi.org/simple, https://us-python.pkg.dev/colab-wheels/public/simple/\n",
            "Collecting pynvml\n",
            "  Downloading pynvml-11.5.0-py3-none-any.whl (53 kB)\n",
            "     ━━━━━━━━━━━━━━━━━━━━━━━━━━━━━━━━━━━━━━━━ 53.1/53.1 kB 6.4 MB/s eta 0:00:00\n",
            "Installing collected packages: pynvml\n",
            "Successfully installed pynvml-11.5.0\n",
            "***********************************************************************\n",
            "Woo! Your instance has the right kind of GPU, a Tesla T4!\n",
            "We will now install RAPIDS cuDF, cuML, and cuGraph via pip! \n",
            "Please stand by, should be quick...\n",
            "***********************************************************************\n",
            "\n",
            "Looking in indexes: https://pypi.org/simple, https://us-python.pkg.dev/colab-wheels/public/simple/, https://pypi.nvidia.com\n",
            "Collecting cudf-cu11\n",
            "  Downloading https://pypi.nvidia.com/cudf-cu11/cudf_cu11-23.4.1-cp310-cp310-manylinux_2_17_x86_64.manylinux2014_x86_64.whl (496.6 MB)\n",
            "     ━━━━━━━━━━━━━━━━━━━━━━━━━━━━━━━━━━━━━━━ 496.6/496.6 MB 3.3 MB/s eta 0:00:00\n",
            "Collecting cuml-cu11\n",
            "  Downloading https://pypi.nvidia.com/cuml-cu11/cuml_cu11-23.4.1-cp310-cp310-manylinux_2_17_x86_64.manylinux2014_x86_64.whl (1110.9 MB)\n",
            "     ━━━━━━━━━━━━━━━━━━━━━━━━━━━━━━━━━━━━━━━━ 1.1/1.1 GB 1.5 MB/s eta 0:00:00\n",
            "Collecting cugraph-cu11\n",
            "  Downloading https://pypi.nvidia.com/cugraph-cu11/cugraph_cu11-23.4.1-cp310-cp310-manylinux_2_17_x86_64.manylinux2014_x86_64.whl (1142.4 MB)\n",
            "     ━━━━━━━━━━━━━━━━━━━━━━━━━━━━━━━━━━━━━━━━ 1.1/1.1 GB 1.5 MB/s eta 0:00:00\n",
            "Collecting aiohttp\n",
            "  Downloading aiohttp-3.8.4-cp310-cp310-manylinux_2_17_x86_64.manylinux2014_x86_64.whl (1.0 MB)\n",
            "     ━━━━━━━━━━━━━━━━━━━━━━━━━━━━━━━━━━━━━━━━ 1.0/1.0 MB 36.3 MB/s eta 0:00:00\n",
            "Requirement already satisfied: cachetools in /usr/local/lib/python3.10/dist-packages (from cudf-cu11) (5.3.0)\n",
            "Collecting cubinlinker-cu11 (from cudf-cu11)\n",
            "  Downloading https://pypi.nvidia.com/cubinlinker-cu11/cubinlinker_cu11-0.3.0.post1-cp310-cp310-manylinux_2_17_x86_64.manylinux2014_x86_64.whl (8.8 MB)\n",
            "     ━━━━━━━━━━━━━━━━━━━━━━━━━━━━━━━━━━━━━━━━ 8.8/8.8 MB 113.3 MB/s eta 0:00:00\n",
            "Collecting cuda-python<12.0,>=11.7.1 (from cudf-cu11)\n",
            "  Downloading cuda_python-11.8.1-cp310-cp310-manylinux_2_17_x86_64.manylinux2014_x86_64.whl (16.5 MB)\n",
            "     ━━━━━━━━━━━━━━━━━━━━━━━━━━━━━━━━━━━━━━━━ 16.5/16.5 MB 88.1 MB/s eta 0:00:00\n",
            "Requirement already satisfied: cupy-cuda11x<12.0.0a0,>=9.5.0 in /usr/local/lib/python3.10/dist-packages (from cudf-cu11) (11.0.0)\n",
            "Requirement already satisfied: fsspec>=0.6.0 in /usr/local/lib/python3.10/dist-packages (from cudf-cu11) (2023.4.0)\n",
            "Requirement already satisfied: numba<0.57,>=0.56.4 in /usr/local/lib/python3.10/dist-packages (from cudf-cu11) (0.56.4)\n",
            "Requirement already satisfied: numpy>=1.21 in /usr/local/lib/python3.10/dist-packages (from cudf-cu11) (1.22.4)\n",
            "Collecting nvtx>=0.2.1 (from cudf-cu11)\n",
            "  Downloading nvtx-0.2.5-cp310-cp310-manylinux_2_17_x86_64.manylinux2014_x86_64.whl (428 kB)\n",
            "     ━━━━━━━━━━━━━━━━━━━━━━━━━━━━━━━━━━━━━━ 428.4/428.4 kB 47.4 MB/s eta 0:00:00\n",
            "Requirement already satisfied: packaging in /usr/local/lib/python3.10/dist-packages (from cudf-cu11) (23.1)\n",
            "Requirement already satisfied: pandas<1.6.0dev0,>=1.3 in /usr/local/lib/python3.10/dist-packages (from cudf-cu11) (1.5.3)\n",
            "Collecting protobuf<4.22,>=4.21.6 (from cudf-cu11)\n",
            "  Downloading protobuf-4.21.12-cp37-abi3-manylinux2014_x86_64.whl (409 kB)\n",
            "     ━━━━━━━━━━━━━━━━━━━━━━━━━━━━━━━━━━━━━━ 409.8/409.8 kB 44.4 MB/s eta 0:00:00\n",
            "Collecting ptxcompiler-cu11 (from cudf-cu11)\n",
            "  Downloading https://pypi.nvidia.com/ptxcompiler-cu11/ptxcompiler_cu11-0.7.0.post1-cp310-cp310-manylinux_2_17_x86_64.manylinux2014_x86_64.whl (8.8 MB)\n",
            "     ━━━━━━━━━━━━━━━━━━━━━━━━━━━━━━━━━━━━━━━━ 8.8/8.8 MB 110.1 MB/s eta 0:00:00\n",
            "Collecting pyarrow==10.* (from cudf-cu11)\n",
            "  Downloading pyarrow-10.0.1-cp310-cp310-manylinux_2_17_x86_64.manylinux2014_x86_64.whl (35.9 MB)\n",
            "     ━━━━━━━━━━━━━━━━━━━━━━━━━━━━━━━━━━━━━━━━ 35.9/35.9 MB 13.8 MB/s eta 0:00:00\n",
            "Collecting rmm-cu11==23.4.* (from cudf-cu11)\n",
            "  Downloading https://pypi.nvidia.com/rmm-cu11/rmm_cu11-23.4.1-cp310-cp310-manylinux_2_17_x86_64.manylinux2014_x86_64.whl (2.3 MB)\n",
            "     ━━━━━━━━━━━━━━━━━━━━━━━━━━━━━━━━━━━━━━━━ 2.3/2.3 MB 98.4 MB/s eta 0:00:00\n",
            "Requirement already satisfied: typing-extensions in /usr/local/lib/python3.10/dist-packages (from cudf-cu11) (4.5.0)\n",
            "Collecting dask-cuda==23.4.* (from cuml-cu11)\n",
            "  Downloading dask_cuda-23.4.0-py3-none-any.whl (125 kB)\n",
            "     ━━━━━━━━━━━━━━━━━━━━━━━━━━━━━━━━━━━━━━ 125.3/125.3 kB 16.5 MB/s eta 0:00:00\n",
            "Collecting dask-cudf-cu11==23.4.* (from cuml-cu11)\n",
            "  Downloading https://pypi.nvidia.com/dask-cudf-cu11/dask_cudf_cu11-23.4.1-py3-none-any.whl (79 kB)\n",
            "     ━━━━━━━━━━━━━━━━━━━━━━━━━━━━━━━━━━━━━━━━ 79.4/79.4 kB 11.2 MB/s eta 0:00:00\n",
            "Collecting dask==2023.3.2 (from cuml-cu11)\n",
            "  Downloading dask-2023.3.2-py3-none-any.whl (1.2 MB)\n",
            "     ━━━━━━━━━━━━━━━━━━━━━━━━━━━━━━━━━━━━━━━━ 1.2/1.2 MB 81.5 MB/s eta 0:00:00\n",
            "Collecting distributed==2023.3.2.1 (from cuml-cu11)\n",
            "  Downloading distributed-2023.3.2.1-py3-none-any.whl (957 kB)\n",
            "     ━━━━━━━━━━━━━━━━━━━━━━━━━━━━━━━━━━━━━━ 957.1/957.1 kB 79.1 MB/s eta 0:00:00\n",
            "Requirement already satisfied: joblib>=0.11 in /usr/local/lib/python3.10/dist-packages (from cuml-cu11) (1.2.0)\n",
            "Collecting raft-dask-cu11==23.4.* (from cuml-cu11)\n",
            "  Downloading https://pypi.nvidia.com/raft-dask-cu11/raft_dask_cu11-23.4.1-cp310-cp310-manylinux_2_17_x86_64.manylinux2014_x86_64.whl (215.1 MB)\n",
            "     ━━━━━━━━━━━━━━━━━━━━━━━━━━━━━━━━━━━━━━━ 215.1/215.1 MB 5.8 MB/s eta 0:00:00\n",
            "Requirement already satisfied: scipy in /usr/local/lib/python3.10/dist-packages (from cuml-cu11) (1.10.1)\n",
            "Requirement already satisfied: seaborn in /usr/local/lib/python3.10/dist-packages (from cuml-cu11) (0.12.2)\n",
            "Collecting treelite==3.2.0 (from cuml-cu11)\n",
            "  Downloading treelite-3.2.0-py3-none-manylinux2014_x86_64.whl (1.0 MB)\n",
            "     ━━━━━━━━━━━━━━━━━━━━━━━━━━━━━━━━━━━━━━━━ 1.0/1.0 MB 75.0 MB/s eta 0:00:00\n",
            "Collecting treelite-runtime==3.2.0 (from cuml-cu11)\n",
            "  Downloading treelite_runtime-3.2.0-py3-none-manylinux2014_x86_64.whl (198 kB)\n",
            "     ━━━━━━━━━━━━━━━━━━━━━━━━━━━━━━━━━━━━━━ 198.2/198.2 kB 25.8 MB/s eta 0:00:00\n",
            "Requirement already satisfied: click>=7.0 in /usr/local/lib/python3.10/dist-packages (from dask==2023.3.2->cuml-cu11) (8.1.3)\n",
            "Requirement already satisfied: cloudpickle>=1.1.1 in /usr/local/lib/python3.10/dist-packages (from dask==2023.3.2->cuml-cu11) (2.2.1)\n",
            "Requirement already satisfied: partd>=1.2.0 in /usr/local/lib/python3.10/dist-packages (from dask==2023.3.2->cuml-cu11) (1.4.0)\n",
            "Requirement already satisfied: pyyaml>=5.3.1 in /usr/local/lib/python3.10/dist-packages (from dask==2023.3.2->cuml-cu11) (6.0)\n",
            "Requirement already satisfied: toolz>=0.8.2 in /usr/local/lib/python3.10/dist-packages (from dask==2023.3.2->cuml-cu11) (0.12.0)\n",
            "Collecting importlib-metadata>=4.13.0 (from dask==2023.3.2->cuml-cu11)\n",
            "  Downloading importlib_metadata-6.6.0-py3-none-any.whl (22 kB)\n",
            "Collecting pynvml<11.5,>=11.0.0 (from dask-cuda==23.4.*->cuml-cu11)\n",
            "  Downloading pynvml-11.4.1-py3-none-any.whl (46 kB)\n",
            "     ━━━━━━━━━━━━━━━━━━━━━━━━━━━━━━━━━━━━━━━━ 47.0/47.0 kB 6.7 MB/s eta 0:00:00\n",
            "Requirement already satisfied: zict>=0.1.3 in /usr/local/lib/python3.10/dist-packages (from dask-cuda==23.4.*->cuml-cu11) (3.0.0)\n",
            "Requirement already satisfied: jinja2>=2.10.3 in /usr/local/lib/python3.10/dist-packages (from distributed==2023.3.2.1->cuml-cu11) (3.1.2)\n",
            "Requirement already satisfied: locket>=1.0.0 in /usr/local/lib/python3.10/dist-packages (from distributed==2023.3.2.1->cuml-cu11) (1.0.0)\n",
            "Requirement already satisfied: msgpack>=1.0.0 in /usr/local/lib/python3.10/dist-packages (from distributed==2023.3.2.1->cuml-cu11) (1.0.5)\n",
            "Requirement already satisfied: psutil>=5.7.0 in /usr/local/lib/python3.10/dist-packages (from distributed==2023.3.2.1->cuml-cu11) (5.9.5)\n",
            "Requirement already satisfied: sortedcontainers>=2.0.5 in /usr/local/lib/python3.10/dist-packages (from distributed==2023.3.2.1->cuml-cu11) (2.4.0)\n",
            "Requirement already satisfied: tblib>=1.6.0 in /usr/local/lib/python3.10/dist-packages (from distributed==2023.3.2.1->cuml-cu11) (1.7.0)\n",
            "Requirement already satisfied: tornado>=6.0.3 in /usr/local/lib/python3.10/dist-packages (from distributed==2023.3.2.1->cuml-cu11) (6.3.1)\n",
            "Requirement already satisfied: urllib3>=1.24.3 in /usr/local/lib/python3.10/dist-packages (from distributed==2023.3.2.1->cuml-cu11) (1.26.15)\n",
            "Collecting pylibraft-cu11==23.4.* (from raft-dask-cu11==23.4.*->cuml-cu11)\n",
            "  Downloading https://pypi.nvidia.com/pylibraft-cu11/pylibraft_cu11-23.4.1-cp310-cp310-manylinux_2_17_x86_64.manylinux2014_x86_64.whl (618.0 MB)\n",
            "     ━━━━━━━━━━━━━━━━━━━━━━━━━━━━━━━━━━━━━━━ 618.0/618.0 MB 2.7 MB/s eta 0:00:00\n",
            "Collecting ucx-py-cu11==0.31.* (from raft-dask-cu11==23.4.*->cuml-cu11)\n",
            "  Downloading https://pypi.nvidia.com/ucx-py-cu11/ucx_py_cu11-0.31.1-cp310-cp310-manylinux_2_17_x86_64.manylinux2014_x86_64.whl (8.3 MB)\n",
            "     ━━━━━━━━━━━━━━━━━━━━━━━━━━━━━━━━━━━━━━━━ 8.3/8.3 MB 122.4 MB/s eta 0:00:00\n",
            "Collecting pylibcugraph-cu11==23.4.* (from cugraph-cu11)\n",
            "  Downloading https://pypi.nvidia.com/pylibcugraph-cu11/pylibcugraph_cu11-23.4.1-cp310-cp310-manylinux_2_17_x86_64.manylinux2014_x86_64.whl (1141.1 MB)\n",
            "     ━━━━━━━━━━━━━━━━━━━━━━━━━━━━━━━━━━━━━━━━ 1.1/1.1 GB 1.5 MB/s eta 0:00:00\n",
            "Requirement already satisfied: attrs>=17.3.0 in /usr/local/lib/python3.10/dist-packages (from aiohttp) (23.1.0)\n",
            "Requirement already satisfied: charset-normalizer<4.0,>=2.0 in /usr/local/lib/python3.10/dist-packages (from aiohttp) (2.0.12)\n",
            "Collecting multidict<7.0,>=4.5 (from aiohttp)\n",
            "  Downloading multidict-6.0.4-cp310-cp310-manylinux_2_17_x86_64.manylinux2014_x86_64.whl (114 kB)\n",
            "     ━━━━━━━━━━━━━━━━━━━━━━━━━━━━━━━━━━━━━━ 114.5/114.5 kB 15.9 MB/s eta 0:00:00\n",
            "Collecting async-timeout<5.0,>=4.0.0a3 (from aiohttp)\n",
            "  Downloading async_timeout-4.0.2-py3-none-any.whl (5.8 kB)\n",
            "Collecting yarl<2.0,>=1.0 (from aiohttp)\n",
            "  Downloading yarl-1.9.2-cp310-cp310-manylinux_2_17_x86_64.manylinux2014_x86_64.whl (268 kB)\n",
            "     ━━━━━━━━━━━━━━━━━━━━━━━━━━━━━━━━━━━━━━ 268.8/268.8 kB 36.5 MB/s eta 0:00:00\n",
            "Collecting frozenlist>=1.1.1 (from aiohttp)\n",
            "  Downloading frozenlist-1.3.3-cp310-cp310-manylinux_2_5_x86_64.manylinux1_x86_64.manylinux_2_17_x86_64.manylinux2014_x86_64.whl (149 kB)\n",
            "     ━━━━━━━━━━━━━━━━━━━━━━━━━━━━━━━━━━━━━━ 149.6/149.6 kB 21.0 MB/s eta 0:00:00\n",
            "Collecting aiosignal>=1.1.2 (from aiohttp)\n",
            "  Downloading aiosignal-1.3.1-py3-none-any.whl (7.6 kB)\n",
            "Requirement already satisfied: cython in /usr/local/lib/python3.10/dist-packages (from cuda-python<12.0,>=11.7.1->cudf-cu11) (0.29.34)\n",
            "Requirement already satisfied: fastrlock>=0.5 in /usr/local/lib/python3.10/dist-packages (from cupy-cuda11x<12.0.0a0,>=9.5.0->cudf-cu11) (0.8.1)\n",
            "Requirement already satisfied: llvmlite<0.40,>=0.39.0dev0 in /usr/local/lib/python3.10/dist-packages (from numba<0.57,>=0.56.4->cudf-cu11) (0.39.1)\n",
            "Requirement already satisfied: setuptools in /usr/local/lib/python3.10/dist-packages (from numba<0.57,>=0.56.4->cudf-cu11) (67.7.2)\n",
            "Requirement already satisfied: python-dateutil>=2.8.1 in /usr/local/lib/python3.10/dist-packages (from pandas<1.6.0dev0,>=1.3->cudf-cu11) (2.8.2)\n",
            "Requirement already satisfied: pytz>=2020.1 in /usr/local/lib/python3.10/dist-packages (from pandas<1.6.0dev0,>=1.3->cudf-cu11) (2022.7.1)\n",
            "Requirement already satisfied: idna>=2.0 in /usr/local/lib/python3.10/dist-packages (from yarl<2.0,>=1.0->aiohttp) (3.4)\n",
            "Requirement already satisfied: matplotlib!=3.6.1,>=3.1 in /usr/local/lib/python3.10/dist-packages (from seaborn->cuml-cu11) (3.7.1)\n",
            "Requirement already satisfied: zipp>=0.5 in /usr/local/lib/python3.10/dist-packages (from importlib-metadata>=4.13.0->dask==2023.3.2->cuml-cu11) (3.15.0)\n",
            "Requirement already satisfied: MarkupSafe>=2.0 in /usr/local/lib/python3.10/dist-packages (from jinja2>=2.10.3->distributed==2023.3.2.1->cuml-cu11) (2.1.2)\n",
            "Requirement already satisfied: contourpy>=1.0.1 in /usr/local/lib/python3.10/dist-packages (from matplotlib!=3.6.1,>=3.1->seaborn->cuml-cu11) (1.0.7)\n",
            "Requirement already satisfied: cycler>=0.10 in /usr/local/lib/python3.10/dist-packages (from matplotlib!=3.6.1,>=3.1->seaborn->cuml-cu11) (0.11.0)\n",
            "Requirement already satisfied: fonttools>=4.22.0 in /usr/local/lib/python3.10/dist-packages (from matplotlib!=3.6.1,>=3.1->seaborn->cuml-cu11) (4.39.3)\n",
            "Requirement already satisfied: kiwisolver>=1.0.1 in /usr/local/lib/python3.10/dist-packages (from matplotlib!=3.6.1,>=3.1->seaborn->cuml-cu11) (1.4.4)\n",
            "Requirement already satisfied: pillow>=6.2.0 in /usr/local/lib/python3.10/dist-packages (from matplotlib!=3.6.1,>=3.1->seaborn->cuml-cu11) (8.4.0)\n",
            "Requirement already satisfied: pyparsing>=2.3.1 in /usr/local/lib/python3.10/dist-packages (from matplotlib!=3.6.1,>=3.1->seaborn->cuml-cu11) (3.0.9)\n",
            "Requirement already satisfied: six>=1.5 in /usr/local/lib/python3.10/dist-packages (from python-dateutil>=2.8.1->pandas<1.6.0dev0,>=1.3->cudf-cu11) (1.16.0)\n",
            "Installing collected packages: ptxcompiler-cu11, nvtx, cubinlinker-cu11, pynvml, pyarrow, protobuf, multidict, importlib-metadata, frozenlist, cuda-python, async-timeout, yarl, ucx-py-cu11, treelite-runtime, treelite, rmm-cu11, dask, aiosignal, pylibraft-cu11, distributed, cudf-cu11, aiohttp, pylibcugraph-cu11, dask-cudf-cu11, dask-cuda, raft-dask-cu11, cuml-cu11, cugraph-cu11\n",
            "  Attempting uninstall: pynvml\n",
            "    Found existing installation: pynvml 11.5.0\n",
            "    Uninstalling pynvml-11.5.0:\n",
            "      Successfully uninstalled pynvml-11.5.0\n",
            "  Attempting uninstall: pyarrow\n",
            "    Found existing installation: pyarrow 9.0.0\n",
            "    Uninstalling pyarrow-9.0.0:\n",
            "      Successfully uninstalled pyarrow-9.0.0\n",
            "  Attempting uninstall: protobuf\n",
            "    Found existing installation: protobuf 3.20.3\n",
            "    Uninstalling protobuf-3.20.3:\n",
            "      Successfully uninstalled protobuf-3.20.3\n",
            "  Attempting uninstall: dask\n",
            "    Found existing installation: dask 2022.12.1\n",
            "    Uninstalling dask-2022.12.1:\n",
            "      Successfully uninstalled dask-2022.12.1\n",
            "  Attempting uninstall: distributed\n",
            "    Found existing installation: distributed 2022.12.1\n",
            "    Uninstalling distributed-2022.12.1:\n",
            "      Successfully uninstalled distributed-2022.12.1\n",
            "ERROR: pip's dependency resolver does not currently take into account all the packages that are installed. This behaviour is the source of the following dependency conflicts.\n",
            "pandas-gbq 0.17.9 requires pyarrow<10.0dev,>=3.0.0, but you have pyarrow 10.0.1 which is incompatible.\n",
            "Successfully installed aiohttp-3.8.4 aiosignal-1.3.1 async-timeout-4.0.2 cubinlinker-cu11-0.3.0.post1 cuda-python-11.8.1 cudf-cu11-23.4.1 cugraph-cu11-23.4.1 cuml-cu11-23.4.1 dask-2023.3.2 dask-cuda-23.4.0 dask-cudf-cu11-23.4.1 distributed-2023.3.2.1 frozenlist-1.3.3 importlib-metadata-6.6.0 multidict-6.0.4 nvtx-0.2.5 protobuf-4.21.12 ptxcompiler-cu11-0.7.0.post1 pyarrow-10.0.1 pylibcugraph-cu11-23.4.1 pylibraft-cu11-23.4.1 pynvml-11.4.1 raft-dask-cu11-23.4.1 rmm-cu11-23.4.1 treelite-3.2.0 treelite-runtime-3.2.0 ucx-py-cu11-0.31.1 yarl-1.9.2\n",
            "Looking in indexes: https://pypi.org/simple, https://us-python.pkg.dev/colab-wheels/public/simple/\n",
            "Requirement already satisfied: cupy-cuda11x in /usr/local/lib/python3.10/dist-packages (11.0.0)\n",
            "Requirement already satisfied: numpy<1.26,>=1.20 in /usr/local/lib/python3.10/dist-packages (from cupy-cuda11x) (1.22.4)\n",
            "Requirement already satisfied: fastrlock>=0.5 in /usr/local/lib/python3.10/dist-packages (from cupy-cuda11x) (0.8.1)\n",
            "\n",
            "          ***********************************************************************\n",
            "          The pip install of RAPIDS is complete.\n",
            "          \n",
            "          Please do not run any further installation from the conda based installation methods, as they may cause issues!  \n",
            "          \n",
            "          Please ensure that you're pulling from the git repo to remain updated with the latest working install scripts. \n",
            "r          \n",
            "          Troubleshooting:\n",
            "             - If there is an installation failure, please check back on RAPIDSAI owned templates/notebooks to see how to update your personal files. \n",
            "             - If an installation failure persists when using the latest script, please make an issue on https://github.com/rapidsai-community/rapidsai-csp-utils\n",
            "          ***********************************************************************\n",
            "          \n"
          ]
        }
      ]
    },
    {
      "cell_type": "code",
      "execution_count": null,
      "metadata": {
        "colab": {
          "base_uri": "https://localhost:8080/"
        },
        "id": "Szl4ZS3nhAMt",
        "outputId": "85cdad3b-fc05-41be-cb5c-10e796dc9573"
      },
      "outputs": [
        {
          "output_type": "stream",
          "name": "stdout",
          "text": [
            "Looking in indexes: https://pypi.org/simple, https://us-python.pkg.dev/colab-wheels/public/simple/\n",
            "Requirement already satisfied: graphviz in /usr/local/lib/python3.10/dist-packages (0.20.1)\n"
          ]
        }
      ],
      "source": [
        "#@title Este nos viene bien para visualizar grafos\n",
        "!pip install graphviz"
      ]
    },
    {
      "source": [
        "# CUGRAPH\n",
        "\n",
        "Este es un ejemplito de como leer un csv con los edges de un grafo, visualizarlo, y realizar operaciones en la gpu."
      ],
      "cell_type": "markdown",
      "metadata": {
        "id": "D1fbP5pzhAMs"
      }
    },
    {
      "source": [
        "## Visualización del grafo y de la matriz de adyacencia"
      ],
      "cell_type": "markdown",
      "metadata": {
        "id": "9gRlRRvJhAMu"
      }
    },
    {
      "cell_type": "code",
      "execution_count": null,
      "metadata": {
        "colab": {
          "base_uri": "https://localhost:8080/",
          "height": 791
        },
        "id": "0SiUTRkkhAMu",
        "outputId": "b68cb44b-864a-4bc1-bd98-dffbb0325b3f"
      },
      "outputs": [
        {
          "output_type": "stream",
          "name": "stdout",
          "text": [
            "matriz de adjacencia:\n",
            " [[1. 1. 0. 0. 1. 0. 0. 0. 0.]\n",
            " [1. 0. 1. 0. 1. 0. 0. 0. 0.]\n",
            " [0. 1. 0. 1. 0. 0. 0. 0. 0.]\n",
            " [0. 0. 1. 0. 1. 1. 0. 0. 0.]\n",
            " [1. 1. 0. 1. 0. 0. 0. 0. 0.]\n",
            " [0. 0. 0. 1. 0. 0. 0. 0. 0.]\n",
            " [0. 0. 0. 0. 0. 0. 0. 1. 0.]\n",
            " [0. 0. 0. 0. 0. 0. 1. 0. 0.]\n",
            " [0. 0. 0. 0. 0. 0. 0. 0. 1.]]\n",
            "matriz de adjacencia a la 3:\n",
            " [[7. 6. 3. 3. 6. 1. 0. 0. 0.]\n",
            " [6. 3. 5. 1. 7. 2. 0. 0. 0.]\n",
            " [3. 5. 0. 5. 1. 0. 0. 0. 0.]\n",
            " [3. 1. 5. 0. 6. 3. 0. 0. 0.]\n",
            " [6. 7. 1. 6. 3. 0. 0. 0. 0.]\n",
            " [1. 2. 0. 3. 0. 0. 0. 0. 0.]\n",
            " [0. 0. 0. 0. 0. 0. 0. 1. 0.]\n",
            " [0. 0. 0. 0. 0. 0. 1. 0. 0.]\n",
            " [0. 0. 0. 0. 0. 0. 0. 0. 1.]]\n",
            "no zeros de la matriz:  18\n",
            "no zeros de la matriz^3:  32\n",
            "traza(G^3) =  14.0\n"
          ]
        },
        {
          "output_type": "execute_result",
          "data": {
            "image/svg+xml": "<?xml version=\"1.0\" encoding=\"UTF-8\" standalone=\"no\"?>\n<!DOCTYPE svg PUBLIC \"-//W3C//DTD SVG 1.1//EN\"\n \"http://www.w3.org/Graphics/SVG/1.1/DTD/svg11.dtd\">\n<!-- Generated by graphviz version 2.43.0 (0)\n -->\n<!-- Title: %3 Pages: 1 -->\n<svg width=\"694pt\" height=\"278pt\"\n viewBox=\"0.00 0.00 693.62 278.00\" xmlns=\"http://www.w3.org/2000/svg\" xmlns:xlink=\"http://www.w3.org/1999/xlink\">\n<g id=\"graph0\" class=\"graph\" transform=\"scale(1 1) rotate(0) translate(4 274)\">\n<title>%3</title>\n<polygon fill=\"white\" stroke=\"transparent\" points=\"-4,4 -4,-274 689.62,-274 689.62,4 -4,4\"/>\n<!-- 1 -->\n<g id=\"node1\" class=\"node\">\n<title>1</title>\n<ellipse fill=\"none\" stroke=\"black\" cx=\"567.85\" cy=\"-18\" rx=\"27\" ry=\"18\"/>\n<text text-anchor=\"middle\" x=\"567.85\" y=\"-14.3\" font-family=\"Times,serif\" font-size=\"14.00\">1</text>\n</g>\n<!-- 1&#45;&gt;1 -->\n<g id=\"edge1\" class=\"edge\">\n<title>1&#45;&gt;1</title>\n<path fill=\"none\" stroke=\"black\" d=\"M593.29,-24.69C603.87,-25.15 612.85,-22.92 612.85,-18 612.85,-14.77 608.98,-12.7 603.33,-11.79\"/>\n<polygon fill=\"black\" stroke=\"black\" points=\"603.45,-8.29 593.29,-11.31 603.11,-15.28 603.45,-8.29\"/>\n</g>\n<!-- 2 -->\n<g id=\"node2\" class=\"node\">\n<title>2</title>\n<ellipse fill=\"none\" stroke=\"black\" cx=\"482.66\" cy=\"-142.88\" rx=\"27\" ry=\"18\"/>\n<text text-anchor=\"middle\" x=\"482.66\" y=\"-139.18\" font-family=\"Times,serif\" font-size=\"14.00\">2</text>\n</g>\n<!-- 1&#45;&gt;2 -->\n<g id=\"edge2\" class=\"edge\">\n<title>1&#45;&gt;2</title>\n<path fill=\"none\" stroke=\"black\" d=\"M552,-32.63C535.17,-53.17 509.36,-90.67 494.29,-116.21\"/>\n<polygon fill=\"black\" stroke=\"black\" points=\"491.17,-114.61 489.26,-125.03 497.25,-118.07 491.17,-114.61\"/>\n</g>\n<!-- 5 -->\n<g id=\"node3\" class=\"node\">\n<title>5</title>\n<ellipse fill=\"none\" stroke=\"black\" cx=\"402.38\" cy=\"-22.12\" rx=\"27\" ry=\"18\"/>\n<text text-anchor=\"middle\" x=\"402.38\" y=\"-18.42\" font-family=\"Times,serif\" font-size=\"14.00\">5</text>\n</g>\n<!-- 1&#45;&gt;5 -->\n<g id=\"edge4\" class=\"edge\">\n<title>1&#45;&gt;5</title>\n<path fill=\"none\" stroke=\"black\" d=\"M541.5,-13.57C513.53,-12.26 469.16,-13.17 438.07,-15.56\"/>\n<polygon fill=\"black\" stroke=\"black\" points=\"437.74,-12.07 428.08,-16.42 438.34,-19.05 437.74,-12.07\"/>\n</g>\n<!-- 2&#45;&gt;1 -->\n<g id=\"edge3\" class=\"edge\">\n<title>2&#45;&gt;1</title>\n<path fill=\"none\" stroke=\"black\" d=\"M498.5,-128.25C515.33,-107.71 541.15,-70.21 556.22,-44.67\"/>\n<polygon fill=\"black\" stroke=\"black\" points=\"559.33,-46.28 561.24,-35.85 553.25,-42.81 559.33,-46.28\"/>\n</g>\n<!-- 2&#45;&gt;5 -->\n<g id=\"edge6\" class=\"edge\">\n<title>2&#45;&gt;5</title>\n<path fill=\"none\" stroke=\"black\" d=\"M476.52,-125.26C465.28,-103.99 441.98,-68.33 424.38,-44.98\"/>\n<polygon fill=\"black\" stroke=\"black\" points=\"427.07,-42.75 418.18,-36.98 421.54,-47.03 427.07,-42.75\"/>\n</g>\n<!-- 3 -->\n<g id=\"node5\" class=\"node\">\n<title>3</title>\n<ellipse fill=\"none\" stroke=\"black\" cx=\"323.17\" cy=\"-211.54\" rx=\"27\" ry=\"18\"/>\n<text text-anchor=\"middle\" x=\"323.17\" y=\"-207.84\" font-family=\"Times,serif\" font-size=\"14.00\">3</text>\n</g>\n<!-- 2&#45;&gt;3 -->\n<g id=\"edge13\" class=\"edge\">\n<title>2&#45;&gt;3</title>\n<path fill=\"none\" stroke=\"black\" d=\"M456.81,-148.58C427.71,-158.71 380.66,-178.81 350.83,-193.75\"/>\n<polygon fill=\"black\" stroke=\"black\" points=\"349.09,-190.72 341.8,-198.4 352.29,-196.94 349.09,-190.72\"/>\n</g>\n<!-- 5&#45;&gt;1 -->\n<g id=\"edge5\" class=\"edge\">\n<title>5&#45;&gt;1</title>\n<path fill=\"none\" stroke=\"black\" d=\"M428.72,-26.56C456.69,-27.86 501.06,-26.95 532.16,-24.57\"/>\n<polygon fill=\"black\" stroke=\"black\" points=\"532.49,-28.05 542.15,-23.7 531.88,-21.08 532.49,-28.05\"/>\n</g>\n<!-- 5&#45;&gt;2 -->\n<g id=\"edge7\" class=\"edge\">\n<title>5&#45;&gt;2</title>\n<path fill=\"none\" stroke=\"black\" d=\"M408.52,-39.74C419.76,-61.01 443.05,-96.67 460.66,-120.02\"/>\n<polygon fill=\"black\" stroke=\"black\" points=\"457.96,-122.26 466.85,-128.02 463.5,-117.97 457.96,-122.26\"/>\n</g>\n<!-- 4 -->\n<g id=\"node4\" class=\"node\">\n<title>4</title>\n<ellipse fill=\"none\" stroke=\"black\" cx=\"211.3\" cy=\"-78.57\" rx=\"27\" ry=\"18\"/>\n<text text-anchor=\"middle\" x=\"211.3\" y=\"-74.87\" font-family=\"Times,serif\" font-size=\"14.00\">4</text>\n</g>\n<!-- 5&#45;&gt;4 -->\n<g id=\"edge8\" class=\"edge\">\n<title>5&#45;&gt;4</title>\n<path fill=\"none\" stroke=\"black\" d=\"M375.66,-25.05C340.71,-32.79 279.62,-50.66 242.57,-63.87\"/>\n<polygon fill=\"black\" stroke=\"black\" points=\"240.98,-60.73 232.79,-67.46 243.39,-67.3 240.98,-60.73\"/>\n</g>\n<!-- 4&#45;&gt;5 -->\n<g id=\"edge9\" class=\"edge\">\n<title>4&#45;&gt;5</title>\n<path fill=\"none\" stroke=\"black\" d=\"M238.02,-75.64C272.96,-67.9 334.05,-50.03 371.11,-36.82\"/>\n<polygon fill=\"black\" stroke=\"black\" points=\"372.7,-39.96 380.88,-33.23 370.29,-33.39 372.7,-39.96\"/>\n</g>\n<!-- 4&#45;&gt;3 -->\n<g id=\"edge10\" class=\"edge\">\n<title>4&#45;&gt;3</title>\n<path fill=\"none\" stroke=\"black\" d=\"M220.11,-95.89C236.97,-120.21 273.53,-164.17 298.34,-190.38\"/>\n<polygon fill=\"black\" stroke=\"black\" points=\"295.84,-192.84 305.31,-197.59 300.87,-187.97 295.84,-192.84\"/>\n</g>\n<!-- 6 -->\n<g id=\"node8\" class=\"node\">\n<title>6</title>\n<ellipse fill=\"none\" stroke=\"black\" cx=\"27\" cy=\"-46.04\" rx=\"27\" ry=\"18\"/>\n<text text-anchor=\"middle\" x=\"27\" y=\"-42.34\" font-family=\"Times,serif\" font-size=\"14.00\">6</text>\n</g>\n<!-- 4&#45;&gt;6 -->\n<g id=\"edge16\" class=\"edge\">\n<title>4&#45;&gt;6</title>\n<path fill=\"none\" stroke=\"black\" d=\"M187.65,-69.56C156.51,-61.66 101.43,-51.68 64.56,-47.07\"/>\n<polygon fill=\"black\" stroke=\"black\" points=\"64.55,-43.55 54.21,-45.87 63.74,-50.5 64.55,-43.55\"/>\n</g>\n<!-- 3&#45;&gt;2 -->\n<g id=\"edge12\" class=\"edge\">\n<title>3&#45;&gt;2</title>\n<path fill=\"none\" stroke=\"black\" d=\"M349.02,-205.84C378.12,-195.71 425.17,-175.61 454.99,-160.67\"/>\n<polygon fill=\"black\" stroke=\"black\" points=\"456.74,-163.71 464.03,-156.02 453.53,-157.48 456.74,-163.71\"/>\n</g>\n<!-- 3&#45;&gt;4 -->\n<g id=\"edge11\" class=\"edge\">\n<title>3&#45;&gt;4</title>\n<path fill=\"none\" stroke=\"black\" d=\"M314.35,-194.22C297.5,-169.9 260.94,-125.94 236.13,-99.72\"/>\n<polygon fill=\"black\" stroke=\"black\" points=\"238.63,-97.27 229.16,-92.52 233.59,-102.14 238.63,-97.27\"/>\n</g>\n<!-- 8 -->\n<g id=\"node6\" class=\"node\">\n<title>8</title>\n<ellipse fill=\"none\" stroke=\"black\" cx=\"658.62\" cy=\"-252\" rx=\"27\" ry=\"18\"/>\n<text text-anchor=\"middle\" x=\"658.62\" y=\"-248.3\" font-family=\"Times,serif\" font-size=\"14.00\">8</text>\n</g>\n<!-- 7 -->\n<g id=\"node7\" class=\"node\">\n<title>7</title>\n<ellipse fill=\"none\" stroke=\"black\" cx=\"469\" cy=\"-252\" rx=\"27\" ry=\"18\"/>\n<text text-anchor=\"middle\" x=\"469\" y=\"-248.3\" font-family=\"Times,serif\" font-size=\"14.00\">7</text>\n</g>\n<!-- 8&#45;&gt;7 -->\n<g id=\"edge14\" class=\"edge\">\n<title>8&#45;&gt;7</title>\n<path fill=\"none\" stroke=\"black\" d=\"M632.25,-247.16C599.28,-244.84 542.66,-244.63 505.53,-246.54\"/>\n<polygon fill=\"black\" stroke=\"black\" points=\"504.91,-243.07 495.14,-247.17 505.33,-250.06 504.91,-243.07\"/>\n</g>\n<!-- 7&#45;&gt;8 -->\n<g id=\"edge15\" class=\"edge\">\n<title>7&#45;&gt;8</title>\n<path fill=\"none\" stroke=\"black\" d=\"M495.37,-256.84C528.34,-259.16 584.96,-259.37 622.09,-257.46\"/>\n<polygon fill=\"black\" stroke=\"black\" points=\"622.71,-260.93 632.48,-256.83 622.28,-253.94 622.71,-260.93\"/>\n</g>\n<!-- 6&#45;&gt;4 -->\n<g id=\"edge17\" class=\"edge\">\n<title>6&#45;&gt;4</title>\n<path fill=\"none\" stroke=\"black\" d=\"M50.65,-55.05C81.78,-62.95 136.87,-72.93 173.74,-77.54\"/>\n<polygon fill=\"black\" stroke=\"black\" points=\"173.74,-81.06 184.08,-78.74 174.55,-74.11 173.74,-81.06\"/>\n</g>\n<!-- 9 -->\n<g id=\"node9\" class=\"node\">\n<title>9</title>\n<ellipse fill=\"none\" stroke=\"black\" cx=\"365\" cy=\"-122\" rx=\"27\" ry=\"18\"/>\n<text text-anchor=\"middle\" x=\"365\" y=\"-118.3\" font-family=\"Times,serif\" font-size=\"14.00\">9</text>\n</g>\n<!-- 9&#45;&gt;9 -->\n<g id=\"edge18\" class=\"edge\">\n<title>9&#45;&gt;9</title>\n<path fill=\"none\" stroke=\"black\" d=\"M390.44,-128.69C401.03,-129.15 410,-126.92 410,-122 410,-118.77 406.14,-116.7 400.49,-115.79\"/>\n<polygon fill=\"black\" stroke=\"black\" points=\"400.6,-112.29 390.44,-115.31 400.27,-119.28 400.6,-112.29\"/>\n</g>\n</g>\n</svg>\n",
            "text/plain": [
              "<graphviz.graphs.Digraph at 0x7f5f1289a260>"
            ]
          },
          "metadata": {},
          "execution_count": 4
        }
      ],
      "source": [
        "#########################################\n",
        "# Echemosle un vistazo al grafo usando graphiz\n",
        "\n",
        "import cugraph\n",
        "import cudf\n",
        "import cupy as cp\n",
        "from graphviz import Digraph\n",
        "\n",
        "# read data into a cuDF DataFrame using read_csv\n",
        "#gdf = cudf.read_csv(\"graph_data.csv\", names=[\"src\", \"dst\"], dtype=[\"int32\", \"int32\"])\n",
        "gdf = cudf.read_csv(\"https://raw.githubusercontent.com/droyktton/data/main/graph_data.csv\")\n",
        "dot = Digraph(comment='ICNPG2023',engine='sfdp')\n",
        "\n",
        "gpa=gdf.to_pandas()\n",
        "\n",
        "madj=cp.zeros((9,9))\n",
        "\n",
        "for a, b in gpa.itertuples(index=False):\n",
        "    dot.edge(str(a),str(b), constraint='false')\n",
        "    madj[a-1,b-1]=1\n",
        "    #print(a, b)\n",
        "\n",
        "\n",
        "print(\"matriz de adjacencia:\\n\",madj)\n",
        "\n",
        "madj3=cp.linalg.matrix_power(madj,3)\n",
        "print(\"matriz de adjacencia a la 3:\\n\",madj3)\n",
        "\n",
        "print(\"no zeros de la matriz: \",cp.flatnonzero(madj).size)\n",
        "print(\"no zeros de la matriz^3: \",cp.flatnonzero(madj3).size)\n",
        "\n",
        "print(\"traza(G^3) = \", cp.trace(madj3))\n",
        "\n",
        "dot"
      ]
    },
    {
      "source": [
        "##  CUGRAPH para obtener propiedades del grafo"
      ],
      "cell_type": "markdown",
      "metadata": {
        "id": "gswtVAY7hAMu"
      }
    },
    {
      "cell_type": "code",
      "execution_count": null,
      "metadata": {
        "colab": {
          "base_uri": "https://localhost:8080/"
        },
        "id": "R0g9oaEYhAMu",
        "outputId": "2e9ff448-6c19-4fe9-f08c-8db963f37eb2"
      },
      "outputs": [
        {
          "output_type": "stream",
          "name": "stdout",
          "text": [
            "\n",
            "\n",
            "\n",
            "vertex 1 PageRank is 0.12384827\n",
            "vertex 2 PageRank is 0.12706584\n",
            "vertex 4 PageRank is 0.13981377\n",
            "vertex 5 PageRank is 0.12737396\n",
            "vertex 3 PageRank is 0.09228361\n",
            "vertex 6 PageRank is 0.05628124\n",
            "vertex 7 PageRank is 0.11111111\n",
            "vertex 8 PageRank is 0.11111111\n",
            "vertex 9 PageRank is 0.11111111\n",
            "\n",
            "\n",
            "\n",
            "Total number of components found :  3\n",
            "Size of the largest component is found to be :  6\n",
            "Size of the smallest component is found to be :  1\n",
            "\n",
            "\n",
            "\n",
            "no todos los caminos conducen al nodo 1, y estos son los minimos:\n",
            "1 :  [1]\n",
            "2 :  [2, 1]\n",
            "4 :  [4, 5, 1]\n",
            "5 :  [5, 1]\n",
            "3 :  [3, 2, 1]\n",
            "6 :  [6, 4, 5, 1]\n",
            "7 :  [7]\n",
            "8 :  [8]\n",
            "9 :  [9]\n",
            "\n",
            "\n",
            "\n"
          ]
        },
        {
          "output_type": "stream",
          "name": "stderr",
          "text": [
            "/usr/local/lib/python3.10/dist-packages/cugraph/link_analysis/pagerank.py:200: UserWarning: Pagerank expects the 'store_transposed' flag to be set to 'True' for optimal performance during the graph creation\n",
            "  warnings.warn(warning_msg, UserWarning)\n"
          ]
        }
      ],
      "source": [
        "import cugraph\n",
        "import cudf\n",
        "\n",
        "# read data into a cuDF DataFrame using read_csv\n",
        "#gdf = cudf.read_csv(\"graph_data.csv\", names=[\"src\", \"dst\"], dtype=[\"int32\", \"int32\"])\n",
        "gdf = cudf.read_csv(\"https://raw.githubusercontent.com/droyktton/data/main/graph_data.csv\")\n",
        "\n",
        "# pesos (necesarios para algunas cosas nomas)\n",
        "gdf[\"data\"] = 1.0\n",
        "\n",
        "\n",
        "# We now have data as edge pairs\n",
        "# create a Graph using the source (src) and destination (dst) vertex pairs\n",
        "G = cugraph.Graph()\n",
        "G.from_cudf_edgelist(gdf, source='src', destination='dst')\n",
        "\n",
        "print(\"\\n\\n\")\n",
        "\n",
        "\n",
        "\n",
        "######################################\n",
        "#https://es.wikipedia.org/wiki/PageRank\n",
        "#\n",
        "# PR(A) = (1-d)+d Sum_{i=1}^n PR(i)/C(i)\n",
        "#\n",
        "# A es el PageRank de la página A.\n",
        "# d es un factor de amortiguación que tiene un valor entre 0 y 1.\n",
        "# PR(i)son los valores de PageRank que tienen cada una de las páginas i que enlazan a A.\n",
        "# C(i) es el número total de enlaces salientes de la página i (sean o no hacia A).\n",
        "\n",
        "# Let's now get the PageRank score of each vertex by calling cugraph.pagerank\n",
        "df_page = cugraph.pagerank(G)\n",
        "\n",
        "# Let's look at the PageRank Score (only do this on small graphs)\n",
        "for i in range(len(df_page)):\n",
        "\tprint(\"vertex \" + str(df_page['vertex'].iloc[i]) +\n",
        "\t\t\" PageRank is \" + str(df_page['pagerank'].iloc[i]))\n",
        "\n",
        "print(\"\\n\\n\")\n",
        "\n",
        "#####################################\n",
        "#https://en.wikipedia.org/wiki/Component_(graph_theory)\n",
        "\n",
        "# Call cugraph.weakly_connected_components on the dataframe\n",
        "df_cc = cugraph.weakly_connected_components(G)\n",
        "\n",
        "# Use groupby on the 'labels' column of the WCC output to get the counts of each connected component label\n",
        "label_gby = df_cc.groupby('labels')\n",
        "label_count = label_gby.count()\n",
        "\n",
        "print(\"Total number of components found : \", len(label_count))\n",
        "\n",
        "# Call nlargest on the groupby result to get the row where the component count is the largest\n",
        "largest_component = label_count.nlargest(n = 1, columns = 'vertex')\n",
        "print(\"Size of the largest component is found to be : \", largest_component['vertex'].iloc[0])\n",
        "\n",
        "smallest_component = label_count.nsmallest(n = 1, columns = 'vertex')\n",
        "print(\"Size of the smallest component is found to be : \", smallest_component['vertex'].iloc[0])\n",
        "\n",
        "#df_cc.head(20)\n",
        "\n",
        "print(\"\\n\\n\")\n",
        "\n",
        "#############################################################\n",
        "# https://en.wikipedia.org/wiki/Shortest_path_problem\n",
        "# Call cugraph.sssp to get the distances from vertex 1:\n",
        "\n",
        "df_ssp = cugraph.sssp(G, 1)\n",
        "\n",
        "print(\"no todos los caminos conducen al nodo 1, y estos son los minimos:\")\n",
        "\n",
        "# Print the paths\n",
        "for index, row in df_ssp.to_pandas().iterrows():\n",
        "    v = int(row['vertex'])\n",
        "    p = cugraph.utils.get_traversed_path_list(df_ssp, v)\n",
        "    print(v, ': ', p)\n",
        "\n",
        "print(\"\\n\\n\")\n"
      ]
    },
    {
      "source": [
        "## CUDF como pandas, pero en GPU"
      ],
      "cell_type": "markdown",
      "metadata": {
        "id": "C9r2tVVahAMv"
      }
    },
    {
      "cell_type": "code",
      "execution_count": null,
      "metadata": {
        "colab": {
          "base_uri": "https://localhost:8080/"
        },
        "id": "3YGAN4B4hAMv",
        "outputId": "a0ccc7db-e525-4d2f-d2c5-e008eef3315f"
      },
      "outputs": [
        {
          "output_type": "stream",
          "name": "stdout",
          "text": [
            "size\n",
            "6    15.622920\n",
            "1    21.729202\n",
            "4    14.594901\n",
            "3    15.215685\n",
            "2    16.571919\n",
            "5    14.149549\n",
            "Name: tip_percentage, dtype: float64\n"
          ]
        }
      ],
      "source": [
        "import cudf\n",
        "import io, requests\n",
        "\n",
        "# download CSV file from GitHub\n",
        "url=\"https://github.com/plotly/datasets/raw/master/tips.csv\"\n",
        "content = requests.get(url).content.decode('utf-8')\n",
        "\n",
        "# read CSV from memory\n",
        "tips_df = cudf.read_csv(io.StringIO(content))\n",
        "tips_df['tip_percentage'] = tips_df['tip']/tips_df['total_bill']*100\n",
        "\n",
        "# display average tip by dining party size\n",
        "print(tips_df.groupby('size').tip_percentage.mean())"
      ]
    },
    {
      "cell_type": "code",
      "source": [],
      "metadata": {
        "id": "gxNq4dtMn47F"
      },
      "execution_count": null,
      "outputs": []
    }
  ]
}